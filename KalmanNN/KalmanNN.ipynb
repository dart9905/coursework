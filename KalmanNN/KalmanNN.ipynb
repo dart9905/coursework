{
  "nbformat": 4,
  "nbformat_minor": 0,
  "metadata": {
    "kernelspec": {
      "display_name": "Python 3",
      "language": "python",
      "name": "python3"
    },
    "language_info": {
      "codemirror_mode": {
        "name": "ipython",
        "version": 3
      },
      "file_extension": ".py",
      "mimetype": "text/x-python",
      "name": "python",
      "nbconvert_exporter": "python",
      "pygments_lexer": "ipython3",
      "version": "3.8.3"
    },
    "colab": {
      "name": "KalmanNN.ipynb",
      "provenance": [],
      "collapsed_sections": [],
      "toc_visible": true
    },
    "accelerator": "GPU",
    "widgets": {
      "application/vnd.jupyter.widget-state+json": {
        "cab14586516f445987c4535204f85a06": {
          "model_module": "@jupyter-widgets/controls",
          "model_name": "HBoxModel",
          "state": {
            "_view_name": "HBoxView",
            "_dom_classes": [],
            "_model_name": "HBoxModel",
            "_view_module": "@jupyter-widgets/controls",
            "_model_module_version": "1.5.0",
            "_view_count": null,
            "_view_module_version": "1.5.0",
            "box_style": "",
            "layout": "IPY_MODEL_941ff916ab8641d882c8f29d71fb75ce",
            "_model_module": "@jupyter-widgets/controls",
            "children": [
              "IPY_MODEL_c394ce579be140669cf08964f767e4e5",
              "IPY_MODEL_d48f88d7cc724d9780c394dd936f438d"
            ]
          }
        },
        "941ff916ab8641d882c8f29d71fb75ce": {
          "model_module": "@jupyter-widgets/base",
          "model_name": "LayoutModel",
          "state": {
            "_view_name": "LayoutView",
            "grid_template_rows": null,
            "right": null,
            "justify_content": null,
            "_view_module": "@jupyter-widgets/base",
            "overflow": null,
            "_model_module_version": "1.2.0",
            "_view_count": null,
            "flex_flow": null,
            "width": null,
            "min_width": null,
            "border": null,
            "align_items": null,
            "bottom": null,
            "_model_module": "@jupyter-widgets/base",
            "top": null,
            "grid_column": null,
            "overflow_y": null,
            "overflow_x": null,
            "grid_auto_flow": null,
            "grid_area": null,
            "grid_template_columns": null,
            "flex": null,
            "_model_name": "LayoutModel",
            "justify_items": null,
            "grid_row": null,
            "max_height": null,
            "align_content": null,
            "visibility": null,
            "align_self": null,
            "height": null,
            "min_height": null,
            "padding": null,
            "grid_auto_rows": null,
            "grid_gap": null,
            "max_width": null,
            "order": null,
            "_view_module_version": "1.2.0",
            "grid_template_areas": null,
            "object_position": null,
            "object_fit": null,
            "grid_auto_columns": null,
            "margin": null,
            "display": null,
            "left": null
          }
        },
        "c394ce579be140669cf08964f767e4e5": {
          "model_module": "@jupyter-widgets/controls",
          "model_name": "FloatProgressModel",
          "state": {
            "_view_name": "ProgressView",
            "style": "IPY_MODEL_eb5d420a536042eda75fe41985bfdde0",
            "_dom_classes": [],
            "description": "Collecting strided data: 100%",
            "_model_name": "FloatProgressModel",
            "bar_style": "success",
            "max": 700,
            "_view_module": "@jupyter-widgets/controls",
            "_model_module_version": "1.5.0",
            "value": 700,
            "_view_count": null,
            "_view_module_version": "1.5.0",
            "orientation": "horizontal",
            "min": 0,
            "description_tooltip": null,
            "_model_module": "@jupyter-widgets/controls",
            "layout": "IPY_MODEL_0382cfa1b829466696046377685a5322"
          }
        },
        "d48f88d7cc724d9780c394dd936f438d": {
          "model_module": "@jupyter-widgets/controls",
          "model_name": "HTMLModel",
          "state": {
            "_view_name": "HTMLView",
            "style": "IPY_MODEL_30e8b6f76c994124b9fd48c694a86c63",
            "_dom_classes": [],
            "description": "",
            "_model_name": "HTMLModel",
            "placeholder": "​",
            "_view_module": "@jupyter-widgets/controls",
            "_model_module_version": "1.5.0",
            "value": " 700/700 [00:48&lt;00:00, 14.40it/s]",
            "_view_count": null,
            "_view_module_version": "1.5.0",
            "description_tooltip": null,
            "_model_module": "@jupyter-widgets/controls",
            "layout": "IPY_MODEL_dab76d75ad904d7992d84098bbfdf893"
          }
        },
        "eb5d420a536042eda75fe41985bfdde0": {
          "model_module": "@jupyter-widgets/controls",
          "model_name": "ProgressStyleModel",
          "state": {
            "_view_name": "StyleView",
            "_model_name": "ProgressStyleModel",
            "description_width": "initial",
            "_view_module": "@jupyter-widgets/base",
            "_model_module_version": "1.5.0",
            "_view_count": null,
            "_view_module_version": "1.2.0",
            "bar_color": null,
            "_model_module": "@jupyter-widgets/controls"
          }
        },
        "0382cfa1b829466696046377685a5322": {
          "model_module": "@jupyter-widgets/base",
          "model_name": "LayoutModel",
          "state": {
            "_view_name": "LayoutView",
            "grid_template_rows": null,
            "right": null,
            "justify_content": null,
            "_view_module": "@jupyter-widgets/base",
            "overflow": null,
            "_model_module_version": "1.2.0",
            "_view_count": null,
            "flex_flow": null,
            "width": null,
            "min_width": null,
            "border": null,
            "align_items": null,
            "bottom": null,
            "_model_module": "@jupyter-widgets/base",
            "top": null,
            "grid_column": null,
            "overflow_y": null,
            "overflow_x": null,
            "grid_auto_flow": null,
            "grid_area": null,
            "grid_template_columns": null,
            "flex": null,
            "_model_name": "LayoutModel",
            "justify_items": null,
            "grid_row": null,
            "max_height": null,
            "align_content": null,
            "visibility": null,
            "align_self": null,
            "height": null,
            "min_height": null,
            "padding": null,
            "grid_auto_rows": null,
            "grid_gap": null,
            "max_width": null,
            "order": null,
            "_view_module_version": "1.2.0",
            "grid_template_areas": null,
            "object_position": null,
            "object_fit": null,
            "grid_auto_columns": null,
            "margin": null,
            "display": null,
            "left": null
          }
        },
        "30e8b6f76c994124b9fd48c694a86c63": {
          "model_module": "@jupyter-widgets/controls",
          "model_name": "DescriptionStyleModel",
          "state": {
            "_view_name": "StyleView",
            "_model_name": "DescriptionStyleModel",
            "description_width": "",
            "_view_module": "@jupyter-widgets/base",
            "_model_module_version": "1.5.0",
            "_view_count": null,
            "_view_module_version": "1.2.0",
            "_model_module": "@jupyter-widgets/controls"
          }
        },
        "dab76d75ad904d7992d84098bbfdf893": {
          "model_module": "@jupyter-widgets/base",
          "model_name": "LayoutModel",
          "state": {
            "_view_name": "LayoutView",
            "grid_template_rows": null,
            "right": null,
            "justify_content": null,
            "_view_module": "@jupyter-widgets/base",
            "overflow": null,
            "_model_module_version": "1.2.0",
            "_view_count": null,
            "flex_flow": null,
            "width": null,
            "min_width": null,
            "border": null,
            "align_items": null,
            "bottom": null,
            "_model_module": "@jupyter-widgets/base",
            "top": null,
            "grid_column": null,
            "overflow_y": null,
            "overflow_x": null,
            "grid_auto_flow": null,
            "grid_area": null,
            "grid_template_columns": null,
            "flex": null,
            "_model_name": "LayoutModel",
            "justify_items": null,
            "grid_row": null,
            "max_height": null,
            "align_content": null,
            "visibility": null,
            "align_self": null,
            "height": null,
            "min_height": null,
            "padding": null,
            "grid_auto_rows": null,
            "grid_gap": null,
            "max_width": null,
            "order": null,
            "_view_module_version": "1.2.0",
            "grid_template_areas": null,
            "object_position": null,
            "object_fit": null,
            "grid_auto_columns": null,
            "margin": null,
            "display": null,
            "left": null
          }
        },
        "5082074a0bdf4b469ac8514c321e11dd": {
          "model_module": "@jupyter-widgets/controls",
          "model_name": "HBoxModel",
          "state": {
            "_view_name": "HBoxView",
            "_dom_classes": [],
            "_model_name": "HBoxModel",
            "_view_module": "@jupyter-widgets/controls",
            "_model_module_version": "1.5.0",
            "_view_count": null,
            "_view_module_version": "1.5.0",
            "box_style": "",
            "layout": "IPY_MODEL_d63c36a3780e4cd5b1b55be0d32e59cf",
            "_model_module": "@jupyter-widgets/controls",
            "children": [
              "IPY_MODEL_e0df7e1cd67f4b5cbb2ca67e4d439ae9",
              "IPY_MODEL_6fb007cf51e74617ba3d35c3be0dd03c"
            ]
          }
        },
        "d63c36a3780e4cd5b1b55be0d32e59cf": {
          "model_module": "@jupyter-widgets/base",
          "model_name": "LayoutModel",
          "state": {
            "_view_name": "LayoutView",
            "grid_template_rows": null,
            "right": null,
            "justify_content": null,
            "_view_module": "@jupyter-widgets/base",
            "overflow": null,
            "_model_module_version": "1.2.0",
            "_view_count": null,
            "flex_flow": null,
            "width": null,
            "min_width": null,
            "border": null,
            "align_items": null,
            "bottom": null,
            "_model_module": "@jupyter-widgets/base",
            "top": null,
            "grid_column": null,
            "overflow_y": null,
            "overflow_x": null,
            "grid_auto_flow": null,
            "grid_area": null,
            "grid_template_columns": null,
            "flex": null,
            "_model_name": "LayoutModel",
            "justify_items": null,
            "grid_row": null,
            "max_height": null,
            "align_content": null,
            "visibility": null,
            "align_self": null,
            "height": null,
            "min_height": null,
            "padding": null,
            "grid_auto_rows": null,
            "grid_gap": null,
            "max_width": null,
            "order": null,
            "_view_module_version": "1.2.0",
            "grid_template_areas": null,
            "object_position": null,
            "object_fit": null,
            "grid_auto_columns": null,
            "margin": null,
            "display": null,
            "left": null
          }
        },
        "e0df7e1cd67f4b5cbb2ca67e4d439ae9": {
          "model_module": "@jupyter-widgets/controls",
          "model_name": "FloatProgressModel",
          "state": {
            "_view_name": "ProgressView",
            "style": "IPY_MODEL_acbd42fae56549f5baf2dbd4e0baf5e5",
            "_dom_classes": [],
            "description": "Collecting strided data: 100%",
            "_model_name": "FloatProgressModel",
            "bar_style": "success",
            "max": 100,
            "_view_module": "@jupyter-widgets/controls",
            "_model_module_version": "1.5.0",
            "value": 100,
            "_view_count": null,
            "_view_module_version": "1.5.0",
            "orientation": "horizontal",
            "min": 0,
            "description_tooltip": null,
            "_model_module": "@jupyter-widgets/controls",
            "layout": "IPY_MODEL_4f27e71db0de4bef8b195ab862a559c2"
          }
        },
        "6fb007cf51e74617ba3d35c3be0dd03c": {
          "model_module": "@jupyter-widgets/controls",
          "model_name": "HTMLModel",
          "state": {
            "_view_name": "HTMLView",
            "style": "IPY_MODEL_e30bf1d427a0411d90b8c8c16a078727",
            "_dom_classes": [],
            "description": "",
            "_model_name": "HTMLModel",
            "placeholder": "​",
            "_view_module": "@jupyter-widgets/controls",
            "_model_module_version": "1.5.0",
            "value": " 100/100 [00:00&lt;00:00, 132.89it/s]",
            "_view_count": null,
            "_view_module_version": "1.5.0",
            "description_tooltip": null,
            "_model_module": "@jupyter-widgets/controls",
            "layout": "IPY_MODEL_531cdebdba0f41c58f930d2f2685b5c9"
          }
        },
        "acbd42fae56549f5baf2dbd4e0baf5e5": {
          "model_module": "@jupyter-widgets/controls",
          "model_name": "ProgressStyleModel",
          "state": {
            "_view_name": "StyleView",
            "_model_name": "ProgressStyleModel",
            "description_width": "initial",
            "_view_module": "@jupyter-widgets/base",
            "_model_module_version": "1.5.0",
            "_view_count": null,
            "_view_module_version": "1.2.0",
            "bar_color": null,
            "_model_module": "@jupyter-widgets/controls"
          }
        },
        "4f27e71db0de4bef8b195ab862a559c2": {
          "model_module": "@jupyter-widgets/base",
          "model_name": "LayoutModel",
          "state": {
            "_view_name": "LayoutView",
            "grid_template_rows": null,
            "right": null,
            "justify_content": null,
            "_view_module": "@jupyter-widgets/base",
            "overflow": null,
            "_model_module_version": "1.2.0",
            "_view_count": null,
            "flex_flow": null,
            "width": null,
            "min_width": null,
            "border": null,
            "align_items": null,
            "bottom": null,
            "_model_module": "@jupyter-widgets/base",
            "top": null,
            "grid_column": null,
            "overflow_y": null,
            "overflow_x": null,
            "grid_auto_flow": null,
            "grid_area": null,
            "grid_template_columns": null,
            "flex": null,
            "_model_name": "LayoutModel",
            "justify_items": null,
            "grid_row": null,
            "max_height": null,
            "align_content": null,
            "visibility": null,
            "align_self": null,
            "height": null,
            "min_height": null,
            "padding": null,
            "grid_auto_rows": null,
            "grid_gap": null,
            "max_width": null,
            "order": null,
            "_view_module_version": "1.2.0",
            "grid_template_areas": null,
            "object_position": null,
            "object_fit": null,
            "grid_auto_columns": null,
            "margin": null,
            "display": null,
            "left": null
          }
        },
        "e30bf1d427a0411d90b8c8c16a078727": {
          "model_module": "@jupyter-widgets/controls",
          "model_name": "DescriptionStyleModel",
          "state": {
            "_view_name": "StyleView",
            "_model_name": "DescriptionStyleModel",
            "description_width": "",
            "_view_module": "@jupyter-widgets/base",
            "_model_module_version": "1.5.0",
            "_view_count": null,
            "_view_module_version": "1.2.0",
            "_model_module": "@jupyter-widgets/controls"
          }
        },
        "531cdebdba0f41c58f930d2f2685b5c9": {
          "model_module": "@jupyter-widgets/base",
          "model_name": "LayoutModel",
          "state": {
            "_view_name": "LayoutView",
            "grid_template_rows": null,
            "right": null,
            "justify_content": null,
            "_view_module": "@jupyter-widgets/base",
            "overflow": null,
            "_model_module_version": "1.2.0",
            "_view_count": null,
            "flex_flow": null,
            "width": null,
            "min_width": null,
            "border": null,
            "align_items": null,
            "bottom": null,
            "_model_module": "@jupyter-widgets/base",
            "top": null,
            "grid_column": null,
            "overflow_y": null,
            "overflow_x": null,
            "grid_auto_flow": null,
            "grid_area": null,
            "grid_template_columns": null,
            "flex": null,
            "_model_name": "LayoutModel",
            "justify_items": null,
            "grid_row": null,
            "max_height": null,
            "align_content": null,
            "visibility": null,
            "align_self": null,
            "height": null,
            "min_height": null,
            "padding": null,
            "grid_auto_rows": null,
            "grid_gap": null,
            "max_width": null,
            "order": null,
            "_view_module_version": "1.2.0",
            "grid_template_areas": null,
            "object_position": null,
            "object_fit": null,
            "grid_auto_columns": null,
            "margin": null,
            "display": null,
            "left": null
          }
        },
        "e4238f72fb2f40fa9a2a3da105b85b83": {
          "model_module": "@jupyter-widgets/controls",
          "model_name": "HBoxModel",
          "state": {
            "_view_name": "HBoxView",
            "_dom_classes": [],
            "_model_name": "HBoxModel",
            "_view_module": "@jupyter-widgets/controls",
            "_model_module_version": "1.5.0",
            "_view_count": null,
            "_view_module_version": "1.5.0",
            "box_style": "",
            "layout": "IPY_MODEL_a54321ece9df4094a1e96ae6f1dd9d5a",
            "_model_module": "@jupyter-widgets/controls",
            "children": [
              "IPY_MODEL_5837e98d84474bd5a54b6f62d6149286",
              "IPY_MODEL_524ef4ae9d954f9fbbef2b5ccb4ca76b"
            ]
          }
        },
        "a54321ece9df4094a1e96ae6f1dd9d5a": {
          "model_module": "@jupyter-widgets/base",
          "model_name": "LayoutModel",
          "state": {
            "_view_name": "LayoutView",
            "grid_template_rows": null,
            "right": null,
            "justify_content": null,
            "_view_module": "@jupyter-widgets/base",
            "overflow": null,
            "_model_module_version": "1.2.0",
            "_view_count": null,
            "flex_flow": null,
            "width": null,
            "min_width": null,
            "border": null,
            "align_items": null,
            "bottom": null,
            "_model_module": "@jupyter-widgets/base",
            "top": null,
            "grid_column": null,
            "overflow_y": null,
            "overflow_x": null,
            "grid_auto_flow": null,
            "grid_area": null,
            "grid_template_columns": null,
            "flex": null,
            "_model_name": "LayoutModel",
            "justify_items": null,
            "grid_row": null,
            "max_height": null,
            "align_content": null,
            "visibility": null,
            "align_self": null,
            "height": null,
            "min_height": null,
            "padding": null,
            "grid_auto_rows": null,
            "grid_gap": null,
            "max_width": null,
            "order": null,
            "_view_module_version": "1.2.0",
            "grid_template_areas": null,
            "object_position": null,
            "object_fit": null,
            "grid_auto_columns": null,
            "margin": null,
            "display": null,
            "left": null
          }
        },
        "5837e98d84474bd5a54b6f62d6149286": {
          "model_module": "@jupyter-widgets/controls",
          "model_name": "FloatProgressModel",
          "state": {
            "_view_name": "ProgressView",
            "style": "IPY_MODEL_21998cce6a9a40a3ab64c244b571597d",
            "_dom_classes": [],
            "description": "Collecting strided data: 100%",
            "_model_name": "FloatProgressModel",
            "bar_style": "success",
            "max": 200,
            "_view_module": "@jupyter-widgets/controls",
            "_model_module_version": "1.5.0",
            "value": 200,
            "_view_count": null,
            "_view_module_version": "1.5.0",
            "orientation": "horizontal",
            "min": 0,
            "description_tooltip": null,
            "_model_module": "@jupyter-widgets/controls",
            "layout": "IPY_MODEL_7baa2d080d784d7ab7856be4ba7c2452"
          }
        },
        "524ef4ae9d954f9fbbef2b5ccb4ca76b": {
          "model_module": "@jupyter-widgets/controls",
          "model_name": "HTMLModel",
          "state": {
            "_view_name": "HTMLView",
            "style": "IPY_MODEL_fa756ef0bd174abfba71ed1656b42ff0",
            "_dom_classes": [],
            "description": "",
            "_model_name": "HTMLModel",
            "placeholder": "​",
            "_view_module": "@jupyter-widgets/controls",
            "_model_module_version": "1.5.0",
            "value": " 200/200 [00:44&lt;00:00,  4.52it/s]",
            "_view_count": null,
            "_view_module_version": "1.5.0",
            "description_tooltip": null,
            "_model_module": "@jupyter-widgets/controls",
            "layout": "IPY_MODEL_899f2426ea4c4fde8992efb6a52b2f10"
          }
        },
        "21998cce6a9a40a3ab64c244b571597d": {
          "model_module": "@jupyter-widgets/controls",
          "model_name": "ProgressStyleModel",
          "state": {
            "_view_name": "StyleView",
            "_model_name": "ProgressStyleModel",
            "description_width": "initial",
            "_view_module": "@jupyter-widgets/base",
            "_model_module_version": "1.5.0",
            "_view_count": null,
            "_view_module_version": "1.2.0",
            "bar_color": null,
            "_model_module": "@jupyter-widgets/controls"
          }
        },
        "7baa2d080d784d7ab7856be4ba7c2452": {
          "model_module": "@jupyter-widgets/base",
          "model_name": "LayoutModel",
          "state": {
            "_view_name": "LayoutView",
            "grid_template_rows": null,
            "right": null,
            "justify_content": null,
            "_view_module": "@jupyter-widgets/base",
            "overflow": null,
            "_model_module_version": "1.2.0",
            "_view_count": null,
            "flex_flow": null,
            "width": null,
            "min_width": null,
            "border": null,
            "align_items": null,
            "bottom": null,
            "_model_module": "@jupyter-widgets/base",
            "top": null,
            "grid_column": null,
            "overflow_y": null,
            "overflow_x": null,
            "grid_auto_flow": null,
            "grid_area": null,
            "grid_template_columns": null,
            "flex": null,
            "_model_name": "LayoutModel",
            "justify_items": null,
            "grid_row": null,
            "max_height": null,
            "align_content": null,
            "visibility": null,
            "align_self": null,
            "height": null,
            "min_height": null,
            "padding": null,
            "grid_auto_rows": null,
            "grid_gap": null,
            "max_width": null,
            "order": null,
            "_view_module_version": "1.2.0",
            "grid_template_areas": null,
            "object_position": null,
            "object_fit": null,
            "grid_auto_columns": null,
            "margin": null,
            "display": null,
            "left": null
          }
        },
        "fa756ef0bd174abfba71ed1656b42ff0": {
          "model_module": "@jupyter-widgets/controls",
          "model_name": "DescriptionStyleModel",
          "state": {
            "_view_name": "StyleView",
            "_model_name": "DescriptionStyleModel",
            "description_width": "",
            "_view_module": "@jupyter-widgets/base",
            "_model_module_version": "1.5.0",
            "_view_count": null,
            "_view_module_version": "1.2.0",
            "_model_module": "@jupyter-widgets/controls"
          }
        },
        "899f2426ea4c4fde8992efb6a52b2f10": {
          "model_module": "@jupyter-widgets/base",
          "model_name": "LayoutModel",
          "state": {
            "_view_name": "LayoutView",
            "grid_template_rows": null,
            "right": null,
            "justify_content": null,
            "_view_module": "@jupyter-widgets/base",
            "overflow": null,
            "_model_module_version": "1.2.0",
            "_view_count": null,
            "flex_flow": null,
            "width": null,
            "min_width": null,
            "border": null,
            "align_items": null,
            "bottom": null,
            "_model_module": "@jupyter-widgets/base",
            "top": null,
            "grid_column": null,
            "overflow_y": null,
            "overflow_x": null,
            "grid_auto_flow": null,
            "grid_area": null,
            "grid_template_columns": null,
            "flex": null,
            "_model_name": "LayoutModel",
            "justify_items": null,
            "grid_row": null,
            "max_height": null,
            "align_content": null,
            "visibility": null,
            "align_self": null,
            "height": null,
            "min_height": null,
            "padding": null,
            "grid_auto_rows": null,
            "grid_gap": null,
            "max_width": null,
            "order": null,
            "_view_module_version": "1.2.0",
            "grid_template_areas": null,
            "object_position": null,
            "object_fit": null,
            "grid_auto_columns": null,
            "margin": null,
            "display": null,
            "left": null
          }
        }
      }
    }
  },
  "cells": [
    {
      "cell_type": "code",
      "metadata": {
        "id": "wTCEDjPbCo_y"
      },
      "source": [
        "# standard imports\\n\",\n",
        "import os\n",
        "import random\n",
        "import numpy as np\n",
        "\n",
        "# work with data\\n\",\n",
        "import pandas as pd\n",
        "import h5py\n",
        "import matplotlib.pyplot as plt\n",
        "%matplotlib inline\n",
        "from mpl_toolkits.mplot3d import Axes3D\n",
        "import glob\n",
        "from tqdm.auto import tqdm\n",
        "from IPython.display import clear_output\n",
        "\n",
        "# like numpy, only good + NN\n",
        "import torch, torch.nn as nn\n",
        "import torch.nn.functional as torch_nn_F\n",
        "from torch.utils.data import DataLoader, Dataset, Subset\n",
        "# import torchvision\n",
        "# from torchvision import transforms\n",
        "import time\n",
        "\n",
        "\n",
        "plt.rcParams[\n",
        "    \"figure.facecolor\"\n",
        "] = \"w\"  # force white background on plots when using dark mode in JupyterLab\n",
        "\n",
        "# Dark plots\\n\",\n",
        "#plt.style.use('dark_background')\\n\",\n",
        "\n",
        "TIME_STEP = 1\n",
        "CLASSNAME = {0: 'ballistic', 1: 'hgv', 2: 'hcm'}\n",
        "CLASSTYPE = {'ballistic': 0, 'hgv': 1, 'hcm': 2}"
      ],
      "execution_count": 49,
      "outputs": []
    },
    {
      "cell_type": "markdown",
      "metadata": {
        "id": "R2JCNbReCo_y"
      },
      "source": [
        "# Prepare data\n",
        "## Load and examine data"
      ]
    },
    {
      "cell_type": "code",
      "metadata": {
        "id": "Ont_TbhRCo_y"
      },
      "source": [
        "# Data reading function\n",
        "def read_trajectories(path_to_file):\n",
        "    dset = pd.HDFStore(path_to_file, 'r')\n",
        "#     print(dset.info())\\n\",\n",
        "    return dset"
      ],
      "execution_count": 2,
      "outputs": []
    },
    {
      "cell_type": "markdown",
      "metadata": {
        "id": "u9sk-0Q3Co_y"
      },
      "source": [
        "## Splitting the data"
      ]
    },
    {
      "cell_type": "code",
      "metadata": {
        "id": "wS-OhyqoCo_z"
      },
      "source": [
        "def train_val_test_split(data, tts = (0.7, 0.1, 0.2), shuffle=False):\n",
        "    '''Split data into train, validation and test sets according to `tts` tuple\n",
        "\n",
        "    By default, tts = (train, val, test) = (0.7, 0.1, 0.2)\n",
        "    '''\n",
        "    assert sum(tts) == 1\n",
        "\n",
        "    if shuffle:\n",
        "        data = np.random.shuffle(data)\n",
        "\n",
        "    h = len(data)\n",
        "    train = data[:int(h * tts[0])]\n",
        "    val = data[int(h * tts[0]) : int(h * np.round(tts[0] + tts[1], 4))]\n",
        "    test = data[int(h * np.round(tts[0] + tts[1], 4)) : int(h * sum(tts))]\n",
        "\n",
        "    return train, val, test"
      ],
      "execution_count": 16,
      "outputs": []
    },
    {
      "cell_type": "code",
      "metadata": {
        "id": "5arQSdUKCo_z"
      },
      "source": [
        "# # example\n",
        "# len(dset.keys())\n",
        "# dset[dset.keys()[0]]\n",
        "# len(np.array(dset[dset.keys()[0]])[:,0])"
      ],
      "execution_count": null,
      "outputs": []
    },
    {
      "cell_type": "markdown",
      "metadata": {
        "id": "MBM-6q37Co_0"
      },
      "source": [
        "## Invertible trajectory pre-processing transform"
      ]
    },
    {
      "cell_type": "code",
      "metadata": {
        "id": "U_-mtPGzCo_0"
      },
      "source": [
        "class RelativeTrajectory():\n",
        "    def __init__(self, df, diff=False, ref_point=20):\n",
        "\n",
        "        self.diff = diff\n",
        "        self.ref_point = ref_point\n",
        "        \n",
        "        data = np.array(df.drop('t', 1))\n",
        "        \n",
        "        # Remember first state\n",
        "        self.start_state = data[0].copy()\n",
        "        \n",
        "        # Make changes relative to the start state\n",
        "        data -= self.start_state\n",
        "        \n",
        "        # Rotate coordinate system around Z axis, \n",
        "        # so X` axis will pass through the 20'th point\n",
        "        # and Y` axis will represent deviation\n",
        "\n",
        "        ## Calculate angle of rotation: arctan(y_r / x_r), where r is ref_point\n",
        "        assert data.shape[0] >= ref_point\n",
        "        self.theta = np.arctan(data[ref_point][1] / data[ref_point][0])\n",
        "\n",
        "        ## Rotation matrix for XY plane around Z axis\n",
        "        ## Perform rotation for coordinates\n",
        "        data[:, :3] = self.rotate_Z(data[:, :3], self.theta)\n",
        "\n",
        "        ## Perform rotation for velocities\n",
        "        data[:, 3:6] = self.rotate_Z(data[:, 3:6], self.theta)\n",
        "\n",
        "        # Scale data to kilometers\n",
        "        data /= 1000\n",
        "\n",
        "        self.first_diff_elem = None\n",
        "        if diff:\n",
        "            self.first_diff_elem = data[0].copy()\n",
        "            data = np.diff(data, axis=0)    \n",
        "        \n",
        "        self.data = data\n",
        "        \n",
        "    def restore(self, columns, ts=1, config=None):\n",
        "        \n",
        "        assert ts > 0\n",
        "        \n",
        "        if config:\n",
        "            self.set_info(config)\n",
        "        \n",
        "        # Restore diff data\n",
        "        if self.diff:\n",
        "            data = np.r_[np.expand_dims(self.first_diff_elem, 0), np.cumsum(self.data, axis=0)]\n",
        "        else:         \n",
        "            data = self.data.copy()\n",
        "        \n",
        "        # Scale data from km back to meters\n",
        "        data *= 1000\n",
        "        \n",
        "        ## Rotation matrix for XY plane around Z axis\n",
        "        ## Perform rotation for coordinates\n",
        "        data[:, 0:3] = self.rotate_Z(data[:, 0:3], -self.theta)\n",
        "\n",
        "        ## Perform rotation for velocities\n",
        "        data[:, 3:6] = self.rotate_Z(data[:, 3:6], -self.theta)\n",
        "        \n",
        "        # Make changes absolute\n",
        "        data += self.start_state\n",
        "\n",
        "        # Restore Pandas.DataFrame format\n",
        "        t = np.arange(0, data.shape[0], ts)\n",
        "        data = np.c_[data, t] \n",
        "        data = pd.DataFrame(data, columns=columns)\n",
        "        \n",
        "        return data\n",
        "        \n",
        "    @staticmethod\n",
        "    def rotate_Z(data, theta):\n",
        "        \"\"\"Rotate data around the Z axis using matrix R\"\"\"\n",
        "        \n",
        "        R = np.array([\n",
        "            [np.cos(theta), -np.sin(theta), 0],\n",
        "            [np.sin(theta),  np.cos(theta), 0],\n",
        "            [            0,              0, 1]\n",
        "        ])\n",
        "        return data @ R.T\n",
        "    \n",
        "    def info(self):\n",
        "        return {\n",
        "            'ref_point' : self.ref_point,\n",
        "            'diff' : self.diff,\n",
        "            'start_state' : self.start_state,\n",
        "            'first_diff_elem' : self.first_diff_elem,\n",
        "            'theta' : self.theta\n",
        "        }\n",
        "    \n",
        "    def set_info(self, config):\n",
        "        self.ref_point = config['ref_point']\n",
        "        self.diff = config['diff']\n",
        "        self.start_point = config['start_point']\n",
        "        self.first_diff_elem = config['first_diff_elem']\n",
        "        self.theta = config['theta']"
      ],
      "execution_count": 18,
      "outputs": []
    },
    {
      "cell_type": "markdown",
      "metadata": {
        "id": "QPsATrbJCo_0"
      },
      "source": [
        "## Preprocess data for training"
      ]
    },
    {
      "cell_type": "code",
      "metadata": {
        "id": "0zmkSG4NCo_0"
      },
      "source": [
        "def max_min_len_coordinate(dset, keys):\n",
        "    max_size = 0\n",
        "    min_size = len(np.array(dset[keys[0]])[:,0])\n",
        "    for key_k in keys:\n",
        "        size = len(np.array(dset[key_k])[:,0])\n",
        "        if size > max_size:\n",
        "            max_size = size\n",
        "            max_key = key_k\n",
        "        if size < min_size:\n",
        "            min_size = size\n",
        "            min_key = key_k\n",
        "    return (max_size, min_size, max_key, min_key)"
      ],
      "execution_count": 19,
      "outputs": []
    },
    {
      "cell_type": "code",
      "metadata": {
        "id": "0SYcu6PPCo_0"
      },
      "source": [
        "def get_strided_data_clust(dset, keys, variables=3, gt_size=0, step=1, diff=False, verbose=False):\n",
        "    '''Return list with parts of trajectories and their residuals.\n",
        "\n",
        "    Arguments:\n",
        "    dset -- h5py Data set with trajectory data\n",
        "        keys -- keys for extracting data from `dset`\n",
        "\n",
        "    Keyword arguments:\n",
        "    variables -- (default: 3) how many variables to extract:\n",
        "                     3 for XYZ -- coordinates,\n",
        "                     6 for XYZUVW -- coordinates and speeds,\n",
        "                     7 for XYZUVWH -- coords, speeds and altitude\n",
        "\n",
        "        gt_size -- how many trajectory points are to be observed\n",
        "        step -- (default: 1)\n",
        "                if 1, every row from the `dset` will be processed,\n",
        "                if >1, some rows will be skipped accordingly.\n",
        "        diff -- (default: False) toggle extract differentiated relative trajectories\n",
        "    '''\n",
        "    assert gt_size > 1\n",
        "    assert variables in [3, 6, 7]\n",
        "\n",
        "    # Create list with parts of trajectories,\n",
        "    # each element has gt_size trajectory points\n",
        "    data_seqs = []\n",
        "\n",
        "    # Set of configs for each trajectory.\n",
        "    configs = {}\n",
        "\n",
        "    # List of trajectory indices\n",
        "    # (to which trajectory this traj_elem belongs to)\n",
        "    traj_ids = []\n",
        "\n",
        "\n",
        "    # Collect trajectories, preprocess and\n",
        "    # split them into trajectory parts\n",
        "    for k in tqdm(range(len(keys)), disable=1-verbose, desc='Collecting strided data'):\n",
        "        # Get relative trajectory from the dataset\n",
        "        rt = RelativeTrajectory(dset[keys[k]], diff=diff)\n",
        "        configs[k] = rt.info()  # save for future restoration\n",
        "\n",
        "        # Collect list of trajectory parts from `rt`\n",
        "        # using time window gt_size and time shift `step`\n",
        "        if gt_size < rt.data.shape[0]:\n",
        "            for i in range(1 + (rt.data.shape[0] - gt_size) // step):\n",
        "                data_seqs.append([rt.data[i*step : i*step + gt_size, :variables]])\n",
        "                traj_ids.append(k)\n",
        "        else:\n",
        "            new_rt = np.zeros((gt_size,variables))  \n",
        "            new_rt[0:rt.data.shape[0],0:variables] = rt.data[:, :variables]\n",
        "            data_seqs.append([new_rt])\n",
        "            traj_ids.append(k)\n",
        "            \n",
        "    # Collect all data seqs into one huge dataset\n",
        "    # of shape [? , gt_size, variables]\n",
        "    data_seqs_all = np.stack(data_seqs).squeeze()\n",
        "    traj_ids_all = np.stack(traj_ids)\n",
        "\n",
        "    # Calculate mean and std over all data\n",
        "    data_mean = data_seqs_all.mean((0, 1))\n",
        "    data_std = data_seqs_all.std((0, 1))\n",
        "    res_mean = np.zeros(variables)\n",
        "    res_std = np.ones(variables)\n",
        "    \n",
        "    \n",
        "    stats = {\n",
        "        'data_mean': data_mean,\n",
        "        'data_std': data_std,\n",
        "        'res_mean': res_mean,\n",
        "        'res_std': res_std\n",
        "    }\n",
        "\n",
        "    if verbose:\n",
        "        with np.printoptions(precision=3):\n",
        "            print(f'Total trajectory parts: {data_seqs_all.shape[0]}')\n",
        "            print(f'Each: {gt_size} observed = {gt_size} points in total')\n",
        "            print(f'Each point contains {data_seqs_all.shape[-1]} variables')\n",
        "\n",
        "            print('Data mean:', stats['data_mean'],\n",
        "                  'Data std:', stats['data_std'],\n",
        "                  sep='\\\\n')\n",
        "\n",
        "    return (\n",
        "        data_seqs_all.squeeze()[:, :gt_size], # src sequences\n",
        "        configs,\n",
        "        stats,\n",
        "        traj_ids_all\n",
        "    )"
      ],
      "execution_count": 20,
      "outputs": []
    },
    {
      "cell_type": "code",
      "metadata": {
        "id": "RiOF9nCACo_0"
      },
      "source": [
        "class TrajectoryDataset(torch.utils.data.Dataset):\n",
        "    def __init__(self, data, name, variables=3, configs=None, stats=None):\n",
        "        super().__init__()\n",
        "    \n",
        "        self.data = data\n",
        "        self.name = name\n",
        "        self.variables = variables\n",
        "        self.configs = configs\n",
        "        self.stats = stats\n",
        "        \n",
        "    def __len__(self):\n",
        "        return self.data['src'].shape[0]\n",
        "    \n",
        "    def __getitem__(self, index):\n",
        "        \n",
        "        ret =  {\n",
        "            'src': torch.Tensor(self.data['src'][index]),\n",
        "            'traj_id': self.data['traj_ids'][index],\n",
        "        }\n",
        "        return ret"
      ],
      "execution_count": 21,
      "outputs": []
    },
    {
      "cell_type": "code",
      "metadata": {
        "id": "vq55tXvZCo_0"
      },
      "source": [
        "def create_dataset(dset, keys, name, variables=3, gt_size=8, step=1, diff=False, train=True, scaler=None, verbose=False):\n",
        "    \"\"\"Create TrajectoryDataset for training NNs.\n",
        "\n",
        "    Arguments:\n",
        "        dset -- h5py dataset object\n",
        "        keys -- list of strings: keys for extracting data from `dset`\n",
        "        name -- name of the TrajectoryDataset\n",
        "\n",
        "    Keyword arguments:\n",
        "        variables -- (default: 3) how many variables to extract:\n",
        "                     3 for XYZ -- coordinates,\n",
        "                     6 for XYZUVW -- coordinates and speeds,\n",
        "                     7 for XYZUVWH -- coords, speeds and altitude\n",
        "\n",
        "        residuals -- (default: True) if True, residuals of trajectory will \n",
        "                     be concatenated, such that, in case of 3 variables: \n",
        "                     [[X1, Y1, Z1],      [[X1, Y1, Z1,     0,     0,     0],\n",
        "                      [X2, Y2, Z2],  -->  [X2, Y2, Z2, X2-X1, Y2-Y1, Z2-Z1],\n",
        "                      [X3, Y3, Z3]]       [X3, Y3, Z3, X3-X2, Y3-Y2, Z3-Z2]]\n",
        "\n",
        "        gt_size -- how many points are observed (model input)\n",
        "        horizon -- how many points the model tries to predict into the future\n",
        "        step -- stride step for data\n",
        "        diff -- toggle differentiate trajectories\n",
        "        train -- this data will be used for training\n",
        "        scaler -- custom scaler, so data will have zero mean and unit variance\n",
        "        verbose -- toggle print info to the terminal\n",
        "        \n",
        "    Note:\n",
        "        If `train == True`, the scaler will fit on the collected data and\n",
        "        then returned as the TrajectoryDataset.scaler attribute\n",
        "        \n",
        "        If 'train == False', this function will look for scaler from the \n",
        "        arguments, then use it to scale collected data for evaluation.\n",
        "    \"\"\"\n",
        "    if verbose:\n",
        "        print(f\"Loading dataset in {'train' if train else 'evaluation'} mode...\")\n",
        "\n",
        "    inp, configs, stats, traj_ids = get_strided_data_clust(\n",
        "        dset, keys, variables, gt_size, step, diff, verbose)\n",
        "\n",
        "    data = {\n",
        "        'src': inp,\n",
        "        'traj_ids': traj_ids\n",
        "    }\n",
        "\n",
        "    return TrajectoryDataset(data, name, variables, configs, stats)"
      ],
      "execution_count": 22,
      "outputs": []
    },
    {
      "cell_type": "markdown",
      "metadata": {
        "id": "FW67uWwXCo_2"
      },
      "source": [
        "## Recurrent block"
      ]
    },
    {
      "cell_type": "code",
      "metadata": {
        "id": "KL4LZzWECo_2"
      },
      "source": [
        "# Our recurrent block\n",
        "class ModuleRNN(nn.Module):\n",
        "    \"\"\"\n",
        "    Implement the scheme above as torch module\n",
        "    torch style\n",
        "    \n",
        "    \"\"\"\n",
        "    def __init__(self, vect_dim=3, rnn_num_units=64):\n",
        "        super(self.__class__,self).__init__()\n",
        "        self.num_units = rnn_num_units\n",
        "\n",
        "#         our linear layer\n",
        "        self.rnn_update = nn.Linear(vect_dim + rnn_num_units, rnn_num_units)\n",
        "        self.rnn_to_logits = nn.Linear(rnn_num_units, vect_dim)\n",
        "\n",
        "    def forward(self, x, h_prev):\n",
        "        \"\"\"\n",
        "        This method computes h_next(x, h_prev) and log P(x_next | h_next)\n",
        "        We'll call it repeatedly to produce the whole sequence.\n",
        "\n",
        "        :param x: batch of character ids, containing vector of int64\n",
        "        :param h_prev: previous rnn hidden states, containing matrix [batch, rnn_num_units] of float32\n",
        "        \"\"\"\n",
        "\n",
        "        x_and_h = torch.cat([x, h_prev], dim=-1) # [x, h_prev]\n",
        "        h_next = self.rnn_update(x_and_h)\n",
        "\n",
        "        h_next = torch.tanh(h_next) # activation function\n",
        "\n",
        "        assert h_next.size() == h_prev.size()\n",
        "\n",
        "        #compute logits for next character probs\n",
        "        logits = self.rnn_to_logits(h_next)\n",
        "\n",
        "        return h_next, logits\n",
        "\n",
        "    def initial_state(self, batch_size):\n",
        "        \"\"\" return rnn state before it processes first input (aka h0) \"\"\"\n",
        "        return torch.zeros(batch_size, self.num_units, requires_grad=True)"
      ],
      "execution_count": 27,
      "outputs": []
    },
    {
      "cell_type": "markdown",
      "metadata": {
        "id": "lB8gB8vsCo_2"
      },
      "source": [
        "## RNN Loop"
      ]
    },
    {
      "cell_type": "code",
      "metadata": {
        "id": "vbmQ2BGACo_2"
      },
      "source": [
        "def rnn_loop(trajectories_rnn, batch_ix, device):\n",
        "    \"\"\"\n",
        "    Computes log P(next_character) for all time-steps in names_ix\n",
        "    :param names_ix: an int32 matrix of shape [batch, time], output of to_matrix(names)\n",
        "    \"\"\"\n",
        "    batch_size, max_length, vec_dim = batch_ix.size()\n",
        "\n",
        "    hid_state = trajectories_rnn.initial_state(batch_size)\n",
        "    logprobs = []\n",
        "\n",
        "    for x_t in batch_ix.transpose(0,1):\n",
        "        hid_state, logits = trajectories_rnn(x_t, hid_state.to(device))  # <-- here we call your one-step code\n",
        "        logprobs.append(logits)\n",
        "\n",
        "    return torch.stack(logprobs, dim=1)"
      ],
      "execution_count": 77,
      "outputs": []
    },
    {
      "cell_type": "markdown",
      "metadata": {
        "id": "DTxCrDhk3Yao"
      },
      "source": [
        "## Drawing"
      ]
    },
    {
      "cell_type": "code",
      "metadata": {
        "id": "We50GD2B3Y8q"
      },
      "source": [
        "def plot_train_process(train_loss, val_loss, val_accuracy):\n",
        "    fig, axes = plt.subplots(1, 2, figsize=(15, 5))\n",
        "\n",
        "    axes[0].set_title('Loss')\n",
        "    axes[0].plot(train_loss, label='train')\n",
        "    axes[0].plot(val_loss, label='validation')\n",
        "    axes[0].legend()\n",
        "\n",
        "    axes[1].set_title('Validation accuracy')\n",
        "    axes[1].plot(val_accuracy)\n",
        "    axes[1].legend()"
      ],
      "execution_count": 58,
      "outputs": []
    },
    {
      "cell_type": "markdown",
      "metadata": {
        "id": "LYcG8-z9kBh9"
      },
      "source": [
        "## Pre Training  "
      ]
    },
    {
      "cell_type": "code",
      "metadata": {
        "id": "UcMbpMN_r-fg"
      },
      "source": [
        "!wget https://github.com/dart9905/coursework/blob/test/KalmanNN/data/ballistic_batch_1000_nopad.h5 -nc"
      ],
      "execution_count": null,
      "outputs": []
    },
    {
      "cell_type": "code",
      "metadata": {
        "id": "Mha4QQsJrn6u"
      },
      "source": [
        "# reading\n",
        "name_file_trajectories = '/content/ballistic_batch_1000_nopad.h5'\n",
        "try:\n",
        "    dset = read_trajectories(name_file_trajectories)\n",
        "except FileNotFoundError:\n",
        "    assert \"NO file!!!\""
      ],
      "execution_count": 50,
      "outputs": []
    },
    {
      "cell_type": "code",
      "metadata": {
        "colab": {
          "base_uri": "https://localhost:8080/"
        },
        "id": "m3Fy87Czr4w1",
        "outputId": "96117591-5ed8-4acc-d804-38ece810ae18"
      },
      "source": [
        "# Train-val-test split data\n",
        "data_keys = sorted([key for key in dset.keys() if 'raw' in key])\n",
        "# Test data       = 20% of total keys\n",
        "# Validation data = 10% of total keys\n",
        "# Train data      = 70% of total keys\n",
        "train_keys, val_keys, test_keys = train_val_test_split(\n",
        "    data_keys, (0.7, 0.1, 0.2), shuffle=False)\n",
        "\n",
        "print(f'Train keys: {len(train_keys):>5} -> {len(train_keys)/len(data_keys) * 100}%')\n",
        "print(f'Valid keys: {len(val_keys):>5} -> {len(val_keys)/len(data_keys) * 100}%')\n",
        "print(f'Test keys:  {len(test_keys):>5} -> {len(test_keys)/len(data_keys) * 100}%')"
      ],
      "execution_count": 51,
      "outputs": [
        {
          "output_type": "stream",
          "text": [
            "Train keys:   700 -> 70.0%\n",
            "Valid keys:   100 -> 10.0%\n",
            "Test keys:    200 -> 20.0%\n"
          ],
          "name": "stdout"
        }
      ]
    },
    {
      "cell_type": "code",
      "metadata": {
        "colab": {
          "base_uri": "https://localhost:8080/"
        },
        "id": "TFHbtwiekpZj",
        "outputId": "83033d48-8509-42d1-e4eb-b6c6fbfa4c1e"
      },
      "source": [
        "# use GPU if available\n",
        "device = torch.device(\"cuda\") if torch.cuda.is_available() else torch.device(\"cpu\")\n",
        "device"
      ],
      "execution_count": 52,
      "outputs": [
        {
          "output_type": "execute_result",
          "data": {
            "text/plain": [
              "device(type='cuda')"
            ]
          },
          "metadata": {
            "tags": []
          },
          "execution_count": 52
        }
      ]
    },
    {
      "cell_type": "code",
      "metadata": {
        "id": "siFfI-mzCo_2",
        "colab": {
          "base_uri": "https://localhost:8080/"
        },
        "outputId": "fddeea66-a074-4446-a2ee-8ef71eaa5b02"
      },
      "source": [
        "max_len_trajectory, min_len_trajectory, key_max, key_min = max_min_len_coordinate(dset, dset.keys())\n",
        "max_len_trajectory, min_len_trajectory, key_max, key_min"
      ],
      "execution_count": 53,
      "outputs": [
        {
          "output_type": "execute_result",
          "data": {
            "text/plain": [
              "(458, 162, '/ballistic_raw/BALLISTIC_665', '/ballistic_raw/BALLISTIC_264')"
            ]
          },
          "metadata": {
            "tags": []
          },
          "execution_count": 53
        }
      ]
    },
    {
      "cell_type": "code",
      "metadata": {
        "id": "X2Jrk6HHjwMX"
      },
      "source": [
        "BATCH_SIZE =100\n",
        "SET_LONG = min_len_trajectory\n",
        "VEC_DIM = 3\n",
        "MEM_RNN = SET_LONG*15\n",
        "EPOC_NUM = 21"
      ],
      "execution_count": 54,
      "outputs": []
    },
    {
      "cell_type": "code",
      "metadata": {
        "colab": {
          "base_uri": "https://localhost:8080/",
          "height": 419,
          "referenced_widgets": [
            "cab14586516f445987c4535204f85a06",
            "941ff916ab8641d882c8f29d71fb75ce",
            "c394ce579be140669cf08964f767e4e5",
            "d48f88d7cc724d9780c394dd936f438d",
            "eb5d420a536042eda75fe41985bfdde0",
            "0382cfa1b829466696046377685a5322",
            "30e8b6f76c994124b9fd48c694a86c63",
            "dab76d75ad904d7992d84098bbfdf893",
            "5082074a0bdf4b469ac8514c321e11dd",
            "d63c36a3780e4cd5b1b55be0d32e59cf",
            "e0df7e1cd67f4b5cbb2ca67e4d439ae9",
            "6fb007cf51e74617ba3d35c3be0dd03c",
            "acbd42fae56549f5baf2dbd4e0baf5e5",
            "4f27e71db0de4bef8b195ab862a559c2",
            "e30bf1d427a0411d90b8c8c16a078727",
            "531cdebdba0f41c58f930d2f2685b5c9",
            "e4238f72fb2f40fa9a2a3da105b85b83",
            "a54321ece9df4094a1e96ae6f1dd9d5a",
            "5837e98d84474bd5a54b6f62d6149286",
            "524ef4ae9d954f9fbbef2b5ccb4ca76b",
            "21998cce6a9a40a3ab64c244b571597d",
            "7baa2d080d784d7ab7856be4ba7c2452",
            "fa756ef0bd174abfba71ed1656b42ff0",
            "899f2426ea4c4fde8992efb6a52b2f10"
          ]
        },
        "id": "57d02Cs4j01C",
        "outputId": "9096c186-4a6c-4641-975f-b8726d0edd64"
      },
      "source": [
        "train_data = create_dataset(\n",
        "    dset,\n",
        "    train_keys,\n",
        "    name='train',\n",
        "    gt_size=SET_LONG,\n",
        "    step=SET_LONG,\n",
        "    variables=VEC_DIM,\n",
        "    train=True,\n",
        "    verbose=True\n",
        ")\n",
        "val_data = create_dataset(\n",
        "    dset,\n",
        "    val_keys,\n",
        "    name='validation',\n",
        "    gt_size=SET_LONG,\n",
        "    step=SET_LONG,\n",
        "    variables=VEC_DIM,\n",
        "    train=False,\n",
        "    verbose=True\n",
        ")\n",
        "test_data = create_dataset(\n",
        "    dset,\n",
        "    test_keys,\n",
        "    name='test',\n",
        "    gt_size=SET_LONG,\n",
        "    step=SET_LONG,\n",
        "    variables=VEC_DIM,\n",
        "    train=False,\n",
        "    verbose=True\n",
        ")"
      ],
      "execution_count": 55,
      "outputs": [
        {
          "output_type": "stream",
          "text": [
            "Loading dataset in train mode...\n"
          ],
          "name": "stdout"
        },
        {
          "output_type": "display_data",
          "data": {
            "application/vnd.jupyter.widget-view+json": {
              "model_id": "cab14586516f445987c4535204f85a06",
              "version_minor": 0,
              "version_major": 2
            },
            "text/plain": [
              "HBox(children=(FloatProgress(value=0.0, description='Collecting strided data', max=700.0, style=ProgressStyle(…"
            ]
          },
          "metadata": {
            "tags": []
          }
        },
        {
          "output_type": "stream",
          "text": [
            "\n",
            "Total trajectory parts: 867\n",
            "Each: 162 observed = 162 points in total\n",
            "Each point contains 3 variables\n",
            "Data mean:\\n[ 43.249  66.819 -45.809]\\nData std:\\n[33.861 50.311 52.817]\n",
            "Loading dataset in evaluation mode...\n"
          ],
          "name": "stdout"
        },
        {
          "output_type": "display_data",
          "data": {
            "application/vnd.jupyter.widget-view+json": {
              "model_id": "5082074a0bdf4b469ac8514c321e11dd",
              "version_minor": 0,
              "version_major": 2
            },
            "text/plain": [
              "HBox(children=(FloatProgress(value=0.0, description='Collecting strided data', style=ProgressStyle(description…"
            ]
          },
          "metadata": {
            "tags": []
          }
        },
        {
          "output_type": "stream",
          "text": [
            "\n",
            "Total trajectory parts: 123\n",
            "Each: 162 observed = 162 points in total\n",
            "Each point contains 3 variables\n",
            "Data mean:\\n[ 42.823  66.174 -45.362]\\nData std:\\n[33.616 50.516 52.042]\n",
            "Loading dataset in evaluation mode...\n"
          ],
          "name": "stdout"
        },
        {
          "output_type": "display_data",
          "data": {
            "application/vnd.jupyter.widget-view+json": {
              "model_id": "e4238f72fb2f40fa9a2a3da105b85b83",
              "version_minor": 0,
              "version_major": 2
            },
            "text/plain": [
              "HBox(children=(FloatProgress(value=0.0, description='Collecting strided data', max=200.0, style=ProgressStyle(…"
            ]
          },
          "metadata": {
            "tags": []
          }
        },
        {
          "output_type": "stream",
          "text": [
            "\n",
            "Total trajectory parts: 237\n",
            "Each: 162 observed = 162 points in total\n",
            "Each point contains 3 variables\n",
            "Data mean:\\n[ 38.963  59.589 -42.729]\\nData std:\\n[31.39  46.182 50.044]\n"
          ],
          "name": "stdout"
        }
      ]
    },
    {
      "cell_type": "code",
      "metadata": {
        "id": "6yCfLKffkChk"
      },
      "source": [
        "train_dl = DataLoader(\n",
        "    train_data,\n",
        "    batch_size=BATCH_SIZE,\n",
        "    shuffle=True, #try  с\\n\",\n",
        "    num_workers=1) #num_workers=-2# use CPU\"\n",
        "\n",
        "val_dl = DataLoader(\n",
        "    val_data,\n",
        "    batch_size=BATCH_SIZE,\n",
        "    shuffle=False, #try  с\\n\",\n",
        "    num_workers=1) #num_workers=-2# use CPU\"\n",
        "  \n",
        "test_dl = DataLoader(\n",
        "    test_data,\n",
        "    batch_size=BATCH_SIZE,\n",
        "    shuffle=False, #try  с\\n\",\n",
        "    num_workers=1) #num_workers=-2# use CPU\""
      ],
      "execution_count": 56,
      "outputs": []
    },
    {
      "cell_type": "code",
      "metadata": {
        "id": "qJWSxsuACo_2"
      },
      "source": [
        "trajectories_rnn = ModuleRNN(vect_dim=VEC_DIM, rnn_num_units=MEM_RNN)\n",
        "trajectories_rnn.to(device, torch.float32)\n",
        "\n",
        "criterion = nn.MSELoss() # nn.CrossEntropyLoss()\n",
        "opt = torch.optim.Adam(trajectories_rnn.parameters(), lr=1e-3) # lr=1e-4\n",
        "opt_c = 0\n",
        "error = 0\n",
        "\n",
        "train_loss = []\n",
        "val_loss = []\n",
        "val_accuracy = []"
      ],
      "execution_count": 85,
      "outputs": []
    },
    {
      "cell_type": "markdown",
      "metadata": {
        "id": "6_JMr5rUCo_2"
      },
      "source": [
        "## The training loop"
      ]
    },
    {
      "cell_type": "code",
      "metadata": {
        "colab": {
          "base_uri": "https://localhost:8080/",
          "height": 1000
        },
        "id": "iQ0HbUBMCo_2",
        "outputId": "3e05fce5-41ff-424d-97af-e7727fda3531"
      },
      "source": [
        "# epoc\n",
        "for epoc in range(EPOC_NUM):\n",
        "  if epoc == 18:\n",
        "    opt_c = 1\n",
        "    opt = torch.optim.Adam(trajectories_rnn.parameters(), lr=1e-4) # lr=1e-4\n",
        "\n",
        "  ep_train_loss = []\n",
        "  ep_val_loss = []\n",
        "  ep_val_accuracy = []\n",
        "  start_time = time.time()\n",
        "  \n",
        "  trajectories_rnn.train(True) # enable dropout / batch_norm training behavior\n",
        "  for id_b, batch in enumerate(train_dl):\n",
        "      opt.zero_grad()\n",
        "      batch = batch['src'].to(device, torch.float32)\n",
        "\n",
        "      logp_seq = rnn_loop(trajectories_rnn, batch, device)\n",
        "\n",
        "      # compute loss\n",
        "      predictions_logp = logp_seq[:, :-1]\n",
        "      actual_next_tokens = batch[:, 1:]\n",
        "\n",
        "      # print(predictions_logp.shape, actual_next_tokens.shape)\n",
        "      loss = criterion(\n",
        "          predictions_logp.contiguous().view(-1),\n",
        "          actual_next_tokens.contiguous().view(-1)\n",
        "      ) \n",
        "\n",
        "      \n",
        "      # train with backprop\n",
        "      loss.backward()\n",
        "      opt.step()\n",
        "      \n",
        "      ep_train_loss.append(loss.cpu().data.numpy())\n",
        "    \n",
        "  trajectories_rnn.train(False) # enable dropout / batch_norm training behavior\n",
        "  with torch.no_grad(): \n",
        "    for id_b, batch in enumerate(val_dl):\n",
        "      batch = batch['src'].to(device)\n",
        "\n",
        "      logp_seq = rnn_loop(trajectories_rnn, batch, device)\n",
        "\n",
        "      # compute loss\n",
        "      predictions_logp = logp_seq[:, :-1]\n",
        "      actual_next_tokens = batch[:, 1:]\n",
        "\n",
        "      # print(predictions_logp.shape, actual_next_tokens.shape)\n",
        "      loss = criterion(\n",
        "          predictions_logp.contiguous().view(-1),\n",
        "          actual_next_tokens.contiguous().view(-1)\n",
        "      )\n",
        "      ep_val_loss.append(loss.cpu().data.numpy())\n",
        "\n",
        "  # print the results for this epoch:\n",
        "  clear_output(True)\n",
        "  if error > 0:\n",
        "    print('Warning: the network is hard to learn.')\n",
        "  print(f'Epoch {epoc + 1} of {EPOC_NUM} took {time.time() - start_time:.3f}s')\n",
        "\n",
        "  train_loss.append(np.mean(ep_train_loss))\n",
        "  val_loss.append(np.mean(ep_val_loss))\n",
        "  val_accuracy.append(np.mean(ep_val_accuracy))\n",
        "  # plot_train_process(train_loss, val_loss, val_accuracy)\n",
        "\n",
        "  if train_loss[0] < train_loss[-1]:\n",
        "    error+=1\n",
        "    assert error!=3, \"RNN didn't converge.\""
      ],
      "execution_count": 81,
      "outputs": [
        {
          "output_type": "stream",
          "text": [
            "No handles with labels found to put in legend.\n"
          ],
          "name": "stderr"
        },
        {
          "output_type": "stream",
          "text": [
            "Epoch 6 of 21 took 2.515s\n"
          ],
          "name": "stdout"
        },
        {
          "output_type": "error",
          "ename": "KeyboardInterrupt",
          "evalue": "ignored",
          "traceback": [
            "\u001b[0;31m---------------------------------------------------------------------------\u001b[0m",
            "\u001b[0;31mKeyboardInterrupt\u001b[0m                         Traceback (most recent call last)",
            "\u001b[0;32m<ipython-input-81-43e7502608ae>\u001b[0m in \u001b[0;36m<module>\u001b[0;34m()\u001b[0m\n\u001b[1;32m     29\u001b[0m \u001b[0;34m\u001b[0m\u001b[0m\n\u001b[1;32m     30\u001b[0m       \u001b[0;31m# train with backprop\u001b[0m\u001b[0;34m\u001b[0m\u001b[0;34m\u001b[0m\u001b[0;34m\u001b[0m\u001b[0m\n\u001b[0;32m---> 31\u001b[0;31m       \u001b[0mloss\u001b[0m\u001b[0;34m.\u001b[0m\u001b[0mbackward\u001b[0m\u001b[0;34m(\u001b[0m\u001b[0;34m)\u001b[0m\u001b[0;34m\u001b[0m\u001b[0;34m\u001b[0m\u001b[0m\n\u001b[0m\u001b[1;32m     32\u001b[0m       \u001b[0mopt\u001b[0m\u001b[0;34m.\u001b[0m\u001b[0mstep\u001b[0m\u001b[0;34m(\u001b[0m\u001b[0;34m)\u001b[0m\u001b[0;34m\u001b[0m\u001b[0;34m\u001b[0m\u001b[0m\n\u001b[1;32m     33\u001b[0m \u001b[0;34m\u001b[0m\u001b[0m\n",
            "\u001b[0;32m/usr/local/lib/python3.6/dist-packages/torch/tensor.py\u001b[0m in \u001b[0;36mbackward\u001b[0;34m(self, gradient, retain_graph, create_graph)\u001b[0m\n\u001b[1;32m    219\u001b[0m                 \u001b[0mretain_graph\u001b[0m\u001b[0;34m=\u001b[0m\u001b[0mretain_graph\u001b[0m\u001b[0;34m,\u001b[0m\u001b[0;34m\u001b[0m\u001b[0;34m\u001b[0m\u001b[0m\n\u001b[1;32m    220\u001b[0m                 create_graph=create_graph)\n\u001b[0;32m--> 221\u001b[0;31m         \u001b[0mtorch\u001b[0m\u001b[0;34m.\u001b[0m\u001b[0mautograd\u001b[0m\u001b[0;34m.\u001b[0m\u001b[0mbackward\u001b[0m\u001b[0;34m(\u001b[0m\u001b[0mself\u001b[0m\u001b[0;34m,\u001b[0m \u001b[0mgradient\u001b[0m\u001b[0;34m,\u001b[0m \u001b[0mretain_graph\u001b[0m\u001b[0;34m,\u001b[0m \u001b[0mcreate_graph\u001b[0m\u001b[0;34m)\u001b[0m\u001b[0;34m\u001b[0m\u001b[0;34m\u001b[0m\u001b[0m\n\u001b[0m\u001b[1;32m    222\u001b[0m \u001b[0;34m\u001b[0m\u001b[0m\n\u001b[1;32m    223\u001b[0m     \u001b[0;32mdef\u001b[0m \u001b[0mregister_hook\u001b[0m\u001b[0;34m(\u001b[0m\u001b[0mself\u001b[0m\u001b[0;34m,\u001b[0m \u001b[0mhook\u001b[0m\u001b[0;34m)\u001b[0m\u001b[0;34m:\u001b[0m\u001b[0;34m\u001b[0m\u001b[0;34m\u001b[0m\u001b[0m\n",
            "\u001b[0;32m/usr/local/lib/python3.6/dist-packages/torch/autograd/__init__.py\u001b[0m in \u001b[0;36mbackward\u001b[0;34m(tensors, grad_tensors, retain_graph, create_graph, grad_variables)\u001b[0m\n\u001b[1;32m    130\u001b[0m     Variable._execution_engine.run_backward(\n\u001b[1;32m    131\u001b[0m         \u001b[0mtensors\u001b[0m\u001b[0;34m,\u001b[0m \u001b[0mgrad_tensors_\u001b[0m\u001b[0;34m,\u001b[0m \u001b[0mretain_graph\u001b[0m\u001b[0;34m,\u001b[0m \u001b[0mcreate_graph\u001b[0m\u001b[0;34m,\u001b[0m\u001b[0;34m\u001b[0m\u001b[0;34m\u001b[0m\u001b[0m\n\u001b[0;32m--> 132\u001b[0;31m         allow_unreachable=True)  # allow_unreachable flag\n\u001b[0m\u001b[1;32m    133\u001b[0m \u001b[0;34m\u001b[0m\u001b[0m\n\u001b[1;32m    134\u001b[0m \u001b[0;34m\u001b[0m\u001b[0m\n",
            "\u001b[0;31mKeyboardInterrupt\u001b[0m: "
          ]
        },
        {
          "output_type": "display_data",
          "data": {
            "image/png": "[encoded data removed]",
            "text/plain": [
              "<Figure size 1080x360 with 2 Axes>"
            ]
          },
          "metadata": {
            "tags": []
          }
        },
        {
          "output_type": "display_data",
          "data": {
            "image/png": "[encoded data removed]",
            "text/plain": [
              "<Figure size 1080x360 with 2 Axes>"
            ]
          },
          "metadata": {
            "tags": []
          }
        },
        {
          "output_type": "display_data",
          "data": {
            "image/png": "[encoded data removed]",
            "text/plain": [
              "<Figure size 1080x360 with 2 Axes>"
            ]
          },
          "metadata": {
            "tags": []
          }
        },
        {
          "output_type": "display_data",
          "data": {
            "image/png": "[encoded data removed]",
            "text/plain": [
              "<Figure size 1080x360 with 2 Axes>"
            ]
          },
          "metadata": {
            "tags": []
          }
        },
        {
          "output_type": "display_data",
          "data": {
            "image/png": "[encoded data removed]",
            "text/plain": [
              "<Figure size 1080x360 with 2 Axes>"
            ]
          },
          "metadata": {
            "tags": []
          }
        },
        {
          "output_type": "display_data",
          "data": {
            "image/png": "[encoded data removed]",
            "text/plain": [
              "<Figure size 1080x360 with 2 Axes>"
            ]
          },
          "metadata": {
            "tags": []
          }
        }
      ]
    },
    {
      "cell_type": "code",
      "metadata": {
        "id": "KKK_eSsDIB9m",
        "colab": {
          "base_uri": "https://localhost:8080/"
        },
        "outputId": "d1289efe-9978-4646-b2c9-ff8cfb29fd9f"
      },
      "source": [
        "print('new finally loss = ', np.mean(history[-10:]))"
      ],
      "execution_count": null,
      "outputs": [
        {
          "output_type": "stream",
          "text": [
            "new finally loss =  81.4203\n"
          ],
          "name": "stdout"
        }
      ]
    },
    {
      "cell_type": "code",
      "metadata": {
        "id": "MCvfHd-btqLW",
        "colab": {
          "base_uri": "https://localhost:8080/"
        },
        "outputId": "fe25003e-2dc2-48de-c96b-692e302c433d"
      },
      "source": [
        "print('old finally loss = ', np.mean(history[-10:]))"
      ],
      "execution_count": null,
      "outputs": [
        {
          "output_type": "stream",
          "text": [
            "old finally loss =  73.65712\n"
          ],
          "name": "stdout"
        }
      ]
    }
  ]
}