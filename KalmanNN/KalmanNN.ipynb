{
  "nbformat": 4,
  "nbformat_minor": 0,
  "metadata": {
    "kernelspec": {
      "display_name": "Python 3",
      "language": "python",
      "name": "python3"
    },
    "language_info": {
      "codemirror_mode": {
        "name": "ipython",
        "version": 3
      },
      "file_extension": ".py",
      "mimetype": "text/x-python",
      "name": "python",
      "nbconvert_exporter": "python",
      "pygments_lexer": "ipython3",
      "version": "3.8.3"
    },
    "colab": {
      "name": "KalmanNN.ipynb",
      "provenance": [],
      "collapsed_sections": []
    },
    "accelerator": "GPU",
    "widgets": {
      "application/vnd.jupyter.widget-state+json": {
        "92a63ad2789244e58f4a9a376eb611c4": {
          "model_module": "@jupyter-widgets/controls",
          "model_name": "HBoxModel",
          "state": {
            "_view_name": "HBoxView",
            "_dom_classes": [],
            "_model_name": "HBoxModel",
            "_view_module": "@jupyter-widgets/controls",
            "_model_module_version": "1.5.0",
            "_view_count": null,
            "_view_module_version": "1.5.0",
            "box_style": "",
            "layout": "IPY_MODEL_fb388bb0813b49c1bbbf40a540e3f650",
            "_model_module": "@jupyter-widgets/controls",
            "children": [
              "IPY_MODEL_3e7d697e6a9044cfb7ce4aa5649012f8",
              "IPY_MODEL_2d3c73db43c34f88b0ecd87c73950dbc"
            ]
          }
        },
        "fb388bb0813b49c1bbbf40a540e3f650": {
          "model_module": "@jupyter-widgets/base",
          "model_name": "LayoutModel",
          "state": {
            "_view_name": "LayoutView",
            "grid_template_rows": null,
            "right": null,
            "justify_content": null,
            "_view_module": "@jupyter-widgets/base",
            "overflow": null,
            "_model_module_version": "1.2.0",
            "_view_count": null,
            "flex_flow": null,
            "width": null,
            "min_width": null,
            "border": null,
            "align_items": null,
            "bottom": null,
            "_model_module": "@jupyter-widgets/base",
            "top": null,
            "grid_column": null,
            "overflow_y": null,
            "overflow_x": null,
            "grid_auto_flow": null,
            "grid_area": null,
            "grid_template_columns": null,
            "flex": null,
            "_model_name": "LayoutModel",
            "justify_items": null,
            "grid_row": null,
            "max_height": null,
            "align_content": null,
            "visibility": null,
            "align_self": null,
            "height": null,
            "min_height": null,
            "padding": null,
            "grid_auto_rows": null,
            "grid_gap": null,
            "max_width": null,
            "order": null,
            "_view_module_version": "1.2.0",
            "grid_template_areas": null,
            "object_position": null,
            "object_fit": null,
            "grid_auto_columns": null,
            "margin": null,
            "display": null,
            "left": null
          }
        },
        "3e7d697e6a9044cfb7ce4aa5649012f8": {
          "model_module": "@jupyter-widgets/controls",
          "model_name": "FloatProgressModel",
          "state": {
            "_view_name": "ProgressView",
            "style": "IPY_MODEL_3241519f000a4bec8824856567298120",
            "_dom_classes": [],
            "description": "Collecting strided data: 100%",
            "_model_name": "FloatProgressModel",
            "bar_style": "success",
            "max": 700,
            "_view_module": "@jupyter-widgets/controls",
            "_model_module_version": "1.5.0",
            "value": 700,
            "_view_count": null,
            "_view_module_version": "1.5.0",
            "orientation": "horizontal",
            "min": 0,
            "description_tooltip": null,
            "_model_module": "@jupyter-widgets/controls",
            "layout": "IPY_MODEL_43122d1d699e43df9f7da575a48203ae"
          }
        },
        "2d3c73db43c34f88b0ecd87c73950dbc": {
          "model_module": "@jupyter-widgets/controls",
          "model_name": "HTMLModel",
          "state": {
            "_view_name": "HTMLView",
            "style": "IPY_MODEL_97539ce5946f49f985497d2a7230a5ad",
            "_dom_classes": [],
            "description": "",
            "_model_name": "HTMLModel",
            "placeholder": "​",
            "_view_module": "@jupyter-widgets/controls",
            "_model_module_version": "1.5.0",
            "value": " 700/700 [01:01&lt;00:00, 11.36it/s]",
            "_view_count": null,
            "_view_module_version": "1.5.0",
            "description_tooltip": null,
            "_model_module": "@jupyter-widgets/controls",
            "layout": "IPY_MODEL_600d1d54b4c3482399c8d3375dd6fcca"
          }
        },
        "3241519f000a4bec8824856567298120": {
          "model_module": "@jupyter-widgets/controls",
          "model_name": "ProgressStyleModel",
          "state": {
            "_view_name": "StyleView",
            "_model_name": "ProgressStyleModel",
            "description_width": "initial",
            "_view_module": "@jupyter-widgets/base",
            "_model_module_version": "1.5.0",
            "_view_count": null,
            "_view_module_version": "1.2.0",
            "bar_color": null,
            "_model_module": "@jupyter-widgets/controls"
          }
        },
        "43122d1d699e43df9f7da575a48203ae": {
          "model_module": "@jupyter-widgets/base",
          "model_name": "LayoutModel",
          "state": {
            "_view_name": "LayoutView",
            "grid_template_rows": null,
            "right": null,
            "justify_content": null,
            "_view_module": "@jupyter-widgets/base",
            "overflow": null,
            "_model_module_version": "1.2.0",
            "_view_count": null,
            "flex_flow": null,
            "width": null,
            "min_width": null,
            "border": null,
            "align_items": null,
            "bottom": null,
            "_model_module": "@jupyter-widgets/base",
            "top": null,
            "grid_column": null,
            "overflow_y": null,
            "overflow_x": null,
            "grid_auto_flow": null,
            "grid_area": null,
            "grid_template_columns": null,
            "flex": null,
            "_model_name": "LayoutModel",
            "justify_items": null,
            "grid_row": null,
            "max_height": null,
            "align_content": null,
            "visibility": null,
            "align_self": null,
            "height": null,
            "min_height": null,
            "padding": null,
            "grid_auto_rows": null,
            "grid_gap": null,
            "max_width": null,
            "order": null,
            "_view_module_version": "1.2.0",
            "grid_template_areas": null,
            "object_position": null,
            "object_fit": null,
            "grid_auto_columns": null,
            "margin": null,
            "display": null,
            "left": null
          }
        },
        "97539ce5946f49f985497d2a7230a5ad": {
          "model_module": "@jupyter-widgets/controls",
          "model_name": "DescriptionStyleModel",
          "state": {
            "_view_name": "StyleView",
            "_model_name": "DescriptionStyleModel",
            "description_width": "",
            "_view_module": "@jupyter-widgets/base",
            "_model_module_version": "1.5.0",
            "_view_count": null,
            "_view_module_version": "1.2.0",
            "_model_module": "@jupyter-widgets/controls"
          }
        },
        "600d1d54b4c3482399c8d3375dd6fcca": {
          "model_module": "@jupyter-widgets/base",
          "model_name": "LayoutModel",
          "state": {
            "_view_name": "LayoutView",
            "grid_template_rows": null,
            "right": null,
            "justify_content": null,
            "_view_module": "@jupyter-widgets/base",
            "overflow": null,
            "_model_module_version": "1.2.0",
            "_view_count": null,
            "flex_flow": null,
            "width": null,
            "min_width": null,
            "border": null,
            "align_items": null,
            "bottom": null,
            "_model_module": "@jupyter-widgets/base",
            "top": null,
            "grid_column": null,
            "overflow_y": null,
            "overflow_x": null,
            "grid_auto_flow": null,
            "grid_area": null,
            "grid_template_columns": null,
            "flex": null,
            "_model_name": "LayoutModel",
            "justify_items": null,
            "grid_row": null,
            "max_height": null,
            "align_content": null,
            "visibility": null,
            "align_self": null,
            "height": null,
            "min_height": null,
            "padding": null,
            "grid_auto_rows": null,
            "grid_gap": null,
            "max_width": null,
            "order": null,
            "_view_module_version": "1.2.0",
            "grid_template_areas": null,
            "object_position": null,
            "object_fit": null,
            "grid_auto_columns": null,
            "margin": null,
            "display": null,
            "left": null
          }
        },
        "5562be15de3545c69c58eb3bcc264e39": {
          "model_module": "@jupyter-widgets/controls",
          "model_name": "HBoxModel",
          "state": {
            "_view_name": "HBoxView",
            "_dom_classes": [],
            "_model_name": "HBoxModel",
            "_view_module": "@jupyter-widgets/controls",
            "_model_module_version": "1.5.0",
            "_view_count": null,
            "_view_module_version": "1.5.0",
            "box_style": "",
            "layout": "IPY_MODEL_0e24ac3fd2ba486787419a6b689edf95",
            "_model_module": "@jupyter-widgets/controls",
            "children": [
              "IPY_MODEL_7439915f857343b0a87c248f4e535ecc",
              "IPY_MODEL_fccc9cc5a1bd472094f4963e56e5503b"
            ]
          }
        },
        "0e24ac3fd2ba486787419a6b689edf95": {
          "model_module": "@jupyter-widgets/base",
          "model_name": "LayoutModel",
          "state": {
            "_view_name": "LayoutView",
            "grid_template_rows": null,
            "right": null,
            "justify_content": null,
            "_view_module": "@jupyter-widgets/base",
            "overflow": null,
            "_model_module_version": "1.2.0",
            "_view_count": null,
            "flex_flow": null,
            "width": null,
            "min_width": null,
            "border": null,
            "align_items": null,
            "bottom": null,
            "_model_module": "@jupyter-widgets/base",
            "top": null,
            "grid_column": null,
            "overflow_y": null,
            "overflow_x": null,
            "grid_auto_flow": null,
            "grid_area": null,
            "grid_template_columns": null,
            "flex": null,
            "_model_name": "LayoutModel",
            "justify_items": null,
            "grid_row": null,
            "max_height": null,
            "align_content": null,
            "visibility": null,
            "align_self": null,
            "height": null,
            "min_height": null,
            "padding": null,
            "grid_auto_rows": null,
            "grid_gap": null,
            "max_width": null,
            "order": null,
            "_view_module_version": "1.2.0",
            "grid_template_areas": null,
            "object_position": null,
            "object_fit": null,
            "grid_auto_columns": null,
            "margin": null,
            "display": null,
            "left": null
          }
        },
        "7439915f857343b0a87c248f4e535ecc": {
          "model_module": "@jupyter-widgets/controls",
          "model_name": "FloatProgressModel",
          "state": {
            "_view_name": "ProgressView",
            "style": "IPY_MODEL_7b366c1492a34643b8c708fdf2f3643e",
            "_dom_classes": [],
            "description": "Collecting strided data: 100%",
            "_model_name": "FloatProgressModel",
            "bar_style": "success",
            "max": 100,
            "_view_module": "@jupyter-widgets/controls",
            "_model_module_version": "1.5.0",
            "value": 100,
            "_view_count": null,
            "_view_module_version": "1.5.0",
            "orientation": "horizontal",
            "min": 0,
            "description_tooltip": null,
            "_model_module": "@jupyter-widgets/controls",
            "layout": "IPY_MODEL_cb026c20f0634e7abdba7f86eb879102"
          }
        },
        "fccc9cc5a1bd472094f4963e56e5503b": {
          "model_module": "@jupyter-widgets/controls",
          "model_name": "HTMLModel",
          "state": {
            "_view_name": "HTMLView",
            "style": "IPY_MODEL_440a3334088b4ad7a60c589143fef195",
            "_dom_classes": [],
            "description": "",
            "_model_name": "HTMLModel",
            "placeholder": "​",
            "_view_module": "@jupyter-widgets/controls",
            "_model_module_version": "1.5.0",
            "value": " 100/100 [00:57&lt;00:00,  1.74it/s]",
            "_view_count": null,
            "_view_module_version": "1.5.0",
            "description_tooltip": null,
            "_model_module": "@jupyter-widgets/controls",
            "layout": "IPY_MODEL_5a032807b602413e969c7d0bae60eaca"
          }
        },
        "7b366c1492a34643b8c708fdf2f3643e": {
          "model_module": "@jupyter-widgets/controls",
          "model_name": "ProgressStyleModel",
          "state": {
            "_view_name": "StyleView",
            "_model_name": "ProgressStyleModel",
            "description_width": "initial",
            "_view_module": "@jupyter-widgets/base",
            "_model_module_version": "1.5.0",
            "_view_count": null,
            "_view_module_version": "1.2.0",
            "bar_color": null,
            "_model_module": "@jupyter-widgets/controls"
          }
        },
        "cb026c20f0634e7abdba7f86eb879102": {
          "model_module": "@jupyter-widgets/base",
          "model_name": "LayoutModel",
          "state": {
            "_view_name": "LayoutView",
            "grid_template_rows": null,
            "right": null,
            "justify_content": null,
            "_view_module": "@jupyter-widgets/base",
            "overflow": null,
            "_model_module_version": "1.2.0",
            "_view_count": null,
            "flex_flow": null,
            "width": null,
            "min_width": null,
            "border": null,
            "align_items": null,
            "bottom": null,
            "_model_module": "@jupyter-widgets/base",
            "top": null,
            "grid_column": null,
            "overflow_y": null,
            "overflow_x": null,
            "grid_auto_flow": null,
            "grid_area": null,
            "grid_template_columns": null,
            "flex": null,
            "_model_name": "LayoutModel",
            "justify_items": null,
            "grid_row": null,
            "max_height": null,
            "align_content": null,
            "visibility": null,
            "align_self": null,
            "height": null,
            "min_height": null,
            "padding": null,
            "grid_auto_rows": null,
            "grid_gap": null,
            "max_width": null,
            "order": null,
            "_view_module_version": "1.2.0",
            "grid_template_areas": null,
            "object_position": null,
            "object_fit": null,
            "grid_auto_columns": null,
            "margin": null,
            "display": null,
            "left": null
          }
        },
        "440a3334088b4ad7a60c589143fef195": {
          "model_module": "@jupyter-widgets/controls",
          "model_name": "DescriptionStyleModel",
          "state": {
            "_view_name": "StyleView",
            "_model_name": "DescriptionStyleModel",
            "description_width": "",
            "_view_module": "@jupyter-widgets/base",
            "_model_module_version": "1.5.0",
            "_view_count": null,
            "_view_module_version": "1.2.0",
            "_model_module": "@jupyter-widgets/controls"
          }
        },
        "5a032807b602413e969c7d0bae60eaca": {
          "model_module": "@jupyter-widgets/base",
          "model_name": "LayoutModel",
          "state": {
            "_view_name": "LayoutView",
            "grid_template_rows": null,
            "right": null,
            "justify_content": null,
            "_view_module": "@jupyter-widgets/base",
            "overflow": null,
            "_model_module_version": "1.2.0",
            "_view_count": null,
            "flex_flow": null,
            "width": null,
            "min_width": null,
            "border": null,
            "align_items": null,
            "bottom": null,
            "_model_module": "@jupyter-widgets/base",
            "top": null,
            "grid_column": null,
            "overflow_y": null,
            "overflow_x": null,
            "grid_auto_flow": null,
            "grid_area": null,
            "grid_template_columns": null,
            "flex": null,
            "_model_name": "LayoutModel",
            "justify_items": null,
            "grid_row": null,
            "max_height": null,
            "align_content": null,
            "visibility": null,
            "align_self": null,
            "height": null,
            "min_height": null,
            "padding": null,
            "grid_auto_rows": null,
            "grid_gap": null,
            "max_width": null,
            "order": null,
            "_view_module_version": "1.2.0",
            "grid_template_areas": null,
            "object_position": null,
            "object_fit": null,
            "grid_auto_columns": null,
            "margin": null,
            "display": null,
            "left": null
          }
        },
        "d38148695b4c400d818d5a3631733cfb": {
          "model_module": "@jupyter-widgets/controls",
          "model_name": "HBoxModel",
          "state": {
            "_view_name": "HBoxView",
            "_dom_classes": [],
            "_model_name": "HBoxModel",
            "_view_module": "@jupyter-widgets/controls",
            "_model_module_version": "1.5.0",
            "_view_count": null,
            "_view_module_version": "1.5.0",
            "box_style": "",
            "layout": "IPY_MODEL_46da3d39a597402f89d608ddb20f0c5f",
            "_model_module": "@jupyter-widgets/controls",
            "children": [
              "IPY_MODEL_7f44e50217094754ae69016d99bfbb5b",
              "IPY_MODEL_1fead5218fc945f7b747a623df2385cb"
            ]
          }
        },
        "46da3d39a597402f89d608ddb20f0c5f": {
          "model_module": "@jupyter-widgets/base",
          "model_name": "LayoutModel",
          "state": {
            "_view_name": "LayoutView",
            "grid_template_rows": null,
            "right": null,
            "justify_content": null,
            "_view_module": "@jupyter-widgets/base",
            "overflow": null,
            "_model_module_version": "1.2.0",
            "_view_count": null,
            "flex_flow": null,
            "width": null,
            "min_width": null,
            "border": null,
            "align_items": null,
            "bottom": null,
            "_model_module": "@jupyter-widgets/base",
            "top": null,
            "grid_column": null,
            "overflow_y": null,
            "overflow_x": null,
            "grid_auto_flow": null,
            "grid_area": null,
            "grid_template_columns": null,
            "flex": null,
            "_model_name": "LayoutModel",
            "justify_items": null,
            "grid_row": null,
            "max_height": null,
            "align_content": null,
            "visibility": null,
            "align_self": null,
            "height": null,
            "min_height": null,
            "padding": null,
            "grid_auto_rows": null,
            "grid_gap": null,
            "max_width": null,
            "order": null,
            "_view_module_version": "1.2.0",
            "grid_template_areas": null,
            "object_position": null,
            "object_fit": null,
            "grid_auto_columns": null,
            "margin": null,
            "display": null,
            "left": null
          }
        },
        "7f44e50217094754ae69016d99bfbb5b": {
          "model_module": "@jupyter-widgets/controls",
          "model_name": "FloatProgressModel",
          "state": {
            "_view_name": "ProgressView",
            "style": "IPY_MODEL_2ed039c31c1f45d9bc4badf29b2d0694",
            "_dom_classes": [],
            "description": "Collecting strided data: 100%",
            "_model_name": "FloatProgressModel",
            "bar_style": "success",
            "max": 200,
            "_view_module": "@jupyter-widgets/controls",
            "_model_module_version": "1.5.0",
            "value": 200,
            "_view_count": null,
            "_view_module_version": "1.5.0",
            "orientation": "horizontal",
            "min": 0,
            "description_tooltip": null,
            "_model_module": "@jupyter-widgets/controls",
            "layout": "IPY_MODEL_5ce1cd73a215419b9ca5c35b6a21853b"
          }
        },
        "1fead5218fc945f7b747a623df2385cb": {
          "model_module": "@jupyter-widgets/controls",
          "model_name": "HTMLModel",
          "state": {
            "_view_name": "HTMLView",
            "style": "IPY_MODEL_ad2546ab6cf44a23aef53e9d38756c59",
            "_dom_classes": [],
            "description": "",
            "_model_name": "HTMLModel",
            "placeholder": "​",
            "_view_module": "@jupyter-widgets/controls",
            "_model_module_version": "1.5.0",
            "value": " 200/200 [00:56&lt;00:00,  3.51it/s]",
            "_view_count": null,
            "_view_module_version": "1.5.0",
            "description_tooltip": null,
            "_model_module": "@jupyter-widgets/controls",
            "layout": "IPY_MODEL_7a3b1ece643447dfa59948bc6f56ba47"
          }
        },
        "2ed039c31c1f45d9bc4badf29b2d0694": {
          "model_module": "@jupyter-widgets/controls",
          "model_name": "ProgressStyleModel",
          "state": {
            "_view_name": "StyleView",
            "_model_name": "ProgressStyleModel",
            "description_width": "initial",
            "_view_module": "@jupyter-widgets/base",
            "_model_module_version": "1.5.0",
            "_view_count": null,
            "_view_module_version": "1.2.0",
            "bar_color": null,
            "_model_module": "@jupyter-widgets/controls"
          }
        },
        "5ce1cd73a215419b9ca5c35b6a21853b": {
          "model_module": "@jupyter-widgets/base",
          "model_name": "LayoutModel",
          "state": {
            "_view_name": "LayoutView",
            "grid_template_rows": null,
            "right": null,
            "justify_content": null,
            "_view_module": "@jupyter-widgets/base",
            "overflow": null,
            "_model_module_version": "1.2.0",
            "_view_count": null,
            "flex_flow": null,
            "width": null,
            "min_width": null,
            "border": null,
            "align_items": null,
            "bottom": null,
            "_model_module": "@jupyter-widgets/base",
            "top": null,
            "grid_column": null,
            "overflow_y": null,
            "overflow_x": null,
            "grid_auto_flow": null,
            "grid_area": null,
            "grid_template_columns": null,
            "flex": null,
            "_model_name": "LayoutModel",
            "justify_items": null,
            "grid_row": null,
            "max_height": null,
            "align_content": null,
            "visibility": null,
            "align_self": null,
            "height": null,
            "min_height": null,
            "padding": null,
            "grid_auto_rows": null,
            "grid_gap": null,
            "max_width": null,
            "order": null,
            "_view_module_version": "1.2.0",
            "grid_template_areas": null,
            "object_position": null,
            "object_fit": null,
            "grid_auto_columns": null,
            "margin": null,
            "display": null,
            "left": null
          }
        },
        "ad2546ab6cf44a23aef53e9d38756c59": {
          "model_module": "@jupyter-widgets/controls",
          "model_name": "DescriptionStyleModel",
          "state": {
            "_view_name": "StyleView",
            "_model_name": "DescriptionStyleModel",
            "description_width": "",
            "_view_module": "@jupyter-widgets/base",
            "_model_module_version": "1.5.0",
            "_view_count": null,
            "_view_module_version": "1.2.0",
            "_model_module": "@jupyter-widgets/controls"
          }
        },
        "7a3b1ece643447dfa59948bc6f56ba47": {
          "model_module": "@jupyter-widgets/base",
          "model_name": "LayoutModel",
          "state": {
            "_view_name": "LayoutView",
            "grid_template_rows": null,
            "right": null,
            "justify_content": null,
            "_view_module": "@jupyter-widgets/base",
            "overflow": null,
            "_model_module_version": "1.2.0",
            "_view_count": null,
            "flex_flow": null,
            "width": null,
            "min_width": null,
            "border": null,
            "align_items": null,
            "bottom": null,
            "_model_module": "@jupyter-widgets/base",
            "top": null,
            "grid_column": null,
            "overflow_y": null,
            "overflow_x": null,
            "grid_auto_flow": null,
            "grid_area": null,
            "grid_template_columns": null,
            "flex": null,
            "_model_name": "LayoutModel",
            "justify_items": null,
            "grid_row": null,
            "max_height": null,
            "align_content": null,
            "visibility": null,
            "align_self": null,
            "height": null,
            "min_height": null,
            "padding": null,
            "grid_auto_rows": null,
            "grid_gap": null,
            "max_width": null,
            "order": null,
            "_view_module_version": "1.2.0",
            "grid_template_areas": null,
            "object_position": null,
            "object_fit": null,
            "grid_auto_columns": null,
            "margin": null,
            "display": null,
            "left": null
          }
        }
      }
    }
  },
  "cells": [
    {
      "cell_type": "code",
      "metadata": {
        "id": "wTCEDjPbCo_y"
      },
      "source": [
        "# standard imports\\n\",\n",
        "import os\n",
        "import random\n",
        "import numpy as np\n",
        "\n",
        "# work with data\\n\",\n",
        "import pandas as pd\n",
        "import h5py\n",
        "import matplotlib.pyplot as plt\n",
        "%matplotlib inline\n",
        "from mpl_toolkits.mplot3d import Axes3D\n",
        "import glob\n",
        "from tqdm.auto import tqdm\n",
        "from IPython.display import clear_output\n",
        "\n",
        "# like numpy, only good + NN\n",
        "import torch, torch.nn as nn\n",
        "import torch.nn.functional as torch_nn_F\n",
        "from torch.utils.data import DataLoader, Dataset, Subset\n",
        "# import torchvision\n",
        "# from torchvision import transforms\n",
        "import time\n",
        "\n",
        "\n",
        "plt.rcParams[\n",
        "    \"figure.facecolor\"\n",
        "] = \"w\"  # force white background on plots when using dark mode in JupyterLab\n",
        "\n",
        "# Dark plots\\n\",\n",
        "#plt.style.use('dark_background')\\n\",\n",
        "\n",
        "TIME_STEP = 1\n",
        "CLASSNAME = {0: 'ballistic', 1: 'hgv', 2: 'hcm'}\n",
        "CLASSTYPE = {'ballistic': 0, 'hgv': 1, 'hcm': 2}"
      ],
      "execution_count": 3,
      "outputs": []
    },
    {
      "cell_type": "markdown",
      "metadata": {
        "id": "R2JCNbReCo_y"
      },
      "source": [
        "# Prepare data\n",
        "## Load and examine data"
      ]
    },
    {
      "cell_type": "code",
      "metadata": {
        "id": "Ont_TbhRCo_y"
      },
      "source": [
        "# Data reading function\n",
        "def read_trajectories(path_to_file):\n",
        "    dset = pd.HDFStore(path_to_file, 'r')\n",
        "#     print(dset.info())\\n\",\n",
        "    return dset"
      ],
      "execution_count": 4,
      "outputs": []
    },
    {
      "cell_type": "markdown",
      "metadata": {
        "id": "u9sk-0Q3Co_y"
      },
      "source": [
        "## Splitting the data"
      ]
    },
    {
      "cell_type": "code",
      "metadata": {
        "id": "wS-OhyqoCo_z"
      },
      "source": [
        "def train_val_test_split(data, tts = (0.7, 0.1, 0.2), shuffle=False):\n",
        "    '''Split data into train, validation and test sets according to `tts` tuple\n",
        "\n",
        "    By default, tts = (train, val, test) = (0.7, 0.1, 0.2)\n",
        "    '''\n",
        "    assert sum(tts) == 1\n",
        "\n",
        "    if shuffle:\n",
        "        data = np.random.shuffle(data)\n",
        "\n",
        "    h = len(data)\n",
        "    train = data[:int(h * tts[0])]\n",
        "    val = data[int(h * tts[0]) : int(h * np.round(tts[0] + tts[1], 4))]\n",
        "    test = data[int(h * np.round(tts[0] + tts[1], 4)) : int(h * sum(tts))]\n",
        "\n",
        "    return train, val, test"
      ],
      "execution_count": 5,
      "outputs": []
    },
    {
      "cell_type": "markdown",
      "metadata": {
        "id": "MBM-6q37Co_0"
      },
      "source": [
        "## Invertible trajectory pre-processing transform"
      ]
    },
    {
      "cell_type": "code",
      "metadata": {
        "id": "U_-mtPGzCo_0"
      },
      "source": [
        "class RelativeTrajectory():\n",
        "    def __init__(self, df, diff=False, ref_point=20):\n",
        "\n",
        "        self.diff = diff\n",
        "        self.ref_point = ref_point\n",
        "        \n",
        "        data = np.array(df.drop('t', 1))\n",
        "        \n",
        "        # Remember first state\n",
        "        self.start_state = data[0].copy()\n",
        "        \n",
        "        # Make changes relative to the start state\n",
        "        data -= self.start_state\n",
        "        \n",
        "        # Rotate coordinate system around Z axis, \n",
        "        # so X` axis will pass through the 20'th point\n",
        "        # and Y` axis will represent deviation\n",
        "\n",
        "        ## Calculate angle of rotation: arctan(y_r / x_r), where r is ref_point\n",
        "        assert data.shape[0] >= ref_point\n",
        "        self.theta = np.arctan(data[ref_point][1] / data[ref_point][0])\n",
        "\n",
        "        ## Rotation matrix for XY plane around Z axis\n",
        "        ## Perform rotation for coordinates\n",
        "        data[:, :3] = self.rotate_Z(data[:, :3], self.theta)\n",
        "\n",
        "        ## Perform rotation for velocities\n",
        "        data[:, 3:6] = self.rotate_Z(data[:, 3:6], self.theta)\n",
        "\n",
        "        # Scale data to kilometers\n",
        "        data /= 1000\n",
        "\n",
        "        self.first_diff_elem = None\n",
        "        if diff:\n",
        "            self.first_diff_elem = data[0].copy()\n",
        "            data = np.diff(data, axis=0)    \n",
        "        \n",
        "        self.data = data\n",
        "        \n",
        "    def restore(self, columns, ts=1, config=None):\n",
        "        \n",
        "        assert ts > 0\n",
        "        \n",
        "        if config:\n",
        "            self.set_info(config)\n",
        "        \n",
        "        # Restore diff data\n",
        "        if self.diff:\n",
        "            data = np.r_[np.expand_dims(self.first_diff_elem, 0), np.cumsum(self.data, axis=0)]\n",
        "        else:         \n",
        "            data = self.data.copy()\n",
        "        \n",
        "        # Scale data from km back to meters\n",
        "        data *= 1000\n",
        "        \n",
        "        ## Rotation matrix for XY plane around Z axis\n",
        "        ## Perform rotation for coordinates\n",
        "        data[:, 0:3] = self.rotate_Z(data[:, 0:3], -self.theta)\n",
        "\n",
        "        ## Perform rotation for velocities\n",
        "        data[:, 3:6] = self.rotate_Z(data[:, 3:6], -self.theta)\n",
        "        \n",
        "        # Make changes absolute\n",
        "        data += self.start_state\n",
        "\n",
        "        # Restore Pandas.DataFrame format\n",
        "        t = np.arange(0, data.shape[0], ts)\n",
        "        data = np.c_[data, t] \n",
        "        data = pd.DataFrame(data, columns=columns)\n",
        "        \n",
        "        return data\n",
        "        \n",
        "    @staticmethod\n",
        "    def rotate_Z(data, theta):\n",
        "        \"\"\"Rotate data around the Z axis using matrix R\"\"\"\n",
        "        \n",
        "        R = np.array([\n",
        "            [np.cos(theta), -np.sin(theta), 0],\n",
        "            [np.sin(theta),  np.cos(theta), 0],\n",
        "            [            0,              0, 1]\n",
        "        ])\n",
        "        return data @ R.T\n",
        "    \n",
        "    def info(self):\n",
        "        return {\n",
        "            'ref_point' : self.ref_point,\n",
        "            'diff' : self.diff,\n",
        "            'start_state' : self.start_state,\n",
        "            'first_diff_elem' : self.first_diff_elem,\n",
        "            'theta' : self.theta\n",
        "        }\n",
        "    \n",
        "    def set_info(self, config):\n",
        "        self.ref_point = config['ref_point']\n",
        "        self.diff = config['diff']\n",
        "        self.start_point = config['start_point']\n",
        "        self.first_diff_elem = config['first_diff_elem']\n",
        "        self.theta = config['theta']"
      ],
      "execution_count": 6,
      "outputs": []
    },
    {
      "cell_type": "markdown",
      "metadata": {
        "id": "QPsATrbJCo_0"
      },
      "source": [
        "## Generation of datasets"
      ]
    },
    {
      "cell_type": "code",
      "metadata": {
        "id": "0zmkSG4NCo_0"
      },
      "source": [
        "def max_min_len_coordinate(dset, keys):\n",
        "    max_size = 0\n",
        "    min_size = len(np.array(dset[keys[0]])[:,0])\n",
        "    for key_k in keys:\n",
        "        size = len(np.array(dset[key_k])[:,0])\n",
        "        if size > max_size:\n",
        "            max_size = size\n",
        "            max_key = key_k\n",
        "        if size < min_size:\n",
        "            min_size = size\n",
        "            min_key = key_k\n",
        "    return (max_size, min_size, max_key, min_key)"
      ],
      "execution_count": 7,
      "outputs": []
    },
    {
      "cell_type": "code",
      "metadata": {
        "id": "0SYcu6PPCo_0"
      },
      "source": [
        "def get_strided_data_clust(dset, keys, variables=3, gt_size=0, step=1, diff=False, verbose=False):\n",
        "    '''Return list with parts of trajectories and their residuals.\n",
        "\n",
        "    Arguments:\n",
        "    dset -- h5py Data set with trajectory data\n",
        "        keys -- keys for extracting data from `dset`\n",
        "\n",
        "    Keyword arguments:\n",
        "    variables -- (default: 3) how many variables to extract:\n",
        "                     3 for XYZ -- coordinates,\n",
        "                     6 for XYZUVW -- coordinates and speeds,\n",
        "                     7 for XYZUVWH -- coords, speeds and altitude\n",
        "\n",
        "        gt_size -- how many trajectory points are to be observed\n",
        "        step -- (default: 1)\n",
        "                if 1, every row from the `dset` will be processed,\n",
        "                if >1, some rows will be skipped accordingly.\n",
        "        diff -- (default: False) toggle extract differentiated relative trajectories\n",
        "    '''\n",
        "    assert gt_size > 1\n",
        "    assert variables in [3, 6, 7]\n",
        "\n",
        "    # Create list with parts of trajectories,\n",
        "    # each element has gt_size trajectory points\n",
        "    data_seqs = []\n",
        "    data_seqs_noise = []\n",
        "\n",
        "    # Set of configs for each trajectory.\n",
        "    configs = {}\n",
        "\n",
        "    # List of trajectory indices\n",
        "    # (to which trajectory this traj_elem belongs to)\n",
        "    traj_ids = []\n",
        "\n",
        "\n",
        "    # Collect trajectories, preprocess and\n",
        "    # split them into trajectory parts\n",
        "    for k in tqdm(range(len(keys)), disable=1-verbose, desc='Collecting strided data'):\n",
        "        # Get relative trajectory from the dataset\n",
        "        rt = RelativeTrajectory(dset[keys[k]], diff=diff)\n",
        "        configs[k] = rt.info()  # save for future restoration\n",
        "\n",
        "        # Collect list of trajectory parts from `rt`\n",
        "        # using time window gt_size and time shift `step`\n",
        "        if gt_size < rt.data.shape[0]:\n",
        "            for i in range(1 + (rt.data.shape[0] - gt_size) // step):\n",
        "                data_seqs.append([rt.data[i*step : i*step + gt_size, :variables]])\n",
        "                traj_ids.append(k)\n",
        "        else:\n",
        "            new_rt = np.zeros((gt_size,variables))  \n",
        "            new_rt[0:rt.data.shape[0],0:variables] = rt.data[:, :variables]\n",
        "            data_seqs.append([new_rt])\n",
        "            traj_ids.append(k)\n",
        "\n",
        "    data_seqs_noise = np.random.normal(data_seqs, random.randint(1, 5))\n",
        "            \n",
        "    # Collect all data seqs into one huge dataset\n",
        "    # of shape [? , gt_size, variables]\n",
        "    data_seqs_all = np.stack(data_seqs).squeeze()\n",
        "    data_seqs_all_noise = np.stack(data_seqs_noise).squeeze()\n",
        "    traj_ids_all = np.stack(traj_ids)\n",
        "\n",
        "    # Calculate mean and std over all data\n",
        "    data_mean = data_seqs_all.mean((0, 1))\n",
        "    data_std = data_seqs_all.std((0, 1))\n",
        "    res_mean = np.zeros(variables)\n",
        "    res_std = np.ones(variables)\n",
        "    \n",
        "    \n",
        "    stats = {\n",
        "        'data_mean': data_mean,\n",
        "        'data_std': data_std,\n",
        "        'res_mean': res_mean,\n",
        "        'res_std': res_std\n",
        "    }\n",
        "\n",
        "    if verbose:\n",
        "        with np.printoptions(precision=3):\n",
        "            print(f'Total trajectory parts: {data_seqs_all.shape[0]}')\n",
        "            print(f'Each: {gt_size} observed = {gt_size} points in total')\n",
        "            print(f'Each point contains {data_seqs_all.shape[-1]} variables')\n",
        "\n",
        "            print('Data mean:', stats['data_mean'],\n",
        "                  'Data std:', stats['data_std'],\n",
        "                  sep='\\\\n')\n",
        "\n",
        "    return (\n",
        "        data_seqs_all.squeeze()[:, :gt_size], # data sequences\n",
        "        data_seqs_all_noise.squeeze()[:, :gt_size], # data_noise sequences\n",
        "        configs,\n",
        "        stats,\n",
        "        traj_ids_all\n",
        "    )"
      ],
      "execution_count": 38,
      "outputs": []
    },
    {
      "cell_type": "code",
      "metadata": {
        "id": "RiOF9nCACo_0"
      },
      "source": [
        "class TrajectoryDataset(Dataset):\n",
        "    def __init__(self, data, name, variables=3, configs=None, stats=None, transform=None):\n",
        "        super().__init__()\n",
        "    \n",
        "        self.data = data\n",
        "        self.name = name\n",
        "        self.variables = variables\n",
        "        self.configs = configs\n",
        "        self.stats = stats\n",
        "        self.transform = transform\n",
        "\n",
        "        if self.transform is not None:\n",
        "            self.data = self.transform(self.data)\n",
        "        \n",
        "    def __len__(self):\n",
        "        return self.data['data'].shape[0]\n",
        "    \n",
        "    def __getitem__(self, index):\n",
        "        \n",
        "        ret =  {\n",
        "            'data': torch.Tensor(self.data['data'][index]),\n",
        "            'data_noise': torch.Tensor(self.data['data_noise'][index]),\n",
        "            'traj_id': self.data['traj_ids'][index],\n",
        "        }\n",
        "        return ret"
      ],
      "execution_count": 14,
      "outputs": []
    },
    {
      "cell_type": "code",
      "metadata": {
        "id": "vq55tXvZCo_0"
      },
      "source": [
        "def create_dataset(dset, keys, name, variables=3, gt_size=8, step=1, diff=False, train=True, scaler=None, verbose=False):\n",
        "    \"\"\"Create TrajectoryDataset for training NNs.\n",
        "\n",
        "    Arguments:\n",
        "        dset -- h5py dataset object\n",
        "        keys -- list of strings: keys for extracting data from `dset`\n",
        "        name -- name of the TrajectoryDataset\n",
        "\n",
        "    Keyword arguments:\n",
        "        variables -- (default: 3) how many variables to extract:\n",
        "                     3 for XYZ -- coordinates,\n",
        "                     6 for XYZUVW -- coordinates and speeds,\n",
        "                     7 for XYZUVWH -- coords, speeds and altitude\n",
        "\n",
        "        residuals -- (default: True) if True, residuals of trajectory will \n",
        "                     be concatenated, such that, in case of 3 variables: \n",
        "                     [[X1, Y1, Z1],      [[X1, Y1, Z1,     0,     0,     0],\n",
        "                      [X2, Y2, Z2],  -->  [X2, Y2, Z2, X2-X1, Y2-Y1, Z2-Z1],\n",
        "                      [X3, Y3, Z3]]       [X3, Y3, Z3, X3-X2, Y3-Y2, Z3-Z2]]\n",
        "\n",
        "        gt_size -- how many points are observed (model input)\n",
        "        horizon -- how many points the model tries to predict into the future\n",
        "        step -- stride step for data\n",
        "        diff -- toggle differentiate trajectories\n",
        "        train -- this data will be used for training\n",
        "        scaler -- custom scaler, so data will have zero mean and unit variance\n",
        "        verbose -- toggle print info to the terminal\n",
        "        \n",
        "    Note:\n",
        "        If `train == True`, the scaler will fit on the collected data and\n",
        "        then returned as the TrajectoryDataset.scaler attribute\n",
        "        \n",
        "        If 'train == False', this function will look for scaler from the \n",
        "        arguments, then use it to scale collected data for evaluation.\n",
        "    \"\"\"\n",
        "    if verbose:\n",
        "        print(f\"Loading dataset in {'train' if train else 'evaluation'} mode...\")\n",
        "\n",
        "    inp, inp_noise, configs, stats, traj_ids = get_strided_data_clust(\n",
        "        dset, keys, variables, gt_size, step, diff, verbose)\n",
        "\n",
        "    data = {\n",
        "        'data': inp,\n",
        "        'data_noise': inp_noise, \n",
        "        'traj_ids': traj_ids\n",
        "    }\n",
        "\n",
        "    return TrajectoryDataset(data, name, variables, configs, stats)"
      ],
      "execution_count": 15,
      "outputs": []
    },
    {
      "cell_type": "markdown",
      "metadata": {
        "id": "FW67uWwXCo_2"
      },
      "source": [
        "## Recurrent Module"
      ]
    },
    {
      "cell_type": "code",
      "metadata": {
        "id": "KL4LZzWECo_2"
      },
      "source": [
        "# Our recurrent Module\n",
        "class ModuleRNN(nn.Module):\n",
        "    \"\"\"\n",
        "    Implement the scheme above as torch module\n",
        "    torch style\n",
        "    \n",
        "    \"\"\"\n",
        "    def __init__(self, vect_dim=3, rnn_num_units=64):\n",
        "        super(self.__class__,self).__init__()\n",
        "        self.num_units = rnn_num_units\n",
        "\n",
        "#         our linear layer\n",
        "        self.rnn_update = self.block(vect_dim, rnn_num_units)\n",
        "\n",
        "        self.rnn_forget = self.block(vect_dim, rnn_num_units)\n",
        "        self.rnn_save = self.block(vect_dim, rnn_num_units)\n",
        "        self.rnn_data_selection = self.block(vect_dim, rnn_num_units)\n",
        "        self.rnn_quick_overview = self.block(vect_dim, rnn_num_units)\n",
        "\n",
        "        \n",
        "        self.rnn_prediction = self.predicted_block(rnn_num_units, vect_dim)\n",
        "\n",
        "    def forward(self, new_data, short_term_memory, long_term_memory):\n",
        "        \"\"\"\n",
        "        This method computes h_next(x, h_prev) and log P(x_next | h_next)\n",
        "        We'll call it repeatedly to produce the whole sequence.\n",
        "\n",
        "        :param x: batch of character ids, containing vector of int64\n",
        "        :param h_prev: previous rnn hidden states, containing matrix [batch, rnn_num_units] of float32\n",
        "        \"\"\"\n",
        "\n",
        "        memory = torch.cat([new_data, short_term_memory], dim=-1)\n",
        "\n",
        "        forgetfulness = torch.sigmoid(self.rnn_forget(memory)) #forgetting dataforgetting data\n",
        "        conservation = torch.tanh(self.rnn_save(memory)) #the acquisition of new data\n",
        "        information = torch.sigmoid(self.rnn_data_selection(memory))\n",
        "\n",
        "        long_term_memory = (forgetfulness * long_term_memory) + (information * conservation)\n",
        "\n",
        "        short_term_memory = torch.sigmoid(self.rnn_quick_overview(memory)) * torch.tanh(long_term_memory)\n",
        "\n",
        "\n",
        "\n",
        "        #compute logits for next character probs\n",
        "        predicted_data = self.rnn_prediction(short_term_memory)\n",
        "\n",
        "        return predicted_data, short_term_memory, long_term_memory\n",
        "\n",
        "    def initial_state(self, batch_size):\n",
        "        \"\"\" return rnn state before it processes first input (aka h0) \"\"\"\n",
        "        return torch.zeros(batch_size, self.num_units, requires_grad=True)\n",
        "\n",
        "    def block(self, in_f, out_f):\n",
        "        return nn.Sequential(\n",
        "            self.base_block(in_f + out_f, (in_f + 2 * out_f)//2),\n",
        "            self.base_block((in_f + 2 * out_f)//2, out_f)\n",
        "        )\n",
        "\n",
        "\n",
        "    def base_block(self, in_f, out_f):\n",
        "        return nn.Sequential(\n",
        "            nn.Linear(in_f, out_f),\n",
        "        )\n",
        "\n",
        "    def predicted_block(self, in_f, out_f):\n",
        "        return nn.Sequential(\n",
        "            nn.Linear(in_f, (in_f + out_f)//2),\n",
        "            nn.Dropout(0.5),\n",
        "            nn.Linear((in_f + out_f)//2, out_f),\n",
        "            \n",
        "        )\n",
        "\n"
      ],
      "execution_count": 150,
      "outputs": []
    },
    {
      "cell_type": "markdown",
      "metadata": {
        "id": "lB8gB8vsCo_2"
      },
      "source": [
        "## RNN Loop"
      ]
    },
    {
      "cell_type": "code",
      "metadata": {
        "id": "vbmQ2BGACo_2"
      },
      "source": [
        "def rnn_loop(trajectories_rnn, batch_ix, device):\n",
        "    \"\"\"\n",
        "    Computes log P(next_character) for all time-steps in names_ix\n",
        "    :param names_ix: an int32 matrix of shape [batch, time], output of to_matrix(names)\n",
        "    \"\"\"\n",
        "    batch_size, max_length, vec_dim = batch_ix.size()\n",
        "\n",
        "    short_term_memory = trajectories_rnn.initial_state(batch_size)\n",
        "    long_term_memory = trajectories_rnn.initial_state(batch_size)\n",
        "    predictions = []\n",
        "\n",
        "    for new_data in batch_ix.transpose(0,1):\n",
        "        prediction, short_term_memory, long_term_memory = trajectories_rnn(new_data, short_term_memory.to(device), long_term_memory.to(device))  # <-- here we call your one-step code\n",
        "        predictions.append(prediction)\n",
        "\n",
        "    return torch.stack(predictions, dim=1)"
      ],
      "execution_count": 17,
      "outputs": []
    },
    {
      "cell_type": "markdown",
      "metadata": {
        "id": "4sVIzm2G_8MN"
      },
      "source": [
        "## The training loop"
      ]
    },
    {
      "cell_type": "code",
      "metadata": {
        "id": "NAY9qfz4BbS6"
      },
      "source": [
        "def accuracy(x_pred, x_real, Discrepancy):\n",
        "    return np.sum(np.absolute((x_pred-x_real)/x_real) <= Discrepancy)/ x_real.size\n",
        "\n",
        "def print_epoc(train_loss, val_loss, train_accuracy, val_accuracy, epoc, EPOC_NUM, lr, now_time, start_time):\n",
        "    print(f'Epoch {epoc + 1} of {EPOC_NUM} took {now_time - start_time:.3f}s')\n",
        "    \n",
        "    print('      training loss:', train_loss[-1],)\n",
        "    print('    validation loss:', val_loss[-1])\n",
        "    print('validation accuracy:', val_accuracy[-1])\n",
        "    if lr!=0:\n",
        "        print('changed optimizer lr:', lr)\n",
        "    # print(f\"\\t  training loss: {train_loss[-1]:.9f}\")\n",
        "    # print(f\"\\tvalidation loss: {val_loss[-1]:.9f}\")\n",
        "    # print(f\"\\tvalidation accuracy: {val_accuracy[-1]:.3f}\")\n",
        "    plot_process(train_loss, val_loss, None, train_accuracy, val_accuracy, None)\n",
        "    if len(train_loss)>10:\n",
        "        plot_process(train_loss[-10:], val_loss[-10:], None, train_accuracy[-10:], val_accuracy[-10:], None)"
      ],
      "execution_count": 163,
      "outputs": []
    },
    {
      "cell_type": "code",
      "metadata": {
        "id": "6GvUeUEA_9F0"
      },
      "source": [
        "def traning_fun(trajectories_rnn, criterion, opt, train_dl, val_dl, train_loss, val_loss, train_accuracy, val_accuracy, Discrepancy, EPOC_NUM, device, draw: bool = False):\n",
        "\n",
        "    error = 0\n",
        "    retraining = 0\n",
        "    lr = 0\n",
        "\n",
        "    for epoc in range(EPOC_NUM):\n",
        "\n",
        "        ep_train_loss = []\n",
        "        ep_val_loss = []\n",
        "        ep_train_accuracy = []\n",
        "        ep_val_accuracy = []\n",
        "        start_time = time.time()\n",
        "\n",
        "        if (epoc+1)%(EPOC_NUM/4) == 0: \n",
        "            for g in opt.param_groups:\n",
        "                g['lr'] = g['lr']/10\n",
        "                lr =  g['lr']\n",
        "        \n",
        "        trajectories_rnn.train(True) # enable dropout / batch_norm training behavior\n",
        "        for id_b, batch_total in enumerate(train_dl):\n",
        "            opt.zero_grad()\n",
        "            batch = batch_total['data_noise'].to(device, torch.float32)\n",
        "\n",
        "            predictions = rnn_loop(trajectories_rnn, batch, device)\n",
        "\n",
        "            # compute loss\n",
        "            predictions_part = predictions\n",
        "            data_real = batch_total['data'].to(device, torch.float32)\n",
        "\n",
        "            # print(predictions_logp.shape, actual_next_tokens.shape)\n",
        "            loss = criterion(\n",
        "                predictions_part.contiguous().view(-1),\n",
        "                data_real.contiguous().view(-1)\n",
        "            ) \n",
        "            ep_train_accuracy.append(accuracy(predictions_part.cpu().detach().numpy(), data_real.cpu().detach().numpy().astype(float), Discrepancy))\n",
        "            \n",
        "            # train with backprop\n",
        "            loss.backward()\n",
        "            opt.step()\n",
        "            \n",
        "            ep_train_loss.append(loss.cpu().data.numpy())\n",
        "          \n",
        "        trajectories_rnn.train(False) # enable dropout / batch_norm training behavior\n",
        "        with torch.no_grad(): \n",
        "            for id_b, batch_total in enumerate(val_dl):\n",
        "\n",
        "                batch = batch_total['data_noise'].to(device, torch.float32)\n",
        "\n",
        "                predictions = rnn_loop(trajectories_rnn, batch, device)\n",
        "\n",
        "                # compute loss\n",
        "                predictions_part = predictions\n",
        "                data_real = batch_total['data'].to(device, torch.float32)\n",
        "\n",
        "                # print(predictions_logp.shape, actual_next_tokens.shape)\n",
        "                loss = criterion(\n",
        "                    predictions_part.contiguous().view(-1),\n",
        "                    data_real.contiguous().view(-1)\n",
        "                )\n",
        "                ep_val_loss.append(loss.cpu().data.numpy())\n",
        "                ep_val_accuracy.append(accuracy(predictions_part.cpu().numpy(), data_real.cpu().numpy().astype(float), Discrepancy))\n",
        "        \n",
        "        clear_output(True)\n",
        "        \n",
        "        train_loss.append(np.mean(ep_train_loss))\n",
        "        val_loss.append(np.mean(ep_val_loss))\n",
        "        train_accuracy.append(np.mean(ep_train_accuracy))\n",
        "        val_accuracy.append(np.mean(ep_val_accuracy))\n",
        "\n",
        "        if error > 0:\n",
        "            print('Warning: the network is hard to learn.')\n",
        "        if retraining>EPOC_NUM*3//10:\n",
        "            print('Warning: the network is being retrained - overfitting.')\n",
        "        if train_loss[0] < train_loss[-1]:\n",
        "            error+=1\n",
        "            assert error!=3, \"RNN didn't converge!!!\"\n",
        "        else:\n",
        "            if error>0:\n",
        "                error-=1\n",
        "\n",
        "        if train_loss[-1] < val_loss[-1]:\n",
        "            retraining+=1\n",
        "        else:\n",
        "            if retraining>0:\n",
        "                retraining-=1\n",
        "\n",
        "        # print the results for this epoch:\n",
        "        if draw:\n",
        "            print_epoc(train_loss, val_loss, train_accuracy, val_accuracy, epoc, EPOC_NUM, lr, time.time(), start_time)\n",
        "        \n",
        "    return trajectories_rnn, train_loss, val_loss, train_accuracy, val_accuracy"
      ],
      "execution_count": 136,
      "outputs": []
    },
    {
      "cell_type": "markdown",
      "metadata": {
        "id": "k2wD7-wPBD6m"
      },
      "source": [
        "## Test"
      ]
    },
    {
      "cell_type": "code",
      "metadata": {
        "id": "KrsxHDH2E6Ba"
      },
      "source": [
        "def print_test(test_loss, test_accuracy, iteration, iteration_num, now_time, start_time):\n",
        "    print(f'Iteration {iteration + 1} of {iteration_num} took {now_time - start_time:.3f}s')\n",
        "    \n",
        "    print('    testing loss:', test_loss[-1],)\n",
        "    print('testing accuracy:', test_accuracy[-1])\n",
        "    plot_process(None, None, test_loss, None, None, test_accuracy)"
      ],
      "execution_count": 116,
      "outputs": []
    },
    {
      "cell_type": "code",
      "metadata": {
        "id": "GAuxo_CwBGfF"
      },
      "source": [
        "def testing_fun(trajectories_rnn, criterion, test_dl, test_loss, test_accuracy, Discrepancy, device, draw: bool = False):\n",
        "\n",
        "    start_time = time.time()\n",
        "    iteration_num = len(test_dl)\n",
        "    trajectories_rnn.train(False) # enable dropout / batch_norm training behavior\n",
        "    with torch.no_grad(): \n",
        "        for id_b, batch_total in enumerate(test_dl):\n",
        "            start_time = time.time()\n",
        "\n",
        "            batch = batch_total['data_noise'].to(device, torch.float32)\n",
        "\n",
        "            predictions = rnn_loop(trajectories_rnn, batch, device)\n",
        "\n",
        "            # compute loss\n",
        "            predictions_part = predictions\n",
        "            data_real = batch_total['data'].to(device, torch.float32)\n",
        "\n",
        "            # print(predictions_logp.shape, actual_next_tokens.shape)\n",
        "            loss = criterion(\n",
        "                predictions_part.contiguous().view(-1),\n",
        "                data_real.contiguous().view(-1)\n",
        "            )\n",
        "            test_loss.append(loss.cpu().data.numpy())\n",
        "            test_accuracy.append(accuracy(predictions_part.cpu().numpy(), data_real.cpu().numpy().astype(float), Discrepancy))\n",
        "            if draw:\n",
        "                clear_output(True)\n",
        "                print_test(test_loss, test_accuracy, id_b, iteration_num, time.time(), start_time)\n",
        "        \n",
        "    return test_loss, test_accuracy"
      ],
      "execution_count": 135,
      "outputs": []
    },
    {
      "cell_type": "markdown",
      "metadata": {
        "id": "DTxCrDhk3Yao"
      },
      "source": [
        "## Drawing"
      ]
    },
    {
      "cell_type": "code",
      "metadata": {
        "id": "We50GD2B3Y8q"
      },
      "source": [
        "def plot_process(train_loss, val_loss, test_loss, train_accuracy, val_accuracy, test_accuracy):\n",
        "  plt.title('Loss')\n",
        "  plt.ylabel('Loss')\n",
        "  plt.xlabel('Epoch/Iteration')\n",
        "  if train_loss != None:\n",
        "      plt.plot(train_loss, label='train')\n",
        "  if val_loss != None:\n",
        "      plt.plot(val_loss, label='validation')\n",
        "  if test_loss != None:\n",
        "      plt.plot(test_loss, label='test')\n",
        "  plt.legend()\n",
        "  plt.grid(True)\n",
        "  plt.show()\n",
        "\n",
        "  plt.title('Validation accuracy')\n",
        "  plt.ylabel('Accuracy')\n",
        "  plt.xlabel('Epoch/Iteration')\n",
        "  if train_accuracy != None:\n",
        "      plt.plot(train_accuracy, label='train accuracy', color='b')\n",
        "  if val_accuracy != None:\n",
        "      plt.plot(val_accuracy, label='validation accuracy', color='r')\n",
        "  if test_accuracy != None:\n",
        "      plt.plot(test_accuracy, label='test accuracy', color='r')\n",
        "  plt.legend()\n",
        "  plt.grid(True)\n",
        "  plt.show()"
      ],
      "execution_count": 118,
      "outputs": []
    },
    {
      "cell_type": "markdown",
      "metadata": {
        "id": "kJesnK_kEVpz"
      },
      "source": [
        "## Save the model"
      ]
    },
    {
      "cell_type": "code",
      "metadata": {
        "id": "-LL8SDyGEX9a"
      },
      "source": [
        "def save_checkpoint(checkpoint_path, model, optimizer):\n",
        "    # state_dict: a Python dictionary object that:\n",
        "    # - for a model, maps each layer to its parameter tensor;\n",
        "    # - for an optimizer, contains info about the optimizer’s states and hyperparameters used.\n",
        "    state = {\n",
        "        'state_dict': model.state_dict(),\n",
        "        'optimizer' : optimizer.state_dict()}\n",
        "    torch.save(state, checkpoint_path)\n",
        "    print('model saved to %s' % checkpoint_path)\n",
        "    \n",
        "def load_checkpoint(checkpoint_path, model, optimizer):\n",
        "    state = torch.load(checkpoint_path)\n",
        "    model.load_state_dict(state['state_dict'])\n",
        "    optimizer.load_state_dict(state['optimizer'])\n",
        "    print('model loaded from %s' % checkpoint_path)"
      ],
      "execution_count": 23,
      "outputs": []
    },
    {
      "cell_type": "markdown",
      "metadata": {
        "id": "LYcG8-z9kBh9"
      },
      "source": [
        "## Pre Training  "
      ]
    },
    {
      "cell_type": "code",
      "metadata": {
        "id": "UcMbpMN_r-fg"
      },
      "source": [
        "!wget https://github.com/dart9905/coursework/blob/test/KalmanNN/data/ballistic_batch_1000_nopad.h5 -nc"
      ],
      "execution_count": null,
      "outputs": []
    },
    {
      "cell_type": "code",
      "metadata": {
        "id": "Mha4QQsJrn6u"
      },
      "source": [
        "# reading\n",
        "name_file_trajectories = '/content/ballistic_batch_1000_nopad.h5'\n",
        "try:\n",
        "    dset = read_trajectories(name_file_trajectories)\n",
        "except FileNotFoundError:\n",
        "    assert \"NO file!!!\""
      ],
      "execution_count": 26,
      "outputs": []
    },
    {
      "cell_type": "code",
      "metadata": {
        "colab": {
          "base_uri": "https://localhost:8080/"
        },
        "id": "m3Fy87Czr4w1",
        "outputId": "aa970f7b-acf8-4632-d555-b3dee91d3fb0"
      },
      "source": [
        "# Train-val-test split data\n",
        "data_keys = sorted([key for key in dset.keys() if 'raw' in key])\n",
        "# Test data       = 20% of total keys\n",
        "# Validation data = 10% of total keys\n",
        "# Train data      = 70% of total keys\n",
        "train_keys, val_keys, test_keys = train_val_test_split(\n",
        "    data_keys, (0.7, 0.1, 0.2), shuffle=False)\n",
        "\n",
        "print(f'Train keys: {len(train_keys):>5} -> {len(train_keys)/len(data_keys) * 100}%')\n",
        "print(f'Valid keys: {len(val_keys):>5} -> {len(val_keys)/len(data_keys) * 100}%')\n",
        "print(f'Test keys:  {len(test_keys):>5} -> {len(test_keys)/len(data_keys) * 100}%')"
      ],
      "execution_count": 27,
      "outputs": [
        {
          "output_type": "stream",
          "text": [
            "Train keys:   700 -> 70.0%\n",
            "Valid keys:   100 -> 10.0%\n",
            "Test keys:    200 -> 20.0%\n"
          ],
          "name": "stdout"
        }
      ]
    },
    {
      "cell_type": "code",
      "metadata": {
        "colab": {
          "base_uri": "https://localhost:8080/"
        },
        "id": "TFHbtwiekpZj",
        "outputId": "4054fac2-b860-4abe-fcb6-759744e8f154"
      },
      "source": [
        "# use GPU if available\n",
        "device = torch.device(\"cuda\") if torch.cuda.is_available() else torch.device(\"cpu\")\n",
        "device"
      ],
      "execution_count": 28,
      "outputs": [
        {
          "output_type": "execute_result",
          "data": {
            "text/plain": [
              "device(type='cuda')"
            ]
          },
          "metadata": {
            "tags": []
          },
          "execution_count": 28
        }
      ]
    },
    {
      "cell_type": "code",
      "metadata": {
        "id": "siFfI-mzCo_2",
        "colab": {
          "base_uri": "https://localhost:8080/"
        },
        "outputId": "3213a462-8205-4112-8763-207d10093b53"
      },
      "source": [
        "max_len_trajectory, min_len_trajectory, key_max, key_min = max_min_len_coordinate(dset, dset.keys())\n",
        "max_len_trajectory, min_len_trajectory, key_max, key_min"
      ],
      "execution_count": 29,
      "outputs": [
        {
          "output_type": "execute_result",
          "data": {
            "text/plain": [
              "(458, 162, '/ballistic_raw/BALLISTIC_665', '/ballistic_raw/BALLISTIC_264')"
            ]
          },
          "metadata": {
            "tags": []
          },
          "execution_count": 29
        }
      ]
    },
    {
      "cell_type": "code",
      "metadata": {
        "id": "X2Jrk6HHjwMX"
      },
      "source": [
        "BATCH_SIZE = 50#40\n",
        "BATCH_SIZE_TEST=BATCH_SIZE*1//5\n",
        "SET_LONG = min_len_trajectory\n",
        "VEC_DIM = 3\n",
        "MEM_RNN = SET_LONG*10\n",
        "EPOC_NUM = 10"
      ],
      "execution_count": 168,
      "outputs": []
    },
    {
      "cell_type": "code",
      "metadata": {
        "colab": {
          "base_uri": "https://localhost:8080/",
          "height": 419,
          "referenced_widgets": [
            "92a63ad2789244e58f4a9a376eb611c4",
            "fb388bb0813b49c1bbbf40a540e3f650",
            "3e7d697e6a9044cfb7ce4aa5649012f8",
            "2d3c73db43c34f88b0ecd87c73950dbc",
            "3241519f000a4bec8824856567298120",
            "43122d1d699e43df9f7da575a48203ae",
            "97539ce5946f49f985497d2a7230a5ad",
            "600d1d54b4c3482399c8d3375dd6fcca",
            "5562be15de3545c69c58eb3bcc264e39",
            "0e24ac3fd2ba486787419a6b689edf95",
            "7439915f857343b0a87c248f4e535ecc",
            "fccc9cc5a1bd472094f4963e56e5503b",
            "7b366c1492a34643b8c708fdf2f3643e",
            "cb026c20f0634e7abdba7f86eb879102",
            "440a3334088b4ad7a60c589143fef195",
            "5a032807b602413e969c7d0bae60eaca",
            "d38148695b4c400d818d5a3631733cfb",
            "46da3d39a597402f89d608ddb20f0c5f",
            "7f44e50217094754ae69016d99bfbb5b",
            "1fead5218fc945f7b747a623df2385cb",
            "2ed039c31c1f45d9bc4badf29b2d0694",
            "5ce1cd73a215419b9ca5c35b6a21853b",
            "ad2546ab6cf44a23aef53e9d38756c59",
            "7a3b1ece643447dfa59948bc6f56ba47"
          ]
        },
        "id": "57d02Cs4j01C",
        "outputId": "9f6fc40b-b822-4d13-f53b-3f3e5a7250a6"
      },
      "source": [
        "train_data = create_dataset(\n",
        "    dset,\n",
        "    train_keys,\n",
        "    name='train',\n",
        "    gt_size=SET_LONG,\n",
        "    step=SET_LONG,\n",
        "    variables=VEC_DIM,\n",
        "    train=True,\n",
        "    verbose=True\n",
        ")\n",
        "val_data = create_dataset(\n",
        "    dset,\n",
        "    val_keys,\n",
        "    name='validation',\n",
        "    gt_size=SET_LONG,\n",
        "    step=SET_LONG,\n",
        "    variables=VEC_DIM,\n",
        "    train=False,\n",
        "    verbose=True\n",
        ")\n",
        "test_data = create_dataset(\n",
        "    dset,\n",
        "    test_keys,\n",
        "    name='test',\n",
        "    gt_size=SET_LONG,\n",
        "    step=SET_LONG,\n",
        "    variables=VEC_DIM,\n",
        "    train=False,\n",
        "    verbose=True\n",
        ")"
      ],
      "execution_count": 138,
      "outputs": [
        {
          "output_type": "stream",
          "text": [
            "Loading dataset in train mode...\n"
          ],
          "name": "stdout"
        },
        {
          "output_type": "display_data",
          "data": {
            "application/vnd.jupyter.widget-view+json": {
              "model_id": "92a63ad2789244e58f4a9a376eb611c4",
              "version_minor": 0,
              "version_major": 2
            },
            "text/plain": [
              "HBox(children=(FloatProgress(value=0.0, description='Collecting strided data', max=700.0, style=ProgressStyle(…"
            ]
          },
          "metadata": {
            "tags": []
          }
        },
        {
          "output_type": "stream",
          "text": [
            "\n",
            "Total trajectory parts: 867\n",
            "Each: 162 observed = 162 points in total\n",
            "Each point contains 3 variables\n",
            "Data mean:\\n[ 43.249  66.819 -45.809]\\nData std:\\n[33.861 50.311 52.817]\n",
            "Loading dataset in evaluation mode...\n"
          ],
          "name": "stdout"
        },
        {
          "output_type": "display_data",
          "data": {
            "application/vnd.jupyter.widget-view+json": {
              "model_id": "5562be15de3545c69c58eb3bcc264e39",
              "version_minor": 0,
              "version_major": 2
            },
            "text/plain": [
              "HBox(children=(FloatProgress(value=0.0, description='Collecting strided data', style=ProgressStyle(description…"
            ]
          },
          "metadata": {
            "tags": []
          }
        },
        {
          "output_type": "stream",
          "text": [
            "\n",
            "Total trajectory parts: 123\n",
            "Each: 162 observed = 162 points in total\n",
            "Each point contains 3 variables\n",
            "Data mean:\\n[ 42.823  66.174 -45.362]\\nData std:\\n[33.616 50.516 52.042]\n",
            "Loading dataset in evaluation mode...\n"
          ],
          "name": "stdout"
        },
        {
          "output_type": "display_data",
          "data": {
            "application/vnd.jupyter.widget-view+json": {
              "model_id": "d38148695b4c400d818d5a3631733cfb",
              "version_minor": 0,
              "version_major": 2
            },
            "text/plain": [
              "HBox(children=(FloatProgress(value=0.0, description='Collecting strided data', max=200.0, style=ProgressStyle(…"
            ]
          },
          "metadata": {
            "tags": []
          }
        },
        {
          "output_type": "stream",
          "text": [
            "\n",
            "Total trajectory parts: 237\n",
            "Each: 162 observed = 162 points in total\n",
            "Each point contains 3 variables\n",
            "Data mean:\\n[ 38.963  59.589 -42.729]\\nData std:\\n[31.39  46.182 50.044]\n"
          ],
          "name": "stdout"
        }
      ]
    },
    {
      "cell_type": "code",
      "metadata": {
        "id": "6yCfLKffkChk"
      },
      "source": [
        "train_dl = DataLoader(\n",
        "    train_data,\n",
        "    batch_size=BATCH_SIZE,\n",
        "    shuffle=True, #try  с\\n\",\n",
        "    num_workers=1) #num_workers=-2# use CPU\"\n",
        "\n",
        "val_dl = DataLoader(\n",
        "    val_data,\n",
        "    batch_size=BATCH_SIZE,\n",
        "    shuffle=False, #try  с\\n\",\n",
        "    num_workers=1) #num_workers=-2# use CPU\"\n",
        "  \n",
        "test_dl = DataLoader(\n",
        "    test_data,\n",
        "    batch_size=BATCH_SIZE_TEST,\n",
        "    shuffle=False, #try  с\\n\",\n",
        "    num_workers=1) #num_workers=-2# use CPU\""
      ],
      "execution_count": 169,
      "outputs": []
    },
    {
      "cell_type": "markdown",
      "metadata": {
        "id": "J1LDpEkIBOxE"
      },
      "source": [
        "## Training  "
      ]
    },
    {
      "cell_type": "code",
      "metadata": {
        "id": "qJWSxsuACo_2"
      },
      "source": [
        "trajectories_rnn = ModuleRNN(vect_dim=VEC_DIM, rnn_num_units=MEM_RNN)\n",
        "trajectories_rnn.to(device, torch.float32)\n",
        "\n",
        "criterion = nn.MSELoss() # nn.CrossEntropyLoss()\n",
        "opt = torch.optim.Adam(trajectories_rnn.parameters(), lr=1e-3, weight_decay=1e-7) # lr=1e-4 weight_decay=1e-8\n"
      ],
      "execution_count": 170,
      "outputs": []
    },
    {
      "cell_type": "code",
      "metadata": {
        "id": "5_eF7t0lr8Op"
      },
      "source": [
        "train_loss = []\n",
        "val_loss = []\n",
        "test_loss = []\n",
        "train_accuracy = []\n",
        "val_accuracy = []\n",
        "test_accuracy = []\n",
        "\n",
        "Discrepancy = 0.05"
      ],
      "execution_count": 171,
      "outputs": []
    },
    {
      "cell_type": "code",
      "metadata": {
        "colab": {
          "base_uri": "https://localhost:8080/"
        },
        "id": "ziuDJpxwzpwp",
        "outputId": "5a30505d-8cd5-490a-e83b-fe5f5dbd31a1"
      },
      "source": [
        "trajectories_rnn, train_loss, val_loss, train_accuracy, val_accuracy = traning_fun(trajectories_rnn, criterion, opt, train_dl, val_dl, train_loss, val_loss, train_accuracy, val_accuracy, Discrepancy, EPOC_NUM, device, draw=True)"
      ],
      "execution_count": null,
      "outputs": [
        {
          "output_type": "stream",
          "text": [
            "/usr/local/lib/python3.6/dist-packages/ipykernel_launcher.py:2: RuntimeWarning: divide by zero encountered in true_divide\n",
            "  \n"
          ],
          "name": "stderr"
        }
      ]
    },
    {
      "cell_type": "code",
      "metadata": {
        "id": "95s7w6E3Kae2"
      },
      "source": [
        "# print('      training loss:', train_loss[-1],)\n",
        "# print('    validation loss:', val_loss[-1])\n",
        "# print('validation accuracy:', val_accuracy[-1])\n",
        "# plot_process(train_loss, val_loss, None, val_accuracy, None)\n",
        "# plot_process(train_loss[-10:], val_loss[-10:], None, val_accuracy[-10:], None)"
      ],
      "execution_count": 348,
      "outputs": []
    },
    {
      "cell_type": "code",
      "metadata": {
        "colab": {
          "base_uri": "https://localhost:8080/",
          "height": 658
        },
        "id": "oR4t2qKrFqdF",
        "outputId": "800b2754-d2de-49c9-9a7d-b1f85c9d8342"
      },
      "source": [
        "test_loss, test_accuracy = testing_fun(trajectories_rnn, criterion, test_dl, test_loss, test_accuracy, Discrepancy, device, draw=True)\n",
        "print('mean test loss:', np.mean(test_loss))\n",
        "print('mean test accuracy:', np.mean(test_accuracy))"
      ],
      "execution_count": 167,
      "outputs": [
        {
          "output_type": "stream",
          "text": [
            "Iteration 12 of 12 took 0.135s\n",
            "    testing loss: 6.413509\n",
            "testing accuracy: 0.742798353909465\n"
          ],
          "name": "stdout"
        },
        {
          "output_type": "display_data",
          "data": {
            "image/png": "[encoded data removed]",
            "text/plain": [
              "<Figure size 432x288 with 1 Axes>"
            ]
          },
          "metadata": {
            "tags": []
          }
        },
        {
          "output_type": "display_data",
          "data": {
            "image/png": "[encoded data removed]",
            "text/plain": [
              "<Figure size 432x288 with 1 Axes>"
            ]
          },
          "metadata": {
            "tags": []
          }
        },
        {
          "output_type": "stream",
          "text": [
            "mean test loss: 10.019751\n",
            "mean test accuracy: 0.7646262002743485\n"
          ],
          "name": "stdout"
        }
      ]
    },
    {
      "cell_type": "code",
      "metadata": {
        "id": "AwgS_2OpOAJu"
      },
      "source": [
        "# plot_process(None, None, test_loss, None, test_accuracy)\n",
        "# print('mean test loss:', np.mean(test_loss))\n",
        "# print('mean test accuracy:', np.mean(test_accuracy))"
      ],
      "execution_count": 347,
      "outputs": []
    }
  ]
}