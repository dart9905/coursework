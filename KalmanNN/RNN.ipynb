{
  "nbformat": 4,
  "nbformat_minor": 0,
  "metadata": {
    "kernelspec": {
      "display_name": "Python 3",
      "language": "python",
      "name": "python3"
    },
    "language_info": {
      "codemirror_mode": {
        "name": "ipython",
        "version": 3
      },
      "file_extension": ".py",
      "mimetype": "text/x-python",
      "name": "python",
      "nbconvert_exporter": "python",
      "pygments_lexer": "ipython3",
      "version": "3.8.3"
    },
    "colab": {
      "name": "KalmanNN.ipynb",
      "provenance": [],
      "collapsed_sections": [],
      "toc_visible": true
    },
    "accelerator": "GPU",
    "widgets": {
      "application/vnd.jupyter.widget-state+json": {
        "c4a7aa54dc2642e3b58d5d4c79e7c9e4": {
          "model_module": "@jupyter-widgets/controls",
          "model_name": "HBoxModel",
          "state": {
            "_view_name": "HBoxView",
            "_dom_classes": [],
            "_model_name": "HBoxModel",
            "_view_module": "@jupyter-widgets/controls",
            "_model_module_version": "1.5.0",
            "_view_count": null,
            "_view_module_version": "1.5.0",
            "box_style": "",
            "layout": "IPY_MODEL_810b803dedca479cb7f027d8128a4da7",
            "_model_module": "@jupyter-widgets/controls",
            "children": [
              "IPY_MODEL_6289ba75789041d287434dae4efdb1c5",
              "IPY_MODEL_1708c73e2b7641d6ae2f330ea2d65896"
            ]
          }
        },
        "810b803dedca479cb7f027d8128a4da7": {
          "model_module": "@jupyter-widgets/base",
          "model_name": "LayoutModel",
          "state": {
            "_view_name": "LayoutView",
            "grid_template_rows": null,
            "right": null,
            "justify_content": null,
            "_view_module": "@jupyter-widgets/base",
            "overflow": null,
            "_model_module_version": "1.2.0",
            "_view_count": null,
            "flex_flow": null,
            "width": null,
            "min_width": null,
            "border": null,
            "align_items": null,
            "bottom": null,
            "_model_module": "@jupyter-widgets/base",
            "top": null,
            "grid_column": null,
            "overflow_y": null,
            "overflow_x": null,
            "grid_auto_flow": null,
            "grid_area": null,
            "grid_template_columns": null,
            "flex": null,
            "_model_name": "LayoutModel",
            "justify_items": null,
            "grid_row": null,
            "max_height": null,
            "align_content": null,
            "visibility": null,
            "align_self": null,
            "height": null,
            "min_height": null,
            "padding": null,
            "grid_auto_rows": null,
            "grid_gap": null,
            "max_width": null,
            "order": null,
            "_view_module_version": "1.2.0",
            "grid_template_areas": null,
            "object_position": null,
            "object_fit": null,
            "grid_auto_columns": null,
            "margin": null,
            "display": null,
            "left": null
          }
        },
        "6289ba75789041d287434dae4efdb1c5": {
          "model_module": "@jupyter-widgets/controls",
          "model_name": "FloatProgressModel",
          "state": {
            "_view_name": "ProgressView",
            "style": "IPY_MODEL_50e5e991fb5f4d3ea954fec0507dbd86",
            "_dom_classes": [],
            "description": "Collecting strided data: 100%",
            "_model_name": "FloatProgressModel",
            "bar_style": "success",
            "max": 700,
            "_view_module": "@jupyter-widgets/controls",
            "_model_module_version": "1.5.0",
            "value": 700,
            "_view_count": null,
            "_view_module_version": "1.5.0",
            "orientation": "horizontal",
            "min": 0,
            "description_tooltip": null,
            "_model_module": "@jupyter-widgets/controls",
            "layout": "IPY_MODEL_4cd0bd057d614d6bb87c42f210d5cde3"
          }
        },
        "1708c73e2b7641d6ae2f330ea2d65896": {
          "model_module": "@jupyter-widgets/controls",
          "model_name": "HTMLModel",
          "state": {
            "_view_name": "HTMLView",
            "style": "IPY_MODEL_1c648f9103a94560bd10d4059066986a",
            "_dom_classes": [],
            "description": "",
            "_model_name": "HTMLModel",
            "placeholder": "​",
            "_view_module": "@jupyter-widgets/controls",
            "_model_module_version": "1.5.0",
            "value": " 700/700 [00:41&lt;00:00, 16.70it/s]",
            "_view_count": null,
            "_view_module_version": "1.5.0",
            "description_tooltip": null,
            "_model_module": "@jupyter-widgets/controls",
            "layout": "IPY_MODEL_a616a86823b04ba5b9f5452b2cb27015"
          }
        },
        "50e5e991fb5f4d3ea954fec0507dbd86": {
          "model_module": "@jupyter-widgets/controls",
          "model_name": "ProgressStyleModel",
          "state": {
            "_view_name": "StyleView",
            "_model_name": "ProgressStyleModel",
            "description_width": "initial",
            "_view_module": "@jupyter-widgets/base",
            "_model_module_version": "1.5.0",
            "_view_count": null,
            "_view_module_version": "1.2.0",
            "bar_color": null,
            "_model_module": "@jupyter-widgets/controls"
          }
        },
        "4cd0bd057d614d6bb87c42f210d5cde3": {
          "model_module": "@jupyter-widgets/base",
          "model_name": "LayoutModel",
          "state": {
            "_view_name": "LayoutView",
            "grid_template_rows": null,
            "right": null,
            "justify_content": null,
            "_view_module": "@jupyter-widgets/base",
            "overflow": null,
            "_model_module_version": "1.2.0",
            "_view_count": null,
            "flex_flow": null,
            "width": null,
            "min_width": null,
            "border": null,
            "align_items": null,
            "bottom": null,
            "_model_module": "@jupyter-widgets/base",
            "top": null,
            "grid_column": null,
            "overflow_y": null,
            "overflow_x": null,
            "grid_auto_flow": null,
            "grid_area": null,
            "grid_template_columns": null,
            "flex": null,
            "_model_name": "LayoutModel",
            "justify_items": null,
            "grid_row": null,
            "max_height": null,
            "align_content": null,
            "visibility": null,
            "align_self": null,
            "height": null,
            "min_height": null,
            "padding": null,
            "grid_auto_rows": null,
            "grid_gap": null,
            "max_width": null,
            "order": null,
            "_view_module_version": "1.2.0",
            "grid_template_areas": null,
            "object_position": null,
            "object_fit": null,
            "grid_auto_columns": null,
            "margin": null,
            "display": null,
            "left": null
          }
        },
        "1c648f9103a94560bd10d4059066986a": {
          "model_module": "@jupyter-widgets/controls",
          "model_name": "DescriptionStyleModel",
          "state": {
            "_view_name": "StyleView",
            "_model_name": "DescriptionStyleModel",
            "description_width": "",
            "_view_module": "@jupyter-widgets/base",
            "_model_module_version": "1.5.0",
            "_view_count": null,
            "_view_module_version": "1.2.0",
            "_model_module": "@jupyter-widgets/controls"
          }
        },
        "a616a86823b04ba5b9f5452b2cb27015": {
          "model_module": "@jupyter-widgets/base",
          "model_name": "LayoutModel",
          "state": {
            "_view_name": "LayoutView",
            "grid_template_rows": null,
            "right": null,
            "justify_content": null,
            "_view_module": "@jupyter-widgets/base",
            "overflow": null,
            "_model_module_version": "1.2.0",
            "_view_count": null,
            "flex_flow": null,
            "width": null,
            "min_width": null,
            "border": null,
            "align_items": null,
            "bottom": null,
            "_model_module": "@jupyter-widgets/base",
            "top": null,
            "grid_column": null,
            "overflow_y": null,
            "overflow_x": null,
            "grid_auto_flow": null,
            "grid_area": null,
            "grid_template_columns": null,
            "flex": null,
            "_model_name": "LayoutModel",
            "justify_items": null,
            "grid_row": null,
            "max_height": null,
            "align_content": null,
            "visibility": null,
            "align_self": null,
            "height": null,
            "min_height": null,
            "padding": null,
            "grid_auto_rows": null,
            "grid_gap": null,
            "max_width": null,
            "order": null,
            "_view_module_version": "1.2.0",
            "grid_template_areas": null,
            "object_position": null,
            "object_fit": null,
            "grid_auto_columns": null,
            "margin": null,
            "display": null,
            "left": null
          }
        },
        "52b4aaadc5784a5d972e8591dec2f120": {
          "model_module": "@jupyter-widgets/controls",
          "model_name": "HBoxModel",
          "state": {
            "_view_name": "HBoxView",
            "_dom_classes": [],
            "_model_name": "HBoxModel",
            "_view_module": "@jupyter-widgets/controls",
            "_model_module_version": "1.5.0",
            "_view_count": null,
            "_view_module_version": "1.5.0",
            "box_style": "",
            "layout": "IPY_MODEL_3bf748171f394a169eaf4f5883e73c44",
            "_model_module": "@jupyter-widgets/controls",
            "children": [
              "IPY_MODEL_094be0e59bbf421db584adede399c6fe",
              "IPY_MODEL_b8520dfc86724ce69be6b3b6d6305ec4"
            ]
          }
        },
        "3bf748171f394a169eaf4f5883e73c44": {
          "model_module": "@jupyter-widgets/base",
          "model_name": "LayoutModel",
          "state": {
            "_view_name": "LayoutView",
            "grid_template_rows": null,
            "right": null,
            "justify_content": null,
            "_view_module": "@jupyter-widgets/base",
            "overflow": null,
            "_model_module_version": "1.2.0",
            "_view_count": null,
            "flex_flow": null,
            "width": null,
            "min_width": null,
            "border": null,
            "align_items": null,
            "bottom": null,
            "_model_module": "@jupyter-widgets/base",
            "top": null,
            "grid_column": null,
            "overflow_y": null,
            "overflow_x": null,
            "grid_auto_flow": null,
            "grid_area": null,
            "grid_template_columns": null,
            "flex": null,
            "_model_name": "LayoutModel",
            "justify_items": null,
            "grid_row": null,
            "max_height": null,
            "align_content": null,
            "visibility": null,
            "align_self": null,
            "height": null,
            "min_height": null,
            "padding": null,
            "grid_auto_rows": null,
            "grid_gap": null,
            "max_width": null,
            "order": null,
            "_view_module_version": "1.2.0",
            "grid_template_areas": null,
            "object_position": null,
            "object_fit": null,
            "grid_auto_columns": null,
            "margin": null,
            "display": null,
            "left": null
          }
        },
        "094be0e59bbf421db584adede399c6fe": {
          "model_module": "@jupyter-widgets/controls",
          "model_name": "FloatProgressModel",
          "state": {
            "_view_name": "ProgressView",
            "style": "IPY_MODEL_57ed6b8410c047deae4f78c11a2dc60f",
            "_dom_classes": [],
            "description": "Collecting strided data: 100%",
            "_model_name": "FloatProgressModel",
            "bar_style": "success",
            "max": 100,
            "_view_module": "@jupyter-widgets/controls",
            "_model_module_version": "1.5.0",
            "value": 100,
            "_view_count": null,
            "_view_module_version": "1.5.0",
            "orientation": "horizontal",
            "min": 0,
            "description_tooltip": null,
            "_model_module": "@jupyter-widgets/controls",
            "layout": "IPY_MODEL_1332d9758d5e4b49bff0944ab7bbd2d6"
          }
        },
        "b8520dfc86724ce69be6b3b6d6305ec4": {
          "model_module": "@jupyter-widgets/controls",
          "model_name": "HTMLModel",
          "state": {
            "_view_name": "HTMLView",
            "style": "IPY_MODEL_6c15621d979d4d61988e173fd96afd26",
            "_dom_classes": [],
            "description": "",
            "_model_name": "HTMLModel",
            "placeholder": "​",
            "_view_module": "@jupyter-widgets/controls",
            "_model_module_version": "1.5.0",
            "value": " 100/100 [00:37&lt;00:00,  2.64it/s]",
            "_view_count": null,
            "_view_module_version": "1.5.0",
            "description_tooltip": null,
            "_model_module": "@jupyter-widgets/controls",
            "layout": "IPY_MODEL_bc6cf48717d0420ba2714459a2ed36e1"
          }
        },
        "57ed6b8410c047deae4f78c11a2dc60f": {
          "model_module": "@jupyter-widgets/controls",
          "model_name": "ProgressStyleModel",
          "state": {
            "_view_name": "StyleView",
            "_model_name": "ProgressStyleModel",
            "description_width": "initial",
            "_view_module": "@jupyter-widgets/base",
            "_model_module_version": "1.5.0",
            "_view_count": null,
            "_view_module_version": "1.2.0",
            "bar_color": null,
            "_model_module": "@jupyter-widgets/controls"
          }
        },
        "1332d9758d5e4b49bff0944ab7bbd2d6": {
          "model_module": "@jupyter-widgets/base",
          "model_name": "LayoutModel",
          "state": {
            "_view_name": "LayoutView",
            "grid_template_rows": null,
            "right": null,
            "justify_content": null,
            "_view_module": "@jupyter-widgets/base",
            "overflow": null,
            "_model_module_version": "1.2.0",
            "_view_count": null,
            "flex_flow": null,
            "width": null,
            "min_width": null,
            "border": null,
            "align_items": null,
            "bottom": null,
            "_model_module": "@jupyter-widgets/base",
            "top": null,
            "grid_column": null,
            "overflow_y": null,
            "overflow_x": null,
            "grid_auto_flow": null,
            "grid_area": null,
            "grid_template_columns": null,
            "flex": null,
            "_model_name": "LayoutModel",
            "justify_items": null,
            "grid_row": null,
            "max_height": null,
            "align_content": null,
            "visibility": null,
            "align_self": null,
            "height": null,
            "min_height": null,
            "padding": null,
            "grid_auto_rows": null,
            "grid_gap": null,
            "max_width": null,
            "order": null,
            "_view_module_version": "1.2.0",
            "grid_template_areas": null,
            "object_position": null,
            "object_fit": null,
            "grid_auto_columns": null,
            "margin": null,
            "display": null,
            "left": null
          }
        },
        "6c15621d979d4d61988e173fd96afd26": {
          "model_module": "@jupyter-widgets/controls",
          "model_name": "DescriptionStyleModel",
          "state": {
            "_view_name": "StyleView",
            "_model_name": "DescriptionStyleModel",
            "description_width": "",
            "_view_module": "@jupyter-widgets/base",
            "_model_module_version": "1.5.0",
            "_view_count": null,
            "_view_module_version": "1.2.0",
            "_model_module": "@jupyter-widgets/controls"
          }
        },
        "bc6cf48717d0420ba2714459a2ed36e1": {
          "model_module": "@jupyter-widgets/base",
          "model_name": "LayoutModel",
          "state": {
            "_view_name": "LayoutView",
            "grid_template_rows": null,
            "right": null,
            "justify_content": null,
            "_view_module": "@jupyter-widgets/base",
            "overflow": null,
            "_model_module_version": "1.2.0",
            "_view_count": null,
            "flex_flow": null,
            "width": null,
            "min_width": null,
            "border": null,
            "align_items": null,
            "bottom": null,
            "_model_module": "@jupyter-widgets/base",
            "top": null,
            "grid_column": null,
            "overflow_y": null,
            "overflow_x": null,
            "grid_auto_flow": null,
            "grid_area": null,
            "grid_template_columns": null,
            "flex": null,
            "_model_name": "LayoutModel",
            "justify_items": null,
            "grid_row": null,
            "max_height": null,
            "align_content": null,
            "visibility": null,
            "align_self": null,
            "height": null,
            "min_height": null,
            "padding": null,
            "grid_auto_rows": null,
            "grid_gap": null,
            "max_width": null,
            "order": null,
            "_view_module_version": "1.2.0",
            "grid_template_areas": null,
            "object_position": null,
            "object_fit": null,
            "grid_auto_columns": null,
            "margin": null,
            "display": null,
            "left": null
          }
        },
        "1c8fd147011a4ff0a982e7f73a0e90d0": {
          "model_module": "@jupyter-widgets/controls",
          "model_name": "HBoxModel",
          "state": {
            "_view_name": "HBoxView",
            "_dom_classes": [],
            "_model_name": "HBoxModel",
            "_view_module": "@jupyter-widgets/controls",
            "_model_module_version": "1.5.0",
            "_view_count": null,
            "_view_module_version": "1.5.0",
            "box_style": "",
            "layout": "IPY_MODEL_7ffc9a842595429bb2026d96a4de22d3",
            "_model_module": "@jupyter-widgets/controls",
            "children": [
              "IPY_MODEL_c1c4e953b1024c069aa7cb5f478c6d80",
              "IPY_MODEL_65035f5791e24b0d9da2972787597cf4"
            ]
          }
        },
        "7ffc9a842595429bb2026d96a4de22d3": {
          "model_module": "@jupyter-widgets/base",
          "model_name": "LayoutModel",
          "state": {
            "_view_name": "LayoutView",
            "grid_template_rows": null,
            "right": null,
            "justify_content": null,
            "_view_module": "@jupyter-widgets/base",
            "overflow": null,
            "_model_module_version": "1.2.0",
            "_view_count": null,
            "flex_flow": null,
            "width": null,
            "min_width": null,
            "border": null,
            "align_items": null,
            "bottom": null,
            "_model_module": "@jupyter-widgets/base",
            "top": null,
            "grid_column": null,
            "overflow_y": null,
            "overflow_x": null,
            "grid_auto_flow": null,
            "grid_area": null,
            "grid_template_columns": null,
            "flex": null,
            "_model_name": "LayoutModel",
            "justify_items": null,
            "grid_row": null,
            "max_height": null,
            "align_content": null,
            "visibility": null,
            "align_self": null,
            "height": null,
            "min_height": null,
            "padding": null,
            "grid_auto_rows": null,
            "grid_gap": null,
            "max_width": null,
            "order": null,
            "_view_module_version": "1.2.0",
            "grid_template_areas": null,
            "object_position": null,
            "object_fit": null,
            "grid_auto_columns": null,
            "margin": null,
            "display": null,
            "left": null
          }
        },
        "c1c4e953b1024c069aa7cb5f478c6d80": {
          "model_module": "@jupyter-widgets/controls",
          "model_name": "FloatProgressModel",
          "state": {
            "_view_name": "ProgressView",
            "style": "IPY_MODEL_fb28db82f8834c21b43ca2f07497e621",
            "_dom_classes": [],
            "description": "Collecting strided data: 100%",
            "_model_name": "FloatProgressModel",
            "bar_style": "success",
            "max": 200,
            "_view_module": "@jupyter-widgets/controls",
            "_model_module_version": "1.5.0",
            "value": 200,
            "_view_count": null,
            "_view_module_version": "1.5.0",
            "orientation": "horizontal",
            "min": 0,
            "description_tooltip": null,
            "_model_module": "@jupyter-widgets/controls",
            "layout": "IPY_MODEL_aec443a35ef94d9c9b4cb80a9d4864e4"
          }
        },
        "65035f5791e24b0d9da2972787597cf4": {
          "model_module": "@jupyter-widgets/controls",
          "model_name": "HTMLModel",
          "state": {
            "_view_name": "HTMLView",
            "style": "IPY_MODEL_1d0f12010f584286b1dc89841c96cbb7",
            "_dom_classes": [],
            "description": "",
            "_model_name": "HTMLModel",
            "placeholder": "​",
            "_view_module": "@jupyter-widgets/controls",
            "_model_module_version": "1.5.0",
            "value": " 200/200 [00:37&lt;00:00,  5.38it/s]",
            "_view_count": null,
            "_view_module_version": "1.5.0",
            "description_tooltip": null,
            "_model_module": "@jupyter-widgets/controls",
            "layout": "IPY_MODEL_fb0b26ed74c24df893912c8c28bed600"
          }
        },
        "fb28db82f8834c21b43ca2f07497e621": {
          "model_module": "@jupyter-widgets/controls",
          "model_name": "ProgressStyleModel",
          "state": {
            "_view_name": "StyleView",
            "_model_name": "ProgressStyleModel",
            "description_width": "initial",
            "_view_module": "@jupyter-widgets/base",
            "_model_module_version": "1.5.0",
            "_view_count": null,
            "_view_module_version": "1.2.0",
            "bar_color": null,
            "_model_module": "@jupyter-widgets/controls"
          }
        },
        "aec443a35ef94d9c9b4cb80a9d4864e4": {
          "model_module": "@jupyter-widgets/base",
          "model_name": "LayoutModel",
          "state": {
            "_view_name": "LayoutView",
            "grid_template_rows": null,
            "right": null,
            "justify_content": null,
            "_view_module": "@jupyter-widgets/base",
            "overflow": null,
            "_model_module_version": "1.2.0",
            "_view_count": null,
            "flex_flow": null,
            "width": null,
            "min_width": null,
            "border": null,
            "align_items": null,
            "bottom": null,
            "_model_module": "@jupyter-widgets/base",
            "top": null,
            "grid_column": null,
            "overflow_y": null,
            "overflow_x": null,
            "grid_auto_flow": null,
            "grid_area": null,
            "grid_template_columns": null,
            "flex": null,
            "_model_name": "LayoutModel",
            "justify_items": null,
            "grid_row": null,
            "max_height": null,
            "align_content": null,
            "visibility": null,
            "align_self": null,
            "height": null,
            "min_height": null,
            "padding": null,
            "grid_auto_rows": null,
            "grid_gap": null,
            "max_width": null,
            "order": null,
            "_view_module_version": "1.2.0",
            "grid_template_areas": null,
            "object_position": null,
            "object_fit": null,
            "grid_auto_columns": null,
            "margin": null,
            "display": null,
            "left": null
          }
        },
        "1d0f12010f584286b1dc89841c96cbb7": {
          "model_module": "@jupyter-widgets/controls",
          "model_name": "DescriptionStyleModel",
          "state": {
            "_view_name": "StyleView",
            "_model_name": "DescriptionStyleModel",
            "description_width": "",
            "_view_module": "@jupyter-widgets/base",
            "_model_module_version": "1.5.0",
            "_view_count": null,
            "_view_module_version": "1.2.0",
            "_model_module": "@jupyter-widgets/controls"
          }
        },
        "fb0b26ed74c24df893912c8c28bed600": {
          "model_module": "@jupyter-widgets/base",
          "model_name": "LayoutModel",
          "state": {
            "_view_name": "LayoutView",
            "grid_template_rows": null,
            "right": null,
            "justify_content": null,
            "_view_module": "@jupyter-widgets/base",
            "overflow": null,
            "_model_module_version": "1.2.0",
            "_view_count": null,
            "flex_flow": null,
            "width": null,
            "min_width": null,
            "border": null,
            "align_items": null,
            "bottom": null,
            "_model_module": "@jupyter-widgets/base",
            "top": null,
            "grid_column": null,
            "overflow_y": null,
            "overflow_x": null,
            "grid_auto_flow": null,
            "grid_area": null,
            "grid_template_columns": null,
            "flex": null,
            "_model_name": "LayoutModel",
            "justify_items": null,
            "grid_row": null,
            "max_height": null,
            "align_content": null,
            "visibility": null,
            "align_self": null,
            "height": null,
            "min_height": null,
            "padding": null,
            "grid_auto_rows": null,
            "grid_gap": null,
            "max_width": null,
            "order": null,
            "_view_module_version": "1.2.0",
            "grid_template_areas": null,
            "object_position": null,
            "object_fit": null,
            "grid_auto_columns": null,
            "margin": null,
            "display": null,
            "left": null
          }
        }
      }
    }
  },
  "cells": [
    {
      "cell_type": "code",
      "metadata": {
        "id": "wTCEDjPbCo_y"
      },
      "source": [
        "# standard imports\\n\",\n",
        "import os\n",
        "import random\n",
        "import numpy as np\n",
        "\n",
        "# work with data\\n\",\n",
        "import pandas as pd\n",
        "import h5py\n",
        "import matplotlib.pyplot as plt\n",
        "%matplotlib inline\n",
        "from mpl_toolkits.mplot3d import Axes3D\n",
        "import glob\n",
        "from tqdm.auto import tqdm\n",
        "from IPython.display import clear_output\n",
        "\n",
        "# like numpy, only good + NN\n",
        "import torch, torch.nn as nn\n",
        "import torch.nn.functional as torch_nn_F\n",
        "from torch.utils.data import DataLoader, Dataset, Subset\n",
        "# import torchvision\n",
        "# from torchvision import transforms\n",
        "import time\n",
        "\n",
        "\n",
        "plt.rcParams[\n",
        "    \"figure.facecolor\"\n",
        "] = \"w\"  # force white background on plots when using dark mode in JupyterLab\n",
        "\n",
        "# Dark plots\\n\",\n",
        "#plt.style.use('dark_background')\\n\",\n",
        "\n",
        "TIME_STEP = 1\n",
        "CLASSNAME = {0: 'ballistic', 1: 'hgv', 2: 'hcm'}\n",
        "CLASSTYPE = {'ballistic': 0, 'hgv': 1, 'hcm': 2}"
      ],
      "execution_count": 1,
      "outputs": []
    },
    {
      "cell_type": "markdown",
      "metadata": {
        "id": "R2JCNbReCo_y"
      },
      "source": [
        "# Prepare data\n",
        "## Load and examine data"
      ]
    },
    {
      "cell_type": "code",
      "metadata": {
        "id": "Ont_TbhRCo_y"
      },
      "source": [
        "# Data reading function\n",
        "def read_trajectories(path_to_file):\n",
        "    dset = pd.HDFStore(path_to_file, 'r')\n",
        "#     print(dset.info())\\n\",\n",
        "    return dset"
      ],
      "execution_count": 2,
      "outputs": []
    },
    {
      "cell_type": "markdown",
      "metadata": {
        "id": "u9sk-0Q3Co_y"
      },
      "source": [
        "## Splitting the data"
      ]
    },
    {
      "cell_type": "code",
      "metadata": {
        "id": "wS-OhyqoCo_z"
      },
      "source": [
        "def train_val_test_split(data, tts = (0.7, 0.1, 0.2), shuffle=False):\n",
        "    '''Split data into train, validation and test sets according to `tts` tuple\n",
        "\n",
        "    By default, tts = (train, val, test) = (0.7, 0.1, 0.2)\n",
        "    '''\n",
        "    assert sum(tts) == 1\n",
        "\n",
        "    if shuffle:\n",
        "        data = np.random.shuffle(data)\n",
        "\n",
        "    h = len(data)\n",
        "    train = data[:int(h * tts[0])]\n",
        "    val = data[int(h * tts[0]) : int(h * np.round(tts[0] + tts[1], 4))]\n",
        "    test = data[int(h * np.round(tts[0] + tts[1], 4)) : int(h * sum(tts))]\n",
        "\n",
        "    return train, val, test"
      ],
      "execution_count": 3,
      "outputs": []
    },
    {
      "cell_type": "markdown",
      "metadata": {
        "id": "MBM-6q37Co_0"
      },
      "source": [
        "## Invertible trajectory pre-processing transform"
      ]
    },
    {
      "cell_type": "code",
      "metadata": {
        "id": "U_-mtPGzCo_0"
      },
      "source": [
        "class RelativeTrajectory():\n",
        "    def __init__(self, df, diff=False, ref_point=20):\n",
        "\n",
        "        self.diff = diff\n",
        "        self.ref_point = ref_point\n",
        "        \n",
        "        data = np.array(df.drop('t', 1))\n",
        "        \n",
        "        # Remember first state\n",
        "        self.start_state = data[0].copy()\n",
        "        \n",
        "        # Make changes relative to the start state\n",
        "        data -= self.start_state\n",
        "        \n",
        "        # Rotate coordinate system around Z axis, \n",
        "        # so X` axis will pass through the 20'th point\n",
        "        # and Y` axis will represent deviation\n",
        "\n",
        "        ## Calculate angle of rotation: arctan(y_r / x_r), where r is ref_point\n",
        "        assert data.shape[0] >= ref_point\n",
        "        self.theta = np.arctan(data[ref_point][1] / data[ref_point][0])\n",
        "\n",
        "        ## Rotation matrix for XY plane around Z axis\n",
        "        ## Perform rotation for coordinates\n",
        "        data[:, :3] = self.rotate_Z(data[:, :3], self.theta)\n",
        "\n",
        "        ## Perform rotation for velocities\n",
        "        data[:, 3:6] = self.rotate_Z(data[:, 3:6], self.theta)\n",
        "\n",
        "        # Scale data to kilometers\n",
        "        data /= 1000\n",
        "\n",
        "        self.first_diff_elem = None\n",
        "        if diff:\n",
        "            self.first_diff_elem = data[0].copy()\n",
        "            data = np.diff(data, axis=0)    \n",
        "        \n",
        "        self.data = data\n",
        "        \n",
        "    def restore(self, columns, ts=1, config=None):\n",
        "        \n",
        "        assert ts > 0\n",
        "        \n",
        "        if config:\n",
        "            self.set_info(config)\n",
        "        \n",
        "        # Restore diff data\n",
        "        if self.diff:\n",
        "            data = np.r_[np.expand_dims(self.first_diff_elem, 0), np.cumsum(self.data, axis=0)]\n",
        "        else:         \n",
        "            data = self.data.copy()\n",
        "        \n",
        "        # Scale data from km back to meters\n",
        "        data *= 1000\n",
        "        \n",
        "        ## Rotation matrix for XY plane around Z axis\n",
        "        ## Perform rotation for coordinates\n",
        "        data[:, 0:3] = self.rotate_Z(data[:, 0:3], -self.theta)\n",
        "\n",
        "        ## Perform rotation for velocities\n",
        "        data[:, 3:6] = self.rotate_Z(data[:, 3:6], -self.theta)\n",
        "        \n",
        "        # Make changes absolute\n",
        "        data += self.start_state\n",
        "\n",
        "        # Restore Pandas.DataFrame format\n",
        "        t = np.arange(0, data.shape[0], ts)\n",
        "        data = np.c_[data, t] \n",
        "        data = pd.DataFrame(data, columns=columns)\n",
        "        \n",
        "        return data\n",
        "        \n",
        "    @staticmethod\n",
        "    def rotate_Z(data, theta):\n",
        "        \"\"\"Rotate data around the Z axis using matrix R\"\"\"\n",
        "        \n",
        "        R = np.array([\n",
        "            [np.cos(theta), -np.sin(theta), 0],\n",
        "            [np.sin(theta),  np.cos(theta), 0],\n",
        "            [            0,              0, 1]\n",
        "        ])\n",
        "        return data @ R.T\n",
        "    \n",
        "    def info(self):\n",
        "        return {\n",
        "            'ref_point' : self.ref_point,\n",
        "            'diff' : self.diff,\n",
        "            'start_state' : self.start_state,\n",
        "            'first_diff_elem' : self.first_diff_elem,\n",
        "            'theta' : self.theta\n",
        "        }\n",
        "    \n",
        "    def set_info(self, config):\n",
        "        self.ref_point = config['ref_point']\n",
        "        self.diff = config['diff']\n",
        "        self.start_point = config['start_point']\n",
        "        self.first_diff_elem = config['first_diff_elem']\n",
        "        self.theta = config['theta']"
      ],
      "execution_count": 4,
      "outputs": []
    },
    {
      "cell_type": "markdown",
      "metadata": {
        "id": "QPsATrbJCo_0"
      },
      "source": [
        "## Generation of datasets"
      ]
    },
    {
      "cell_type": "code",
      "metadata": {
        "id": "0zmkSG4NCo_0"
      },
      "source": [
        "def max_min_len_coordinate(dset, keys):\n",
        "    max_size = 0\n",
        "    min_size = len(np.array(dset[keys[0]])[:,0])\n",
        "    for key_k in keys:\n",
        "        size = len(np.array(dset[key_k])[:,0])\n",
        "        if size > max_size:\n",
        "            max_size = size\n",
        "            max_key = key_k\n",
        "        if size < min_size:\n",
        "            min_size = size\n",
        "            min_key = key_k\n",
        "    return (max_size, min_size, max_key, min_key)"
      ],
      "execution_count": 5,
      "outputs": []
    },
    {
      "cell_type": "code",
      "metadata": {
        "id": "0SYcu6PPCo_0"
      },
      "source": [
        "def get_strided_data_clust(dset, keys, variables=3, gt_size=0, step=1, diff=False, verbose=False):\n",
        "    '''Return list with parts of trajectories and their residuals.\n",
        "\n",
        "    Arguments:\n",
        "    dset -- h5py Data set with trajectory data\n",
        "        keys -- keys for extracting data from `dset`\n",
        "\n",
        "    Keyword arguments:\n",
        "    variables -- (default: 3) how many variables to extract:\n",
        "                     3 for XYZ -- coordinates,\n",
        "                     6 for XYZUVW -- coordinates and speeds,\n",
        "                     7 for XYZUVWH -- coords, speeds and altitude\n",
        "\n",
        "        gt_size -- how many trajectory points are to be observed\n",
        "        step -- (default: 1)\n",
        "                if 1, every row from the `dset` will be processed,\n",
        "                if >1, some rows will be skipped accordingly.\n",
        "        diff -- (default: False) toggle extract differentiated relative trajectories\n",
        "    '''\n",
        "    assert gt_size > 1\n",
        "    assert variables in [3, 6, 7]\n",
        "\n",
        "    # Create list with parts of trajectories,\n",
        "    # each element has gt_size trajectory points\n",
        "    data_seqs = []\n",
        "\n",
        "    # Set of configs for each trajectory.\n",
        "    configs = {}\n",
        "\n",
        "    # List of trajectory indices\n",
        "    # (to which trajectory this traj_elem belongs to)\n",
        "    traj_ids = []\n",
        "\n",
        "\n",
        "    # Collect trajectories, preprocess and\n",
        "    # split them into trajectory parts\n",
        "    for k in tqdm(range(len(keys)), disable=1-verbose, desc='Collecting strided data'):\n",
        "        # Get relative trajectory from the dataset\n",
        "        rt = RelativeTrajectory(dset[keys[k]], diff=diff)\n",
        "        configs[k] = rt.info()  # save for future restoration\n",
        "\n",
        "        # Collect list of trajectory parts from `rt`\n",
        "        # using time window gt_size and time shift `step`\n",
        "        if gt_size < rt.data.shape[0]:\n",
        "            for i in range(1 + (rt.data.shape[0] - gt_size) // step):\n",
        "                data_seqs.append([rt.data[i*step : i*step + gt_size, :variables]])\n",
        "                traj_ids.append(k)\n",
        "        else:\n",
        "            new_rt = np.zeros((gt_size,variables))  \n",
        "            new_rt[0:rt.data.shape[0],0:variables] = rt.data[:, :variables]\n",
        "            data_seqs.append([new_rt])\n",
        "            traj_ids.append(k)\n",
        "            \n",
        "    # Collect all data seqs into one huge dataset\n",
        "    # of shape [? , gt_size, variables]\n",
        "    data_seqs_all = np.stack(data_seqs).squeeze()\n",
        "    traj_ids_all = np.stack(traj_ids)\n",
        "\n",
        "    # Calculate mean and std over all data\n",
        "    data_mean = data_seqs_all.mean((0, 1))\n",
        "    data_std = data_seqs_all.std((0, 1))\n",
        "    res_mean = np.zeros(variables)\n",
        "    res_std = np.ones(variables)\n",
        "    \n",
        "    \n",
        "    stats = {\n",
        "        'data_mean': data_mean,\n",
        "        'data_std': data_std,\n",
        "        'res_mean': res_mean,\n",
        "        'res_std': res_std\n",
        "    }\n",
        "\n",
        "    if verbose:\n",
        "        with np.printoptions(precision=3):\n",
        "            print(f'Total trajectory parts: {data_seqs_all.shape[0]}')\n",
        "            print(f'Each: {gt_size} observed = {gt_size} points in total')\n",
        "            print(f'Each point contains {data_seqs_all.shape[-1]} variables')\n",
        "\n",
        "            print('Data mean:', stats['data_mean'],\n",
        "                  'Data std:', stats['data_std'],\n",
        "                  sep='\\\\n')\n",
        "\n",
        "    return (\n",
        "        data_seqs_all.squeeze()[:, :gt_size], # src sequences\n",
        "        configs,\n",
        "        stats,\n",
        "        traj_ids_all\n",
        "    )"
      ],
      "execution_count": 6,
      "outputs": []
    },
    {
      "cell_type": "code",
      "metadata": {
        "id": "RiOF9nCACo_0"
      },
      "source": [
        "class TrajectoryDataset(Dataset):\n",
        "    def __init__(self, data, name, variables=3, configs=None, stats=None, transform=None):\n",
        "        super().__init__()\n",
        "    \n",
        "        self.data = data\n",
        "        self.name = name\n",
        "        self.variables = variables\n",
        "        self.configs = configs\n",
        "        self.stats = stats\n",
        "        self.transform = transform\n",
        "\n",
        "        if self.transform is not None:\n",
        "            self.data = self.transform(self.data)\n",
        "        \n",
        "    def __len__(self):\n",
        "        return self.data['src'].shape[0]\n",
        "    \n",
        "    def __getitem__(self, index):\n",
        "        \n",
        "        ret =  {\n",
        "            'src': torch.Tensor(self.data['src'][index]),\n",
        "            'traj_id': self.data['traj_ids'][index],\n",
        "        }\n",
        "        return ret"
      ],
      "execution_count": 7,
      "outputs": []
    },
    {
      "cell_type": "code",
      "metadata": {
        "id": "vq55tXvZCo_0"
      },
      "source": [
        "def create_dataset(dset, keys, name, variables=3, gt_size=8, step=1, diff=False, train=True, scaler=None, verbose=False):\n",
        "    \"\"\"Create TrajectoryDataset for training NNs.\n",
        "\n",
        "    Arguments:\n",
        "        dset -- h5py dataset object\n",
        "        keys -- list of strings: keys for extracting data from `dset`\n",
        "        name -- name of the TrajectoryDataset\n",
        "\n",
        "    Keyword arguments:\n",
        "        variables -- (default: 3) how many variables to extract:\n",
        "                     3 for XYZ -- coordinates,\n",
        "                     6 for XYZUVW -- coordinates and speeds,\n",
        "                     7 for XYZUVWH -- coords, speeds and altitude\n",
        "\n",
        "        residuals -- (default: True) if True, residuals of trajectory will \n",
        "                     be concatenated, such that, in case of 3 variables: \n",
        "                     [[X1, Y1, Z1],      [[X1, Y1, Z1,     0,     0,     0],\n",
        "                      [X2, Y2, Z2],  -->  [X2, Y2, Z2, X2-X1, Y2-Y1, Z2-Z1],\n",
        "                      [X3, Y3, Z3]]       [X3, Y3, Z3, X3-X2, Y3-Y2, Z3-Z2]]\n",
        "\n",
        "        gt_size -- how many points are observed (model input)\n",
        "        horizon -- how many points the model tries to predict into the future\n",
        "        step -- stride step for data\n",
        "        diff -- toggle differentiate trajectories\n",
        "        train -- this data will be used for training\n",
        "        scaler -- custom scaler, so data will have zero mean and unit variance\n",
        "        verbose -- toggle print info to the terminal\n",
        "        \n",
        "    Note:\n",
        "        If `train == True`, the scaler will fit on the collected data and\n",
        "        then returned as the TrajectoryDataset.scaler attribute\n",
        "        \n",
        "        If 'train == False', this function will look for scaler from the \n",
        "        arguments, then use it to scale collected data for evaluation.\n",
        "    \"\"\"\n",
        "    if verbose:\n",
        "        print(f\"Loading dataset in {'train' if train else 'evaluation'} mode...\")\n",
        "\n",
        "    inp, configs, stats, traj_ids = get_strided_data_clust(\n",
        "        dset, keys, variables, gt_size, step, diff, verbose)\n",
        "\n",
        "    data = {\n",
        "        'src': inp,\n",
        "        'traj_ids': traj_ids\n",
        "    }\n",
        "\n",
        "    return TrajectoryDataset(data, name, variables, configs, stats)"
      ],
      "execution_count": 8,
      "outputs": []
    },
    {
      "cell_type": "markdown",
      "metadata": {
        "id": "FW67uWwXCo_2"
      },
      "source": [
        "## Recurrent Module"
      ]
    },
    {
      "cell_type": "code",
      "metadata": {
        "id": "KL4LZzWECo_2"
      },
      "source": [
        "# Our recurrent Module\n",
        "class ModuleRNN(nn.Module):\n",
        "    \"\"\"\n",
        "    Implement the scheme above as torch module\n",
        "    torch style\n",
        "    \n",
        "    \"\"\"\n",
        "    def __init__(self, vect_dim=3, rnn_num_units=64):\n",
        "        super(self.__class__,self).__init__()\n",
        "        self.num_units = rnn_num_units\n",
        "\n",
        "#         our linear layer\n",
        "        self.rnn_update = self.block(vect_dim, rnn_num_units)\n",
        "\n",
        "        self.rnn_forget = self.block(vect_dim, rnn_num_units)\n",
        "        self.rnn_save = self.block(vect_dim, rnn_num_units)\n",
        "        self.rnn_data_selection = self.block(vect_dim, rnn_num_units)\n",
        "        self.rnn_quick_overview = self.block(vect_dim, rnn_num_units)\n",
        "\n",
        "        \n",
        "        self.rnn_prediction = self.predicted_block(rnn_num_units, vect_dim)\n",
        "\n",
        "    def forward(self, new_data, short_term_memory, long_term_memory):\n",
        "        \"\"\"\n",
        "        This method computes h_next(x, h_prev) and log P(x_next | h_next)\n",
        "        We'll call it repeatedly to produce the whole sequence.\n",
        "\n",
        "        :param x: batch of character ids, containing vector of int64\n",
        "        :param h_prev: previous rnn hidden states, containing matrix [batch, rnn_num_units] of float32\n",
        "        \"\"\"\n",
        "\n",
        "        memory = torch.cat([new_data, short_term_memory], dim=-1)\n",
        "\n",
        "        forgetfulness = torch.sigmoid(self.rnn_forget(memory)) #forgetting dataforgetting data\n",
        "        conservation = torch.tanh(self.rnn_save(memory)) #the acquisition of new data\n",
        "        information = torch.sigmoid(self.rnn_data_selection(memory))\n",
        "\n",
        "        long_term_memory = (forgetfulness * long_term_memory) + (information * conservation)\n",
        "\n",
        "        short_term_memory = torch.sigmoid(self.rnn_quick_overview(memory)) * torch.tanh(long_term_memory)\n",
        "\n",
        "\n",
        "\n",
        "        #compute logits for next character probs\n",
        "        predicted_data = self.rnn_prediction(short_term_memory)\n",
        "\n",
        "        return predicted_data, short_term_memory, long_term_memory\n",
        "\n",
        "    def initial_state(self, batch_size):\n",
        "        \"\"\" return rnn state before it processes first input (aka h0) \"\"\"\n",
        "        return torch.zeros(batch_size, self.num_units, requires_grad=True)\n",
        "\n",
        "    def block(self, in_f, out_f):\n",
        "        return nn.Sequential(\n",
        "            self.base_block(in_f + out_f, (in_f + 2 * out_f)//2),\n",
        "            self.base_block((in_f + 2 * out_f)//2, out_f)\n",
        "        )\n",
        "\n",
        "\n",
        "    def base_block(self, in_f, out_f):\n",
        "        return nn.Sequential(\n",
        "            nn.Linear(in_f, out_f),\n",
        "        )\n",
        "\n",
        "    def predicted_block(self, in_f, out_f):\n",
        "        return nn.Sequential(\n",
        "            nn.Linear(in_f, (in_f + out_f)//2),\n",
        "            nn.Dropout(0.05),\n",
        "            nn.Linear((in_f + out_f)//2, out_f),\n",
        "            \n",
        "        )\n",
        "\n"
      ],
      "execution_count": 299,
      "outputs": []
    },
    {
      "cell_type": "markdown",
      "metadata": {
        "id": "lB8gB8vsCo_2"
      },
      "source": [
        "## RNN Loop"
      ]
    },
    {
      "cell_type": "code",
      "metadata": {
        "id": "vbmQ2BGACo_2"
      },
      "source": [
        "def rnn_loop(trajectories_rnn, batch_ix, device):\n",
        "    \"\"\"\n",
        "    Computes log P(next_character) for all time-steps in names_ix\n",
        "    :param names_ix: an int32 matrix of shape [batch, time], output of to_matrix(names)\n",
        "    \"\"\"\n",
        "    batch_size, max_length, vec_dim = batch_ix.size()\n",
        "\n",
        "    short_term_memory = trajectories_rnn.initial_state(batch_size)\n",
        "    long_term_memory = trajectories_rnn.initial_state(batch_size)\n",
        "    predictions = []\n",
        "\n",
        "    for new_data in batch_ix.transpose(0,1):\n",
        "        prediction, short_term_memory, long_term_memory = trajectories_rnn(new_data, short_term_memory.to(device), long_term_memory.to(device))  # <-- here we call your one-step code\n",
        "        predictions.append(prediction)\n",
        "\n",
        "    return torch.stack(predictions, dim=1)"
      ],
      "execution_count": 112,
      "outputs": []
    },
    {
      "cell_type": "markdown",
      "metadata": {
        "id": "4sVIzm2G_8MN"
      },
      "source": [
        "## The training loop"
      ]
    },
    {
      "cell_type": "code",
      "metadata": {
        "id": "NAY9qfz4BbS6"
      },
      "source": [
        "def accuracy(x_pred, x_real, Discrepancy):\n",
        "    return np.sum(np.absolute((x_pred-x_real)/x_real) <= Discrepancy)/ x_real.size\n",
        "\n",
        "def print_epoc(train_loss, val_loss, train_accuracy, val_accuracy, epoc, EPOC_NUM, now_time, start_time):\n",
        "    print(f'Epoch {epoc + 1} of {EPOC_NUM} took {now_time - start_time:.3f}s')\n",
        "    \n",
        "    print('      training loss:', train_loss[-1],)\n",
        "    print('    validation loss:', val_loss[-1])\n",
        "    print('validation accuracy:', val_accuracy[-1])\n",
        "    # print(f\"\\t  training loss: {train_loss[-1]:.9f}\")\n",
        "    # print(f\"\\tvalidation loss: {val_loss[-1]:.9f}\")\n",
        "    # print(f\"\\tvalidation accuracy: {val_accuracy[-1]:.3f}\")\n",
        "    plot_process(train_loss, val_loss, None, train_accuracy, val_accuracy, None)\n",
        "    plot_process(train_loss[-10:], val_loss[-10:], None, train_accuracy[-10:], val_accuracy[-10:], None)"
      ],
      "execution_count": 333,
      "outputs": []
    },
    {
      "cell_type": "code",
      "metadata": {
        "id": "6GvUeUEA_9F0"
      },
      "source": [
        "def traning_fun(trajectories_rnn, criterion, opt, train_dl, val_dl, train_loss, val_loss, train_accuracy, val_accuracy, Discrepancy, EPOC_NUM, device, draw: bool = False):\n",
        "\n",
        "    error = 0\n",
        "    retraining = 0\n",
        "\n",
        "    for epoc in range(EPOC_NUM):\n",
        "\n",
        "        ep_train_loss = []\n",
        "        ep_val_loss = []\n",
        "        ep_train_accuracy = []\n",
        "        ep_val_accuracy = []\n",
        "        start_time = time.time()\n",
        "        \n",
        "        trajectories_rnn.train(True) # enable dropout / batch_norm training behavior\n",
        "        for id_b, batch in enumerate(train_dl):\n",
        "            opt.zero_grad()\n",
        "            batch = batch['src'].to(device, torch.float32)\n",
        "\n",
        "            predictions = rnn_loop(trajectories_rnn, batch, device)\n",
        "\n",
        "            # compute loss\n",
        "            predictions_part = predictions[:, :-1]\n",
        "            data_real = batch[:, 1:]\n",
        "\n",
        "            # print(predictions_logp.shape, actual_next_tokens.shape)\n",
        "            loss = criterion(\n",
        "                predictions_part.contiguous().view(-1),\n",
        "                data_real.contiguous().view(-1)\n",
        "            ) \n",
        "            size = predictions_part.cpu().detach().numpy().size\n",
        "            loss = loss / (size**2)\n",
        "            ep_train_accuracy.append(accuracy(predictions_part.cpu().detach().numpy(), data_real.cpu().detach().numpy().astype(float), Discrepancy))\n",
        "            \n",
        "            # train with backprop\n",
        "            loss.backward()\n",
        "            opt.step()\n",
        "            \n",
        "            ep_train_loss.append(loss.cpu().data.numpy())\n",
        "          \n",
        "        trajectories_rnn.train(False) # enable dropout / batch_norm training behavior\n",
        "        with torch.no_grad(): \n",
        "            for id_b, batch in enumerate(val_dl):\n",
        "                batch = batch['src'].to(device)\n",
        "\n",
        "                predictions = rnn_loop(trajectories_rnn, batch, device)\n",
        "\n",
        "                # compute loss\n",
        "                predictions_part = predictions[:, :-1]\n",
        "                data_real = batch[:, 1:]\n",
        "\n",
        "                # print(predictions_logp.shape, actual_next_tokens.shape)\n",
        "                loss = criterion(\n",
        "                    predictions_part.contiguous().view(-1),\n",
        "                    data_real.contiguous().view(-1)\n",
        "                )\n",
        "\n",
        "                size = predictions_part.cpu().detach().numpy().size\n",
        "                loss = loss / (size**2)\n",
        "                ep_val_loss.append(loss.cpu().data.numpy())\n",
        "                ep_val_accuracy.append(accuracy(predictions_part.cpu().numpy(), data_real.cpu().numpy().astype(float), Discrepancy))\n",
        "        \n",
        "        clear_output(True)\n",
        "        \n",
        "        train_loss.append(np.mean(ep_train_loss))\n",
        "        val_loss.append(np.mean(ep_val_loss))\n",
        "        train_accuracy.append(np.mean(ep_train_accuracy))\n",
        "        val_accuracy.append(np.mean(ep_val_accuracy))\n",
        "\n",
        "        if error > 0:\n",
        "            print('Warning: the network is hard to learn.')\n",
        "        if retraining>EPOC_NUM*3//10:\n",
        "            print('Warning: the network is being retrained - overfitting.')\n",
        "        if train_loss[0] < train_loss[-1]:\n",
        "            error+=1\n",
        "            assert error!=3, \"RNN didn't converge!!!\"\n",
        "        else:\n",
        "            if error>0:\n",
        "                error-=1\n",
        "\n",
        "        if train_loss[-1] < val_loss[-1]:\n",
        "            retraining+=1\n",
        "        else:\n",
        "            if retraining>0:\n",
        "                retraining-=1\n",
        "\n",
        "        # print the results for this epoch:\n",
        "        if draw:\n",
        "            print_epoc(train_loss, val_loss, train_accuracy, val_accuracy, epoc, EPOC_NUM, time.time(), start_time)\n",
        "        \n",
        "    return trajectories_rnn, train_loss, val_loss, train_accuracy, val_accuracy"
      ],
      "execution_count": 335,
      "outputs": []
    },
    {
      "cell_type": "markdown",
      "metadata": {
        "id": "k2wD7-wPBD6m"
      },
      "source": [
        "## Test"
      ]
    },
    {
      "cell_type": "code",
      "metadata": {
        "id": "KrsxHDH2E6Ba"
      },
      "source": [
        "def print_test(test_loss, test_accuracy, iteration, iteration_num, now_time, start_time):\n",
        "    print(f'Iteration {iteration + 1} of {iteration_num} took {now_time - start_time:.3f}s')\n",
        "    \n",
        "    print('    testing loss:', test_loss[-1],)\n",
        "    print('testing accuracy:', test_accuracy[-1])\n",
        "    plot_process(None, None, test_loss, None, None, test_accuracy)"
      ],
      "execution_count": 336,
      "outputs": []
    },
    {
      "cell_type": "code",
      "metadata": {
        "id": "GAuxo_CwBGfF"
      },
      "source": [
        "def testing_fun(trajectories_rnn, criterion, test_dl, test_loss, test_accuracy, Discrepancy, device, draw: bool = False):\n",
        "\n",
        "    start_time = time.time()\n",
        "    iteration_num = len(test_dl)\n",
        "    trajectories_rnn.train(False) # enable dropout / batch_norm training behavior\n",
        "    with torch.no_grad(): \n",
        "        for id_b, batch in enumerate(test_dl):\n",
        "            start_time = time.time()\n",
        "\n",
        "            batch = batch['src'].to(device)\n",
        "\n",
        "            predictions = rnn_loop(trajectories_rnn, batch, device)\n",
        "\n",
        "            # compute loss\n",
        "            predictions_part = predictions[:, :-1]\n",
        "            data_real = batch[:, 1:]\n",
        "\n",
        "            # print(predictions_logp.shape, actual_next_tokens.shape)\n",
        "            loss = criterion(\n",
        "                predictions_part.contiguous().view(-1),\n",
        "                data_real.contiguous().view(-1)\n",
        "            )\n",
        "\n",
        "            size = predictions_part.cpu().detach().numpy().size\n",
        "            loss = loss / (size**2)\n",
        "            test_loss.append(loss.cpu().data.numpy())\n",
        "            test_accuracy.append(accuracy(predictions_part.cpu().numpy(), data_real.cpu().numpy().astype(float), Discrepancy))\n",
        "            if draw:\n",
        "                clear_output(True)\n",
        "                print_test(test_loss, test_accuracy, id_b, iteration_num, time.time(), start_time)\n",
        "        \n",
        "    return test_loss, test_accuracy"
      ],
      "execution_count": 337,
      "outputs": []
    },
    {
      "cell_type": "markdown",
      "metadata": {
        "id": "DTxCrDhk3Yao"
      },
      "source": [
        "## Drawing"
      ]
    },
    {
      "cell_type": "code",
      "metadata": {
        "id": "We50GD2B3Y8q"
      },
      "source": [
        "def plot_process(train_loss, val_loss, test_loss, train_accuracy, val_accuracy, test_accuracy):\n",
        "  plt.title('Loss')\n",
        "  plt.ylabel('Loss')\n",
        "  plt.xlabel('Epoch/Iteration')\n",
        "  if train_loss != None:\n",
        "      plt.plot(train_loss, label='train')\n",
        "  if val_loss != None:\n",
        "      plt.plot(val_loss, label='validation')\n",
        "  if test_loss != None:\n",
        "      plt.plot(test_loss, label='test')\n",
        "  plt.legend()\n",
        "  plt.grid(True)\n",
        "  plt.show()\n",
        "\n",
        "  plt.title('Validation accuracy')\n",
        "  plt.ylabel('Accuracy')\n",
        "  plt.xlabel('Epoch/Iteration')\n",
        "  if train_accuracy != None:\n",
        "      plt.plot(train_accuracy, label='train accuracy', color='b')\n",
        "  if val_accuracy != None:\n",
        "      plt.plot(val_accuracy, label='validation accuracy', color='r')\n",
        "  if test_accuracy != None:\n",
        "      plt.plot(test_accuracy, label='test accuracy', color='r')\n",
        "  plt.legend()\n",
        "  plt.grid(True)\n",
        "  plt.show()"
      ],
      "execution_count": 338,
      "outputs": []
    },
    {
      "cell_type": "markdown",
      "metadata": {
        "id": "kJesnK_kEVpz"
      },
      "source": [
        "## Save the model"
      ]
    },
    {
      "cell_type": "code",
      "metadata": {
        "id": "-LL8SDyGEX9a"
      },
      "source": [
        "def save_checkpoint(checkpoint_path, model, optimizer):\n",
        "    # state_dict: a Python dictionary object that:\n",
        "    # - for a model, maps each layer to its parameter tensor;\n",
        "    # - for an optimizer, contains info about the optimizer’s states and hyperparameters used.\n",
        "    state = {\n",
        "        'state_dict': model.state_dict(),\n",
        "        'optimizer' : optimizer.state_dict()}\n",
        "    torch.save(state, checkpoint_path)\n",
        "    print('model saved to %s' % checkpoint_path)\n",
        "    \n",
        "def load_checkpoint(checkpoint_path, model, optimizer):\n",
        "    state = torch.load(checkpoint_path)\n",
        "    model.load_state_dict(state['state_dict'])\n",
        "    optimizer.load_state_dict(state['optimizer'])\n",
        "    print('model loaded from %s' % checkpoint_path)"
      ],
      "execution_count": 14,
      "outputs": []
    },
    {
      "cell_type": "markdown",
      "metadata": {
        "id": "LYcG8-z9kBh9"
      },
      "source": [
        "## Pre Training  "
      ]
    },
    {
      "cell_type": "code",
      "metadata": {
        "id": "UcMbpMN_r-fg"
      },
      "source": [
        "!wget https://github.com/dart9905/coursework/blob/test/KalmanNN/data/ballistic_batch_1000_nopad.h5 -nc"
      ],
      "execution_count": null,
      "outputs": []
    },
    {
      "cell_type": "code",
      "metadata": {
        "id": "Mha4QQsJrn6u"
      },
      "source": [
        "# reading\n",
        "name_file_trajectories = '/content/ballistic_batch_1000_nopad.h5'\n",
        "try:\n",
        "    dset = read_trajectories(name_file_trajectories)\n",
        "except FileNotFoundError:\n",
        "    assert \"NO file!!!\""
      ],
      "execution_count": 15,
      "outputs": []
    },
    {
      "cell_type": "code",
      "metadata": {
        "colab": {
          "base_uri": "https://localhost:8080/"
        },
        "id": "m3Fy87Czr4w1",
        "outputId": "fe4f2b6d-42c7-4d4f-f121-f58ed5093f84"
      },
      "source": [
        "# Train-val-test split data\n",
        "data_keys = sorted([key for key in dset.keys() if 'raw' in key])\n",
        "# Test data       = 20% of total keys\n",
        "# Validation data = 10% of total keys\n",
        "# Train data      = 70% of total keys\n",
        "train_keys, val_keys, test_keys = train_val_test_split(\n",
        "    data_keys, (0.7, 0.1, 0.2), shuffle=False)\n",
        "\n",
        "print(f'Train keys: {len(train_keys):>5} -> {len(train_keys)/len(data_keys) * 100}%')\n",
        "print(f'Valid keys: {len(val_keys):>5} -> {len(val_keys)/len(data_keys) * 100}%')\n",
        "print(f'Test keys:  {len(test_keys):>5} -> {len(test_keys)/len(data_keys) * 100}%')"
      ],
      "execution_count": 16,
      "outputs": [
        {
          "output_type": "stream",
          "text": [
            "Train keys:   700 -> 70.0%\n",
            "Valid keys:   100 -> 10.0%\n",
            "Test keys:    200 -> 20.0%\n"
          ],
          "name": "stdout"
        }
      ]
    },
    {
      "cell_type": "code",
      "metadata": {
        "colab": {
          "base_uri": "https://localhost:8080/"
        },
        "id": "TFHbtwiekpZj",
        "outputId": "9d9ab452-7731-492b-f4c2-ec5faae49886"
      },
      "source": [
        "# use GPU if available\n",
        "device = torch.device(\"cuda\") if torch.cuda.is_available() else torch.device(\"cpu\")\n",
        "device"
      ],
      "execution_count": 17,
      "outputs": [
        {
          "output_type": "execute_result",
          "data": {
            "text/plain": [
              "device(type='cuda')"
            ]
          },
          "metadata": {
            "tags": []
          },
          "execution_count": 17
        }
      ]
    },
    {
      "cell_type": "code",
      "metadata": {
        "id": "siFfI-mzCo_2",
        "colab": {
          "base_uri": "https://localhost:8080/"
        },
        "outputId": "0a1a8b3a-7626-4200-ed92-324c10c5ca24"
      },
      "source": [
        "max_len_trajectory, min_len_trajectory, key_max, key_min = max_min_len_coordinate(dset, dset.keys())\n",
        "max_len_trajectory, min_len_trajectory, key_max, key_min"
      ],
      "execution_count": 18,
      "outputs": [
        {
          "output_type": "execute_result",
          "data": {
            "text/plain": [
              "(458, 162, '/ballistic_raw/BALLISTIC_665', '/ballistic_raw/BALLISTIC_264')"
            ]
          },
          "metadata": {
            "tags": []
          },
          "execution_count": 18
        }
      ]
    },
    {
      "cell_type": "code",
      "metadata": {
        "id": "X2Jrk6HHjwMX"
      },
      "source": [
        "BATCH_SIZE = 50\n",
        "BATCH_SIZE_TEST=BATCH_SIZE*1//5\n",
        "SET_LONG = min_len_trajectory\n",
        "VEC_DIM = 3\n",
        "MEM_RNN = SET_LONG*10\n",
        "EPOC_NUM = 40"
      ],
      "execution_count": 301,
      "outputs": []
    },
    {
      "cell_type": "code",
      "metadata": {
        "colab": {
          "base_uri": "https://localhost:8080/",
          "height": 419,
          "referenced_widgets": [
            "c4a7aa54dc2642e3b58d5d4c79e7c9e4",
            "810b803dedca479cb7f027d8128a4da7",
            "6289ba75789041d287434dae4efdb1c5",
            "1708c73e2b7641d6ae2f330ea2d65896",
            "50e5e991fb5f4d3ea954fec0507dbd86",
            "4cd0bd057d614d6bb87c42f210d5cde3",
            "1c648f9103a94560bd10d4059066986a",
            "a616a86823b04ba5b9f5452b2cb27015",
            "52b4aaadc5784a5d972e8591dec2f120",
            "3bf748171f394a169eaf4f5883e73c44",
            "094be0e59bbf421db584adede399c6fe",
            "b8520dfc86724ce69be6b3b6d6305ec4",
            "57ed6b8410c047deae4f78c11a2dc60f",
            "1332d9758d5e4b49bff0944ab7bbd2d6",
            "6c15621d979d4d61988e173fd96afd26",
            "bc6cf48717d0420ba2714459a2ed36e1",
            "1c8fd147011a4ff0a982e7f73a0e90d0",
            "7ffc9a842595429bb2026d96a4de22d3",
            "c1c4e953b1024c069aa7cb5f478c6d80",
            "65035f5791e24b0d9da2972787597cf4",
            "fb28db82f8834c21b43ca2f07497e621",
            "aec443a35ef94d9c9b4cb80a9d4864e4",
            "1d0f12010f584286b1dc89841c96cbb7",
            "fb0b26ed74c24df893912c8c28bed600"
          ]
        },
        "id": "57d02Cs4j01C",
        "outputId": "fa75b665-9ab2-4930-f6e4-93c33f97e1fd"
      },
      "source": [
        "train_data = create_dataset(\n",
        "    dset,\n",
        "    train_keys,\n",
        "    name='train',\n",
        "    gt_size=SET_LONG,\n",
        "    step=SET_LONG,\n",
        "    variables=VEC_DIM,\n",
        "    train=True,\n",
        "    verbose=True\n",
        ")\n",
        "val_data = create_dataset(\n",
        "    dset,\n",
        "    val_keys,\n",
        "    name='validation',\n",
        "    gt_size=SET_LONG,\n",
        "    step=SET_LONG,\n",
        "    variables=VEC_DIM,\n",
        "    train=False,\n",
        "    verbose=True\n",
        ")\n",
        "test_data = create_dataset(\n",
        "    dset,\n",
        "    test_keys,\n",
        "    name='test',\n",
        "    gt_size=SET_LONG,\n",
        "    step=SET_LONG,\n",
        "    variables=VEC_DIM,\n",
        "    train=False,\n",
        "    verbose=True\n",
        ")"
      ],
      "execution_count": 34,
      "outputs": [
        {
          "output_type": "stream",
          "text": [
            "Loading dataset in train mode...\n"
          ],
          "name": "stdout"
        },
        {
          "output_type": "display_data",
          "data": {
            "application/vnd.jupyter.widget-view+json": {
              "model_id": "c4a7aa54dc2642e3b58d5d4c79e7c9e4",
              "version_minor": 0,
              "version_major": 2
            },
            "text/plain": [
              "HBox(children=(FloatProgress(value=0.0, description='Collecting strided data', max=700.0, style=ProgressStyle(…"
            ]
          },
          "metadata": {
            "tags": []
          }
        },
        {
          "output_type": "stream",
          "text": [
            "\n",
            "Total trajectory parts: 867\n",
            "Each: 162 observed = 162 points in total\n",
            "Each point contains 3 variables\n",
            "Data mean:\\n[ 43.249  66.819 -45.809]\\nData std:\\n[33.861 50.311 52.817]\n",
            "Loading dataset in evaluation mode...\n"
          ],
          "name": "stdout"
        },
        {
          "output_type": "display_data",
          "data": {
            "application/vnd.jupyter.widget-view+json": {
              "model_id": "52b4aaadc5784a5d972e8591dec2f120",
              "version_minor": 0,
              "version_major": 2
            },
            "text/plain": [
              "HBox(children=(FloatProgress(value=0.0, description='Collecting strided data', style=ProgressStyle(description…"
            ]
          },
          "metadata": {
            "tags": []
          }
        },
        {
          "output_type": "stream",
          "text": [
            "\n",
            "Total trajectory parts: 123\n",
            "Each: 162 observed = 162 points in total\n",
            "Each point contains 3 variables\n",
            "Data mean:\\n[ 42.823  66.174 -45.362]\\nData std:\\n[33.616 50.516 52.042]\n",
            "Loading dataset in evaluation mode...\n"
          ],
          "name": "stdout"
        },
        {
          "output_type": "display_data",
          "data": {
            "application/vnd.jupyter.widget-view+json": {
              "model_id": "1c8fd147011a4ff0a982e7f73a0e90d0",
              "version_minor": 0,
              "version_major": 2
            },
            "text/plain": [
              "HBox(children=(FloatProgress(value=0.0, description='Collecting strided data', max=200.0, style=ProgressStyle(…"
            ]
          },
          "metadata": {
            "tags": []
          }
        },
        {
          "output_type": "stream",
          "text": [
            "\n",
            "Total trajectory parts: 237\n",
            "Each: 162 observed = 162 points in total\n",
            "Each point contains 3 variables\n",
            "Data mean:\\n[ 38.963  59.589 -42.729]\\nData std:\\n[31.39  46.182 50.044]\n"
          ],
          "name": "stdout"
        }
      ]
    },
    {
      "cell_type": "code",
      "metadata": {
        "id": "6yCfLKffkChk"
      },
      "source": [
        "train_dl = DataLoader(\n",
        "    train_data,\n",
        "    batch_size=BATCH_SIZE,\n",
        "    shuffle=True, #try  с\\n\",\n",
        "    num_workers=1) #num_workers=-2# use CPU\"\n",
        "\n",
        "val_dl = DataLoader(\n",
        "    val_data,\n",
        "    batch_size=BATCH_SIZE,\n",
        "    shuffle=False, #try  с\\n\",\n",
        "    num_workers=1) #num_workers=-2# use CPU\"\n",
        "  \n",
        "test_dl = DataLoader(\n",
        "    test_data,\n",
        "    batch_size=BATCH_SIZE_TEST,\n",
        "    shuffle=False, #try  с\\n\",\n",
        "    num_workers=1) #num_workers=-2# use CPU\""
      ],
      "execution_count": 286,
      "outputs": []
    },
    {
      "cell_type": "markdown",
      "metadata": {
        "id": "J1LDpEkIBOxE"
      },
      "source": [
        "## Training  "
      ]
    },
    {
      "cell_type": "code",
      "metadata": {
        "id": "qJWSxsuACo_2"
      },
      "source": [
        "trajectories_rnn = ModuleRNN(vect_dim=VEC_DIM, rnn_num_units=MEM_RNN)\n",
        "trajectories_rnn.to(device, torch.float32)\n",
        "\n",
        "criterion = nn.MSELoss() # nn.CrossEntropyLoss()\n",
        "opt = torch.optim.Adam(trajectories_rnn.parameters(), lr=1e-4, weight_decay=1e-8) # lr=1e-4\n"
      ],
      "execution_count": 349,
      "outputs": []
    },
    {
      "cell_type": "code",
      "metadata": {
        "id": "5_eF7t0lr8Op"
      },
      "source": [
        "train_loss = []\n",
        "val_loss = []\n",
        "test_loss = []\n",
        "train_accuracy = []\n",
        "val_accuracy = []\n",
        "test_accuracy = []\n",
        "\n",
        "Discrepancy = 0.05"
      ],
      "execution_count": 354,
      "outputs": []
    },
    {
      "cell_type": "code",
      "metadata": {
        "id": "XrgbYpQj9664"
      },
      "source": [
        "# trajectories_rnn, train_loss, val_loss, val_accuracy = traning_fun(trajectories_rnn, criterion, opt, train_dl, val_dl, train_loss, val_loss, val_accuracy, Discrepancy, EPOC_NUM, device, draw=True)"
      ],
      "execution_count": 317,
      "outputs": []
    },
    {
      "cell_type": "code",
      "metadata": {
        "colab": {
          "base_uri": "https://localhost:8080/",
          "height": 1000
        },
        "id": "ziuDJpxwzpwp",
        "outputId": "5e0a8ceb-b962-46e3-f94b-02e94afbd573"
      },
      "source": [
        "EPOC_NUM_var = EPOC_NUM*6//10\n",
        "opt = torch.optim.Adam(trajectories_rnn.parameters(), lr=1e-3, weight_decay=1e-8) # lr=1e-4\n",
        "trajectories_rnn, train_loss, val_loss, train_accuracy, val_accuracy = traning_fun(trajectories_rnn, criterion, opt, train_dl, val_dl, train_loss, val_loss, train_accuracy, val_accuracy, Discrepancy, EPOC_NUM_var, device, draw=True)\n",
        "\n",
        "EPOC_NUM_var = EPOC_NUM*2//10\n",
        "opt = torch.optim.Adam(trajectories_rnn.parameters(), lr=1e-4, weight_decay=1e-8) # lr=1e-4\n",
        "trajectories_rnn, train_loss, val_loss, train_accuracy, val_accuracy = traning_fun(trajectories_rnn, criterion, opt, train_dl, val_dl, train_loss, val_loss, train_accuracy, val_accuracy, Discrepancy, EPOC_NUM_var, device, draw=True)\n",
        "\n",
        "EPOC_NUM_var = EPOC_NUM*2//10\n",
        "opt = torch.optim.Adam(trajectories_rnn.parameters(), lr=1e-5, weight_decay=1e-8) # lr=1e-4\n",
        "trajectories_rnn, train_loss, val_loss, train_accuracy, val_accuracy = traning_fun(trajectories_rnn, criterion, opt, train_dl, val_dl, train_loss, val_loss, train_accuracy, val_accuracy, Discrepancy, EPOC_NUM_var, device, draw=True)"
      ],
      "execution_count": 351,
      "outputs": [
        {
          "output_type": "stream",
          "text": [
            "Warning: the network is being retrained - overfitting.\n",
            "Epoch 8 of 8 took 13.961s\n",
            "      training loss: 1.3108303e-08\n",
            "    validation loss: 5.1106607e-08\n",
            "validation accuracy: 0.8309616827197167\n"
          ],
          "name": "stdout"
        },
        {
          "output_type": "display_data",
          "data": {
            "image/png": "[encoded data removed]",
            "text/plain": [
              "<Figure size 432x288 with 1 Axes>"
            ]
          },
          "metadata": {
            "tags": [],
            "needs_background": "light"
          }
        },
        {
          "output_type": "display_data",
          "data": {
            "image/png": "[encoded data removed]",
            "text/plain": [
              "<Figure size 432x288 with 1 Axes>"
            ]
          },
          "metadata": {
            "tags": [],
            "needs_background": "light"
          }
        },
        {
          "output_type": "display_data",
          "data": {
            "image/png": "[encoded data removed]",
            "text/plain": [
              "<Figure size 432x288 with 1 Axes>"
            ]
          },
          "metadata": {
            "tags": [],
            "needs_background": "light"
          }
        },
        {
          "output_type": "display_data",
          "data": {
            "image/png": "[encoded data removed]",
            "text/plain": [
              "<Figure size 432x288 with 1 Axes>"
            ]
          },
          "metadata": {
            "tags": [],
            "needs_background": "light"
          }
        }
      ]
    },
    {
      "cell_type": "code",
      "metadata": {
        "id": "95s7w6E3Kae2"
      },
      "source": [
        "# print('      training loss:', train_loss[-1],)\n",
        "# print('    validation loss:', val_loss[-1])\n",
        "# print('validation accuracy:', val_accuracy[-1])\n",
        "# plot_process(train_loss, val_loss, None, val_accuracy, None)\n",
        "# plot_process(train_loss[-10:], val_loss[-10:], None, val_accuracy[-10:], None)"
      ],
      "execution_count": 348,
      "outputs": []
    },
    {
      "cell_type": "code",
      "metadata": {
        "colab": {
          "base_uri": "https://localhost:8080/",
          "height": 658
        },
        "id": "oR4t2qKrFqdF",
        "outputId": "8af28c65-a917-4f21-e180-9fafd8ede178"
      },
      "source": [
        "test_loss, test_accuracy = testing_fun(trajectories_rnn, criterion, test_dl, test_loss, test_accuracy, Discrepancy, device, draw=True)\n",
        "print('mean test loss:', np.mean(test_loss))\n",
        "print('mean test accuracy:', np.mean(test_accuracy))"
      ],
      "execution_count": 355,
      "outputs": [
        {
          "output_type": "stream",
          "text": [
            "Iteration 24 of 24 took 0.154s\n",
            "    testing loss: 2.0619352e-08\n",
            "testing accuracy: 0.8467908902691511\n"
          ],
          "name": "stdout"
        },
        {
          "output_type": "display_data",
          "data": {
            "image/png": "[encoded data removed]",
            "text/plain": [
              "<Figure size 432x288 with 1 Axes>"
            ]
          },
          "metadata": {
            "tags": [],
            "needs_background": "light"
          }
        },
        {
          "output_type": "display_data",
          "data": {
            "image/png": "[encoded data removed]",
            "text/plain": [
              "<Figure size 432x288 with 1 Axes>"
            ]
          },
          "metadata": {
            "tags": [],
            "needs_background": "light"
          }
        },
        {
          "output_type": "stream",
          "text": [
            "mean test loss: 1.9068295e-07\n",
            "mean test accuracy: 0.8520617667356798\n"
          ],
          "name": "stdout"
        }
      ]
    },
    {
      "cell_type": "code",
      "metadata": {
        "id": "AwgS_2OpOAJu"
      },
      "source": [
        "# plot_process(None, None, test_loss, None, test_accuracy)\n",
        "# print('mean test loss:', np.mean(test_loss))\n",
        "# print('mean test accuracy:', np.mean(test_accuracy))"
      ],
      "execution_count": 347,
      "outputs": []
    }
  ]
}