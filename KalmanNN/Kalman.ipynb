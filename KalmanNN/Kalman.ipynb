{
 "cells": [
  {
   "cell_type": "code",
   "execution_count": 1,
   "metadata": {},
   "outputs": [],
   "source": [
    "import numpy as np\n",
    "import random\n",
    "import math\n",
    "import matplotlib.pyplot as plt\n",
    "\n",
    "\n",
    "from scipy.linalg import block_diag"
   ]
  },
  {
   "cell_type": "code",
   "execution_count": 4,
   "metadata": {},
   "outputs": [
    {
     "name": "stdout",
     "output_type": "stream",
     "text": [
      "Q = \n",
      " [[4.88281250e-03 4.88281250e-02 2.60416667e-01 0.00000000e+00\n",
      "  0.00000000e+00 0.00000000e+00]\n",
      " [4.88281250e-02 5.20833333e-01 3.12500000e+00 0.00000000e+00\n",
      "  0.00000000e+00 0.00000000e+00]\n",
      " [2.60416667e-01 3.12500000e+00 2.50000000e+01 0.00000000e+00\n",
      "  0.00000000e+00 0.00000000e+00]\n",
      " [0.00000000e+00 0.00000000e+00 0.00000000e+00 4.88281250e-03\n",
      "  4.88281250e-02 2.60416667e-01]\n",
      " [0.00000000e+00 0.00000000e+00 0.00000000e+00 4.88281250e-02\n",
      "  5.20833333e-01 3.12500000e+00]\n",
      " [0.00000000e+00 0.00000000e+00 0.00000000e+00 2.60416667e-01\n",
      "  3.12500000e+00 2.50000000e+01]]\n",
      "F = \n",
      " [[1.      0.25    0.03125 0.      0.      0.      0.      0.      0.     ]\n",
      " [0.      1.      0.25    0.      0.      0.      0.      0.      0.     ]\n",
      " [0.      0.      1.      0.      0.      0.      0.      0.      0.     ]\n",
      " [0.      0.      0.      1.      0.25    0.03125 0.      0.      0.     ]\n",
      " [0.      0.      0.      0.      1.      0.25    0.      0.      0.     ]\n",
      " [0.      0.      0.      0.      0.      1.      0.      0.      0.     ]\n",
      " [0.      0.      0.      0.      0.      0.      1.      0.25    0.03125]\n",
      " [0.      0.      0.      0.      0.      0.      0.      1.      0.25   ]\n",
      " [0.      0.      0.      0.      0.      0.      0.      0.      1.     ]]\n"
     ]
    }
   ],
   "source": [
    "x_start = np.zeros(9) #the initial prediction\n",
    "P_start = np.eye(9) * 500. #confidence in the initial prediction\n",
    "\n",
    "dt=0.25#time step\n",
    "\n",
    "\n",
    "Q_spector_noise  = 100 #the density of the White noise / our trust in the filter\n",
    "coordinates_noise = 5 #noise sqrt(dispersion) at the radius\n",
    "R = np.eye(3) * coordinates_noise**2 #covariance matrix of measurements\n",
    "\n",
    "\n",
    "B = np.zeros(3)\n",
    "u = np.zeros(3)\n",
    "\n",
    "\n",
    "#\n",
    "#Continuous White Noise Model\n",
    "#\n",
    "#Q = Q_discrete_white_noise(dim=3, dt = 0.001, var=30)\n",
    "#print(\"Q = \\n\", Q)\n",
    "\n",
    "Q = np.array([[dt**5/20, dt**4/8, dt**3/6],\n",
    "              [dt**4/8,  dt**3/3, dt**2/2],\n",
    "              [dt**3/6,  dt**2/2, dt]])\n",
    "Q = Q * Q_spector_noise \n",
    "Q = block_diag(Q, Q)\n",
    "print(\"Q = \\n\", Q)\n",
    "\n",
    "#\n",
    "#Modeling a Dynamic System\n",
    "#\n",
    "F = np.array([[1., dt, dt**2/2],\n",
    "              [0., 1., dt     ],\n",
    "              [0., 0., 1.     ]])\n",
    "F = block_diag(F, F, F)\n",
    "print(\"F = \\n\", F)"
   ]
  },
  {
   "cell_type": "code",
   "execution_count": null,
   "metadata": {},
   "outputs": [],
   "source": []
  },
  {
   "cell_type": "code",
   "execution_count": null,
   "metadata": {},
   "outputs": [],
   "source": []
  }
 ],
 "metadata": {
  "kernelspec": {
   "display_name": "Python 3",
   "language": "python",
   "name": "python3"
  },
  "language_info": {
   "codemirror_mode": {
    "name": "ipython",
    "version": 3
   },
   "file_extension": ".py",
   "mimetype": "text/x-python",
   "name": "python",
   "nbconvert_exporter": "python",
   "pygments_lexer": "ipython3",
   "version": "3.8.3"
  }
 },
 "nbformat": 4,
 "nbformat_minor": 4
}
